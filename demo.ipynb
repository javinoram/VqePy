{
 "cells": [
  {
   "cell_type": "markdown",
   "metadata": {},
   "source": [
    "# Tutorial de uso para crear scripts y notebooks de python (VQE)\n",
    "\n",
    "La idea de este tutorial es indicar el flujo de trabajo para poder usar las funcionalidad definidas. Todo lo que se muestra a continuacion puede ser usado para scripts o para trabajar en jupyters.\n",
    "\n",
    "Hecho por: Javier Norambuena Leiva"
   ]
  },
  {
   "cell_type": "code",
   "execution_count": 1,
   "metadata": {},
   "outputs": [],
   "source": [
    "import quantumsim as qs\n",
    "import numpy as np"
   ]
  },
  {
   "cell_type": "markdown",
   "metadata": {},
   "source": [
    "## Definir sistema\n",
    "\n",
    "El primer paso es definir el sistema a trabajar ...."
   ]
  },
  {
   "cell_type": "code",
   "execution_count": null,
   "metadata": {},
   "outputs": [],
   "source": []
  },
  {
   "cell_type": "markdown",
   "metadata": {},
   "source": [
    "## Definir ansatz"
   ]
  },
  {
   "cell_type": "code",
   "execution_count": null,
   "metadata": {},
   "outputs": [],
   "source": []
  },
  {
   "cell_type": "markdown",
   "metadata": {},
   "source": [
    "## Definir optimizador"
   ]
  },
  {
   "cell_type": "code",
   "execution_count": null,
   "metadata": {},
   "outputs": [],
   "source": []
  },
  {
   "cell_type": "markdown",
   "metadata": {},
   "source": [
    "# Tutorial de uso para crear scripts y notebooks para ansatz adaptativo"
   ]
  },
  {
   "cell_type": "code",
   "execution_count": null,
   "metadata": {},
   "outputs": [],
   "source": [
    "import quantumsim as qs\n",
    "import numpy as np"
   ]
  },
  {
   "cell_type": "markdown",
   "metadata": {},
   "source": [
    "## Construir el circuito minimo\n",
    "\n",
    "De momento solo se considera para los modelos de Fermi-Hubbard y el de moleculas, no se ha implementado ansatz adaptativo para el modelo de Heisenberg.\n",
    "\n",
    "Para este ejemplo, mostraremos el como usarlo en estructuras moleculas, considerar que para el modelo de Fermi-Hubbard se usan parametros distintos."
   ]
  },
  {
   "cell_type": "code",
   "execution_count": null,
   "metadata": {},
   "outputs": [],
   "source": [
    "symbols = [\"N\", \"C\"]\n",
    "coordinates = np.array([0.0, 0.0, 2.5, 0.0, 0.0, 0.0])\n",
    "params = {\n",
    "    'mapping': \"jordan_wigner\",\n",
    "    'charge': 0, \n",
    "    'mult': 1,\n",
    "    'basis': 'sto-3g',\n",
    "    'method': 'dhf',\n",
    "}\n",
    "\n",
    "system = qs.adap_molecular(symbols, coordinates, params)"
   ]
  },
  {
   "cell_type": "code",
   "execution_count": null,
   "metadata": {},
   "outputs": [],
   "source": [
    "ansatz_params = {\n",
    "            \"repetitions\": 1,\n",
    "            \"base\": \"default.qubit\",\n",
    "            \"interface\": \"autograd\",\n",
    "            \"electrons\": 13,\n",
    "        }\n",
    "\n",
    "system.set_device( ansatz_params )\n",
    "system.set_state( ansatz_params[\"electrons\"] )\n",
    "system.set_node( ansatz_params )"
   ]
  },
  {
   "cell_type": "code",
   "execution_count": null,
   "metadata": {},
   "outputs": [],
   "source": [
    "minimizate_params = {\n",
    "    \"maxiter\": 20,\n",
    "    \"qubits\": system.qubits,\n",
    "    \"electrons\": 13,\n",
    "    \"theta\":[\"generic\", 0.3]}\n",
    "\n",
    "optimizer = qs.adap_optimizer(minimizate_params)\n",
    "minsingles, mindoubles = optimizer.MinimumCircuit(system.node)"
   ]
  },
  {
   "cell_type": "markdown",
   "metadata": {},
   "source": [
    "Lo que obtenemos de este proceso es un conjunto de operadores de una y dos excitaciones los cuales deben ser usados para construir el ansatz final.\n",
    "\n",
    "Para usar estos operadores, se tiene que usar el ansatz ''custom'', el cual permite definir una cantidad arbitraria de estos operadores para construir el ansatz."
   ]
  },
  {
   "cell_type": "code",
   "execution_count": null,
   "metadata": {},
   "outputs": [],
   "source": [
    "system = qs.vqe_molecular(symbols, coordinates, params)"
   ]
  },
  {
   "cell_type": "code",
   "execution_count": null,
   "metadata": {},
   "outputs": [],
   "source": [
    "ansatz_params = {\n",
    "    \"repetitions\": 1,\n",
    "    \"base\": \"default.qubit\",\n",
    "    \"interface\": \"autograd\",\n",
    "    \"electrons\": 13,\n",
    "    \"qubits\": system.qubits,\n",
    "}\n",
    "\n",
    "ansazt = qs.custom_ansatz()\n",
    "ansazt.set_device( ansatz_params )\n",
    "ansazt.set_node( ansatz_params )\n",
    "ansazt.set_state( ansatz_params[\"electrons\"] )\n",
    "ansazt.set_gates( singles=minsingles, doubles=mindoubles )"
   ]
  },
  {
   "cell_type": "code",
   "execution_count": null,
   "metadata": {},
   "outputs": [],
   "source": [
    "minimizate_params = {\n",
    "    \"maxiter\": 100,\n",
    "    \"tol\": 1e-6,\n",
    "    \"number\":  len(minsingles)+len(mindoubles),\n",
    "    \"theta\":[\"generic\", 0.25]}\n",
    "\n",
    "system.node = ansazt.node\n",
    "optimizer = qs.gradiend_optimizer(minimizate_params)\n",
    "energy1, optimum = optimizer.VQE( system.cost_function )"
   ]
  }
 ],
 "metadata": {
  "kernelspec": {
   "display_name": "venv",
   "language": "python",
   "name": "python3"
  },
  "language_info": {
   "codemirror_mode": {
    "name": "ipython",
    "version": 3
   },
   "file_extension": ".py",
   "mimetype": "text/x-python",
   "name": "python",
   "nbconvert_exporter": "python",
   "pygments_lexer": "ipython3",
   "version": "3.9.6"
  },
  "orig_nbformat": 4
 },
 "nbformat": 4,
 "nbformat_minor": 2
}
