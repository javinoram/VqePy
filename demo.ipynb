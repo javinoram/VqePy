{
 "cells": [
  {
   "cell_type": "markdown",
   "metadata": {},
   "source": [
    "# Tutorial de uso para crear scripts y notebooks de python (VQE)\n",
    "\n",
    "La idea de este tutorial es indicar el flujo de trabajo para poder usar las funcionalidad definidas. Todo lo que se muestra a continuacion puede ser usado para scripts o para trabajar en jupyters. En todo lo que sigue a continuacion, se trabajara con estructuras moleculares (pero la idea es la misma para otros modelos, solo hay que cambiar las clases).\n",
    "\n",
    "Hecho por: Javier Norambuena Leiva"
   ]
  },
  {
   "cell_type": "code",
   "execution_count": 1,
   "metadata": {},
   "outputs": [],
   "source": [
    "import quantumsim as qs\n",
    "import numpy as np\n",
    "import pennylane as qml"
   ]
  },
  {
   "cell_type": "markdown",
   "metadata": {},
   "source": [
    "## Definir sistema\n",
    "\n",
    "El primer paso es definir el sistema a trabajar, dependiendo del sistema con el que se quiere trabajar se necesitaran parametros distintos (mas información en la wiki del repositorio). Para este ejemplo, utilizaremos una estructura molecular con parametros basicos, existen mas parametros pero para simplicar usaremos estos."
   ]
  },
  {
   "cell_type": "code",
   "execution_count": null,
   "metadata": {},
   "outputs": [],
   "source": [
    "symbols = [\"N\", \"C\"]\n",
    "coordinates = np.array([0.0, 0.0, 2.5, 0.0, 0.0, 0.0])\n",
    "params = {\n",
    "    'mapping': \"jordan_wigner\",\n",
    "    'charge': 0, \n",
    "    'mult': 1,\n",
    "    'basis': 'sto-3g',\n",
    "    'method': 'dhf',\n",
    "}\n",
    "\n",
    "system = qs.vqe_molecular(symbols, coordinates, params)"
   ]
  },
  {
   "cell_type": "markdown",
   "metadata": {},
   "source": [
    "La variable **system** almacena la clase del hamiltoniano donde se tiene toda la información del sistema y la funcion de coste."
   ]
  },
  {
   "cell_type": "markdown",
   "metadata": {},
   "source": [
    "## Definir ansatz\n",
    "\n",
    "Al estar trabajando con una estructura molecular, los dos mejores ansatz son el UCCSD y el k-UpCCGSD. Como ambas ansatz son similares, sus parametros son los mismos, pero hay que tener en cuenta que esto no siempre ocurre.\n",
    "\n",
    "Al iniciar esta clase, no existe un constructor base, se necesita llamar de forma individual cada metodo para asignar las variables de las clases."
   ]
  },
  {
   "cell_type": "code",
   "execution_count": null,
   "metadata": {},
   "outputs": [],
   "source": [
    "ansatz_params = {\n",
    "    \"repetitions\": 1,\n",
    "    \"base\": \"default.qubit\",\n",
    "    \"interface\": \"autograd\",\n",
    "    \"electrons\": 13,\n",
    "}\n",
    "\n",
    "UCCSD_ansatz = qs.uccds_ansatz()\n",
    "UCCSD_ansatz.set_device( ansatz_params )\n",
    "UCCSD_ansatz.set_node( ansatz_params )\n",
    "UCCSD_ansatz.set_state( ansatz_params[\"electrons\"] ) "
   ]
  },
  {
   "cell_type": "code",
   "execution_count": null,
   "metadata": {},
   "outputs": [],
   "source": [
    "ansatz_params = {\n",
    "    \"repetitions\": 1,\n",
    "    \"base\": \"default.qubit\",\n",
    "    \"interface\": \"autograd\",\n",
    "    \"electrons\": 13,\n",
    "    }\n",
    "\n",
    "kUp_ansatz = qs.upccgsd_ansatz()\n",
    "kUp_ansatz.set_device( ansatz_params )\n",
    "kUp_ansatz.set_node( ansatz_params )\n",
    "kUp_ansatz.set_state( ansatz_params[\"electrons\"] ) \n",
    "\n",
    "a,b = qml.kUpCCGSD.shape(k=ansatz_params[\"repetitions\"], n_wires=system.qubits, delta_sz=0)"
   ]
  },
  {
   "cell_type": "markdown",
   "metadata": {},
   "source": [
    "## Definir optimizador\n",
    "\n",
    "El ultimo paso es construir la clase del optimizador, de momento, el unico que esta implementado es el de base en gradiente de pennylane. Lo unico que varia entre las clases definidas abajo es el numero de parametros, este numero de parametros esta definido en base al tipo de ansatz, por lo tanto, dependiendo del mismo se tendre un numero distinto. Fuera de este detalle, los parametros son los mismos."
   ]
  },
  {
   "cell_type": "code",
   "execution_count": null,
   "metadata": {},
   "outputs": [],
   "source": [
    "minimizate_params = {\n",
    "    \"maxiter\": 100,\n",
    "    \"tol\": 1e-6,\n",
    "    \"number\":  len(UCCSD_ansatz.singles) + len(UCCSD_ansatz.doubles),\n",
    "    \"theta\":[\"generic\", 0.25]}\n",
    "\n",
    "system.node = UCCSD_ansatz.node\n",
    "optimizer = qs.gradiend_optimizer( minimizate_params )\n",
    "energy1, optimum = optimizer.VQE( system.cost_function )"
   ]
  },
  {
   "cell_type": "code",
   "execution_count": null,
   "metadata": {},
   "outputs": [],
   "source": [
    "minimizate_params = {\n",
    "    \"maxiter\": 100,\n",
    "    \"tol\": 1e-6,\n",
    "    \"number\":  a*b,\n",
    "    \"theta\":[\"generic\", 0.25]}\n",
    "\n",
    "system.node = kUp_ansatz.node\n",
    "optimizer = qs.gradiend_optimizer( minimizate_params )\n",
    "energy1, optimum = optimizer.VQE( system.cost_function )"
   ]
  },
  {
   "cell_type": "markdown",
   "metadata": {},
   "source": [
    "Una vez construida la clase, lo siguiente es ejecutar uno de los metodos, definidos en la clase del optimizador, ingresando la funcion de coste (las cuales son definidas en cada clase del hamiltoniano).\n",
    "\n",
    "\n",
    "Este es el esquema final de calculo para ejecutar el VQE, como se pudo ver, gran parte es solo construccion de las clases y el resto es ejecutado por detras dentro de las clases. \n",
    "\n",
    "Si esto quiere ser pasado a un script, solo hay que tomar el codigo de cada celda y dejarlo en un mismo archivo de python."
   ]
  },
  {
   "cell_type": "markdown",
   "metadata": {},
   "source": [
    "# Tutorial de uso para crear scripts y notebooks para ansatz adaptativo\n",
    "\n",
    "El siguiente tutorial es para indicar como utilizar el adapt-VQE en el flujo de calculo del VQE.\n",
    "\n",
    "Este proceso se tiene que dividir en dos pasos:\n",
    "\n",
    "1. Construir el circuito minimo que funcionara como ansatz\n",
    "2. Ejecutar el VQE\n"
   ]
  },
  {
   "cell_type": "code",
   "execution_count": null,
   "metadata": {},
   "outputs": [],
   "source": [
    "import quantumsim as qs\n",
    "import numpy as np\n",
    "import pennylane as qml"
   ]
  },
  {
   "cell_type": "markdown",
   "metadata": {},
   "source": [
    "## Construir el circuito minimo"
   ]
  },
  {
   "cell_type": "code",
   "execution_count": null,
   "metadata": {},
   "outputs": [],
   "source": [
    "symbols = [\"N\", \"C\"]\n",
    "coordinates = np.array([0.0, 0.0, 2.5, 0.0, 0.0, 0.0])\n",
    "params = {\n",
    "    'mapping': \"jordan_wigner\",\n",
    "    'charge': 0, \n",
    "    'mult': 1,\n",
    "    'basis': 'sto-3g',\n",
    "    'method': 'dhf',\n",
    "}\n",
    "\n",
    "system = qs.adap_molecular(symbols, coordinates, params)"
   ]
  },
  {
   "cell_type": "code",
   "execution_count": null,
   "metadata": {},
   "outputs": [],
   "source": [
    "ansatz_params = {\n",
    "            \"repetitions\": 1,\n",
    "            \"base\": \"default.qubit\",\n",
    "            \"interface\": \"autograd\",\n",
    "            \"electrons\": 13,\n",
    "        }\n",
    "\n",
    "system.set_device( ansatz_params )\n",
    "system.set_state( ansatz_params[\"electrons\"] )\n",
    "system.set_node( ansatz_params )"
   ]
  },
  {
   "cell_type": "code",
   "execution_count": null,
   "metadata": {},
   "outputs": [],
   "source": [
    "minimizate_params = {\n",
    "    \"maxiter\": 20,\n",
    "    \"qubits\": system.qubits,\n",
    "    \"electrons\": 13,\n",
    "    \"theta\":[\"generic\", 0.3]}\n",
    "\n",
    "optimizer = qs.adap_optimizer(minimizate_params)\n",
    "minsingles, mindoubles = optimizer.MinimumCircuit(system.node)"
   ]
  },
  {
   "cell_type": "markdown",
   "metadata": {},
   "source": [
    "Lo que obtenemos de este proceso es un conjunto de operadores de una y dos excitaciones los cuales deben ser usados para construir el ansatz final.\n",
    "\n",
    "Para usar estos operadores, se tiene que usar el ansatz ''custom'', el cual permite definir una cantidad arbitraria de estos operadores para construir el ansatz."
   ]
  },
  {
   "cell_type": "markdown",
   "metadata": {},
   "source": [
    "## Ejecutar VQE con el circuito minimo\n",
    "\n",
    "Ahora que tenemos el circuito de minimo tamañan, lo siguiente es usar esa descripcion pra construir un ansatz para calcular el estado de minima energia.\n",
    "\n",
    "Usando la misma descipcion de symbols y coordinates, procedemos a construir el objeto de hamiltoniano para ser utilizado en el VQE."
   ]
  },
  {
   "cell_type": "code",
   "execution_count": null,
   "metadata": {},
   "outputs": [],
   "source": [
    "system = qs.vqe_molecular(symbols, coordinates, params)"
   ]
  },
  {
   "cell_type": "markdown",
   "metadata": {},
   "source": [
    "Una de las cosas que varia del flujo del tutorial anterior es el tener que usar **obligatoriamente** la clase **custom_ansatz**, ya que esta es la unica que tiene metodos para cambiar las compuertas de exitaciones simples y dobles."
   ]
  },
  {
   "cell_type": "code",
   "execution_count": null,
   "metadata": {},
   "outputs": [],
   "source": [
    "ansatz_params = {\n",
    "    \"repetitions\": 1,\n",
    "    \"base\": \"default.qubit\",\n",
    "    \"interface\": \"autograd\",\n",
    "    \"electrons\": 13,\n",
    "    \"qubits\": system.qubits,\n",
    "}\n",
    "\n",
    "ansazt = qs.custom_ansatz()\n",
    "ansazt.set_device( ansatz_params )\n",
    "ansazt.set_node( ansatz_params )\n",
    "ansazt.set_state( ansatz_params[\"electrons\"] )\n",
    "ansazt.set_gates( singles=minsingles, doubles=mindoubles )"
   ]
  },
  {
   "cell_type": "code",
   "execution_count": null,
   "metadata": {},
   "outputs": [],
   "source": [
    "minimizate_params = {\n",
    "    \"maxiter\": 100,\n",
    "    \"tol\": 1e-6,\n",
    "    \"number\":  len(minsingles)+len(mindoubles),\n",
    "    \"theta\":[\"generic\", 0.25]}\n",
    "\n",
    "system.node = ansazt.node\n",
    "optimizer = qs.gradiend_optimizer(minimizate_params)\n",
    "energy1, optimum = optimizer.VQE( system.cost_function )"
   ]
  },
  {
   "cell_type": "markdown",
   "metadata": {},
   "source": [
    "Como se pudo ver, gran parte del flujo es exactamente el mismo que para el VQE, solo se agregan un par de cambios y se indica una clase especifica de ansatz para su correcto funcionamiento, el resto es exactamente lo mismo.\n",
    "\n",
    "Este seria el flujo final para utilizar ansatz de tipo adaptativo, al igual que en el tutorial anterior, para llevarlo a un script, solo basta copias y pegar cada celda en el archivo de python seguiendo el orden expresado.\n",
    "\n"
   ]
  }
 ],
 "metadata": {
  "kernelspec": {
   "display_name": "venv",
   "language": "python",
   "name": "python3"
  },
  "language_info": {
   "codemirror_mode": {
    "name": "ipython",
    "version": 3
   },
   "file_extension": ".py",
   "mimetype": "text/x-python",
   "name": "python",
   "nbconvert_exporter": "python",
   "pygments_lexer": "ipython3",
   "version": "3.9.6"
  },
  "orig_nbformat": 4
 },
 "nbformat": 4,
 "nbformat_minor": 2
}
