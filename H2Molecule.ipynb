{
 "cells": [
  {
   "cell_type": "code",
   "execution_count": null,
   "metadata": {},
   "outputs": [],
   "source": [
    "from quantumsim.functions.ansatz import *\n",
    "from quantumsim.functions.min_methods import *\n",
    "from quantumsim.functions.funciones import *\n",
    "from quantumsim.optimizacion_structure import *\n",
    "from quantumsim.variational_quantum_eigensolver import *\n",
    "\n",
    "from pennylane import numpy as np"
   ]
  },
  {
   "cell_type": "markdown",
   "metadata": {},
   "source": [
    "# Molecula de $H^2$\n",
    "En este jupyter se estudia un dimero de hidrogeno sin campo usando el variational quantum deflation para obtener todos los eigenvalues y eigenvectors del hamiltoniano.\n",
    "\n",
    "Con estos, podemos calcular algunos observables usando la temperatura."
   ]
  },
  {
   "cell_type": "markdown",
   "metadata": {},
   "source": [
    "### Espectro energetico (sto-3g)"
   ]
  },
  {
   "cell_type": "code",
   "execution_count": null,
   "metadata": {},
   "outputs": [],
   "source": [
    "symbols = [\"H\", \"H\"]\n",
    "coordinates = np.array([0.0, 0.0, -0.6614, 0.0, 0.0, 0.6614], requires_grad=True)\n",
    "\n",
    "#Parametros del hamiltoniano molecular\n",
    "params = {\n",
    "    'mapping': \"jordan_wigner\",\n",
    "    'charge': 0, \n",
    "    'mult': 1,\n",
    "    'basis': 'sto-3g',\n",
    "    'method': 'dhf'\n",
    "}\n",
    "\n",
    "#Construccion de la clase\n",
    "molecule = vqe_molecular(symbols, coordinates, params)\n",
    "molecule.set_group_characteristics()"
   ]
  },
  {
   "cell_type": "code",
   "execution_count": null,
   "metadata": {},
   "outputs": [],
   "source": [
    "ansatz_params = {\n",
    "    \"repetitions\": 2,\n",
    "    \"base\": \"default.qubit\",\n",
    "    \"backend\": None,\n",
    "    \"interface\": \"autograd\",\n",
    "    \"shots\": 1000.0,\n",
    "    \"token\": None,\n",
    "}\n",
    "\n",
    "# Seteo de hiperparametros del circuito\n",
    "molecule.set_device( ansatz_params )\n",
    "molecule.set_node( ansatz_params )\n",
    "\n",
    "rep = molecule.qubits*ansatz_params[\"repetitions\"]"
   ]
  },
  {
   "cell_type": "code",
   "execution_count": null,
   "metadata": {},
   "outputs": [],
   "source": [
    "minimizate_params = {\n",
    "    \"type\": \"SLSQP\",\n",
    "    \"maxiter\": 100,\n",
    "    \"tol\": 0.000001,\n",
    "    \"number\": molecule.qubits*ansatz_params[\"repetitions\"]}\n",
    "\n",
    "# Ejecucion del optimizador para calcular los niveles \n",
    "# de energia\n",
    "\n",
    "optimizer = scipy_optimizer(minimizate_params)\n",
    "optimizer.set_constrains()\n",
    "\n",
    "energy, optimum = optimizer.VQD(molecule.cost_function, molecule.overlap_cost_function, 16, molecule.qubits)"
   ]
  },
  {
   "cell_type": "code",
   "execution_count": null,
   "metadata": {},
   "outputs": [],
   "source": [
    "minimizate_params = {\n",
    "    \"type\": \"SLSQP\",\n",
    "    \"step_theta\": 0.4,\n",
    "    \"step_x\": 0.4,\n",
    "    \"maxiter\": 100,\n",
    "    \"tol\": 0.000001,\n",
    "    \"number\": molecule.qubits*ansatz_params[\"repetitions\"]}\n",
    "\n",
    "optimizer2 = gradiend_optimizer(minimizate_params)\n",
    "energy, optimum = optimizer2.VQD(molecule.cost_function, molecule.overlap_cost_function, 16, molecule.qubits)"
   ]
  },
  {
   "cell_type": "code",
   "execution_count": null,
   "metadata": {},
   "outputs": [],
   "source": [
    "import matplotlib.pyplot as plt\n",
    "\n",
    "exacto = [-1.1361891 , -0.52188355, -0.52188349, -0.47844693, -0.47844693,\n",
    "        -0.4784469 , -0.40317875, -0.40317875, -0.12044625,  0.30767557,\n",
    "         0.3076756 ,  0.44909644,  0.4490965 ,  0.58332568,  0.75597221,\n",
    "         1.01609778]\n",
    "\n",
    "fig, ax = plt.subplots(1, 2, figsize=(8,4),)\n",
    "ax[0].set_xlabel('Indices', fontsize=10)\n",
    "ax[0].set_ylabel('Energy (Hartree)', fontsize=10)\n",
    "\n",
    "ax[0].plot([i+1 for i in range(16)], np.sort(energy)-1, \"o--\", label=\"VQD\")\n",
    "ax[0].plot([i+1 for i in range(16)], exacto, \"o--\", label=\"ED\")\n",
    "ax[0].legend(loc=\"upper left\", fontsize='medium',frameon=True, edgecolor='k', ncol=1)\n",
    "\n",
    "ax[1].set_xlabel('Indices', fontsize=10)\n",
    "ax[1].set_ylabel('Error', fontsize=10)\n",
    "for i in range(len(energy)):\n",
    "    ax[1].plot([i+1 for i in range(16)], [np.abs(float(j)- exacto[k]) for k,j in enumerate( np.sort(energy) )], \".\", ls=\"dashed\")\n",
    "ax[1].set_yscale(\"log\")\n",
    "\n",
    "fig.suptitle('Espectro energetico $H^2$', fontsize=12)\n",
    "fig.tight_layout()\n",
    "plt.show()"
   ]
  }
 ],
 "metadata": {
  "kernelspec": {
   "display_name": "env",
   "language": "python",
   "name": "python3"
  },
  "language_info": {
   "codemirror_mode": {
    "name": "ipython",
    "version": 3
   },
   "file_extension": ".py",
   "mimetype": "text/x-python",
   "name": "python",
   "nbconvert_exporter": "python",
   "pygments_lexer": "ipython3",
   "version": "3.9.6"
  },
  "orig_nbformat": 4
 },
 "nbformat": 4,
 "nbformat_minor": 2
}
