{
 "cells": [
  {
   "cell_type": "code",
   "execution_count": null,
   "metadata": {},
   "outputs": [],
   "source": [
    "from quantumsim.functions.ansatz import *\n",
    "from quantumsim.functions.min_methods import *\n",
    "from quantumsim.functions.funciones import *\n",
    "from quantumsim.optimizacion_structure import *\n",
    "from quantumsim.variational_quantum_eigensolver import *\n",
    "\n",
    "from pennylane import numpy as np"
   ]
  },
  {
   "cell_type": "markdown",
   "metadata": {},
   "source": [
    "# Molecula de $H^2$\n",
    "En este jupyter se estudia un dimero de hidrogeno sin campo usando el variational quantum deflation para obtener todos los eigenvalues y eigenvectors del hamiltoniano.\n",
    "\n",
    "Con estos, podemos calcular algunos observables usando la temperatura."
   ]
  },
  {
   "cell_type": "markdown",
   "metadata": {},
   "source": [
    "### Espectro energetico (sto-3g)"
   ]
  },
  {
   "cell_type": "code",
   "execution_count": null,
   "metadata": {},
   "outputs": [],
   "source": [
    "symbols = [\"H\", \"H\"]\n",
    "coordinates = np.array([0.0, 0.0, -0.6614, 0.0, 0.0, 0.6614], requires_grad=True)\n",
    "\n",
    "#Parametros del hamiltoniano molecular\n",
    "params = {\n",
    "    'mapping': \"jordan_wigner\",\n",
    "    'charge': 0, \n",
    "    'mult': 1,\n",
    "    'basis': 'sto-3g',\n",
    "    'method': 'dhf'\n",
    "}\n",
    "\n",
    "#Construccion de la clase\n",
    "molecule = vqe_molecular(symbols, coordinates, params)\n",
    "molecule.set_group_characteristics()"
   ]
  },
  {
   "cell_type": "code",
   "execution_count": null,
   "metadata": {},
   "outputs": [],
   "source": [
    "ansatz_params = {\n",
    "    \"repetitions\": 2,\n",
    "    \"base\": \"default.qubit\",\n",
    "    \"backend\": None,\n",
    "    \"interface\": \"autograd\",\n",
    "    \"shots\": 1000.0,\n",
    "    \"token\": None,\n",
    "}\n",
    "\n",
    "# Seteo de hiperparametros del circuito\n",
    "molecule.set_device( ansatz_params )\n",
    "molecule.set_node( ansatz_params )\n",
    "\n",
    "rep = molecule.qubits*ansatz_params[\"repetitions\"]"
   ]
  },
  {
   "cell_type": "code",
   "execution_count": null,
   "metadata": {},
   "outputs": [],
   "source": [
    "minimizate_params = {\n",
    "    \"type\": \"SLSQP\",\n",
    "    \"maxiter\": 100,\n",
    "    \"tol\": 0.000001,\n",
    "    \"number\": molecule.qubits*ansatz_params[\"repetitions\"]}\n",
    "\n",
    "# Ejecucion del optimizador para calcular los niveles \n",
    "# de energia\n",
    "\n",
    "optimizer = scipy_optimizer(minimizate_params)\n",
    "optimizer.set_constrains()\n",
    "\n",
    "energy, optimum = optimizer.VQD(molecule.cost_function, molecule.overlap_cost_function, 16, molecule.qubits)"
   ]
  },
  {
   "cell_type": "code",
   "execution_count": null,
   "metadata": {},
   "outputs": [],
   "source": [
    "minimizate_params = {\n",
    "    \"type\": \"SLSQP\",\n",
    "    \"step_theta\": 0.4,\n",
    "    \"step_x\": 0.4,\n",
    "    \"maxiter\": 100,\n",
    "    \"tol\": 0.000001,\n",
    "    \"number\": molecule.qubits*ansatz_params[\"repetitions\"]}\n",
    "\n",
    "optimizer2 = gradiend_optimizer(minimizate_params)\n",
    "energy, optimum = optimizer2.VQD(molecule.cost_function, molecule.overlap_cost_function, 16, molecule.qubits)"
   ]
  },
  {
   "cell_type": "code",
   "execution_count": null,
   "metadata": {},
   "outputs": [],
   "source": [
    "import matplotlib.pyplot as plt\n",
    "\n",
    "exacto = [-1.1361891 , -0.52188355, -0.52188349, -0.47844693, -0.47844693,\n",
    "        -0.4784469 , -0.40317875, -0.40317875, -0.12044625,  0.30767557,\n",
    "         0.3076756 ,  0.44909644,  0.4490965 ,  0.58332568,  0.75597221,\n",
    "         1.01609778]\n",
    "\n",
    "fig, ax = plt.subplots(1, 2, figsize=(8,4),)\n",
    "ax[0].set_xlabel('Indices', fontsize=10)\n",
    "ax[0].set_ylabel('Energy (Hartree)', fontsize=10)\n",
    "\n",
    "ax[0].plot([i+1 for i in range(16)], np.sort(energy)-1, \"o--\", label=\"VQD\")\n",
    "ax[0].plot([i+1 for i in range(16)], exacto, \"o--\", label=\"ED\")\n",
    "ax[0].legend(loc=\"upper left\", fontsize='medium',frameon=True, edgecolor='k', ncol=1)\n",
    "\n",
    "ax[1].set_xlabel('Indices', fontsize=10)\n",
    "ax[1].set_ylabel('Error', fontsize=10)\n",
    "for i in range(len(energy)):\n",
    "    ax[1].plot([i+1 for i in range(16)], [np.abs(float(j)- exacto[k]) for k,j in enumerate( np.sort(energy) )], \".\", ls=\"dashed\")\n",
    "ax[1].set_yscale(\"log\")\n",
    "\n",
    "fig.suptitle('Espectro energetico $H^2$', fontsize=12)\n",
    "fig.tight_layout()\n",
    "plt.show()"
   ]
  },
  {
   "cell_type": "markdown",
   "metadata": {},
   "source": [
    "### Espectro energetico (6-31g)"
   ]
  },
  {
   "cell_type": "code",
   "execution_count": null,
   "metadata": {},
   "outputs": [],
   "source": [
    "symbols = [\"H\", \"H\"]\n",
    "coordinates = np.array([0.0, 0.0, -0.6614, 0.0, 0.0, 0.6614], requires_grad=True)\n",
    "\n",
    "#Parametros del hamiltoniano molecular\n",
    "params = {\n",
    "    'mapping': \"jordan_wigner\",\n",
    "    'charge': 0, \n",
    "    'mult': 1,\n",
    "    'basis': '6-31g',\n",
    "    'method': 'dhf'\n",
    "}\n",
    "\n",
    "#Construccion de la clase\n",
    "molecule = vqe_molecular(symbols, coordinates, params)\n",
    "molecule.set_group_characteristics()"
   ]
  },
  {
   "cell_type": "code",
   "execution_count": null,
   "metadata": {},
   "outputs": [],
   "source": [
    "ansatz_params = {\n",
    "    \"repetitions\": 2,\n",
    "    \"base\": \"lightning.qubit\",\n",
    "    \"backend\": None,\n",
    "    \"interface\": \"autograd\",\n",
    "    \"shots\": 1000.0,\n",
    "    \"token\": None,\n",
    "}\n",
    "\n",
    "# Seteo de hiperparametros del circuito\n",
    "molecule.set_device( ansatz_params )\n",
    "molecule.set_node( ansatz_params )\n",
    "\n",
    "rep = molecule.qubits*ansatz_params[\"repetitions\"]"
   ]
  },
  {
   "cell_type": "code",
   "execution_count": null,
   "metadata": {},
   "outputs": [],
   "source": [
    "minimizate_params = {\n",
    "    \"type\": \"SLSQP\",\n",
    "    \"maxiter\": 100,\n",
    "    \"tol\": 0.000001,\n",
    "    \"number\": molecule.qubits*ansatz_params[\"repetitions\"]}\n",
    "\n",
    "# Ejecucion del optimizador para calcular los niveles \n",
    "# de energia\n",
    "\n",
    "optimizer = scipy_optimizer(minimizate_params)\n",
    "optimizer.set_constrains()\n",
    "energy, optimum = optimizer.VQD(molecule.cost_function, molecule.overlap_cost_function, 2**8, molecule.qubits)"
   ]
  },
  {
   "cell_type": "code",
   "execution_count": null,
   "metadata": {},
   "outputs": [],
   "source": [
    "exacto = [-1.15015652, -0.90214058, -0.90214058, -0.73210246, -0.73210246,\n",
    "       -0.73210246, -0.57496493, -0.54501365, -0.54501365, -0.4573917 ,\n",
    "       -0.4573917 , -0.40656487, -0.40656487, -0.30155458, -0.30155458,\n",
    "       -0.30155458, -0.29116099, -0.14216493, -0.14216493, -0.14216493,\n",
    "       -0.14216493, -0.10837638, -0.02759726, -0.02759726,  0.0144269 ,\n",
    "        0.11888473,  0.11888473,  0.16377376,  0.16377376,  0.16377376,\n",
    "        0.16409712,  0.16409712,  0.22755196,  0.27390298,  0.27390298,\n",
    "        0.27390298,  0.29873517,  0.29873517,  0.31199174,  0.3470265 ,\n",
    "        0.3470265 ,  0.3470265 ,  0.4552315 ,  0.4552315 ,  0.4552315 ,\n",
    "        0.4552315 ,  0.48030427,  0.48030427,  0.48803866,  0.48803866,\n",
    "        0.48803866,  0.52317769,  0.52317769,  0.5777653 ,  0.5777653 ,\n",
    "        0.64804208,  0.66256352,  0.66256352,  0.69633705,  0.75597218,\n",
    "        0.79397114,  0.81107038,  0.81844135,  0.81844135,  0.83791976,\n",
    "        0.83791976,  0.83791976,  0.86820405,  0.86820405,  0.86820405,\n",
    "        0.9191889 ,  0.9191889 ,  0.9191889 ,  0.9191889 ,  0.95013255,\n",
    "        0.95013255,  0.95885311,  1.02158711,  1.02158711,  1.02158711,\n",
    "        1.02578057,  1.05037131,  1.05037131,  1.13121933,  1.13121933,\n",
    "        1.13399032,  1.13399032,  1.15354555,  1.15354555,  1.15354555,\n",
    "        1.15365866,  1.25297179,  1.25297179,  1.25297179,  1.29860265,\n",
    "        1.29860265,  1.33260626,  1.33260626,  1.38236489,  1.40630099,\n",
    "        1.40630099,  1.40630099,  1.40630099,  1.41290225,  1.41290225,\n",
    "        1.41290225,  1.45164037,  1.45164037,  1.45164037,  1.45164037,\n",
    "        1.45164037,  1.50612659,  1.51017633,  1.55128046,  1.55128046,\n",
    "        1.64638101,  1.64638101,  1.64638101,  1.73997   ,  1.74167811,\n",
    "        1.74167811,  1.74572592,  1.74572592,  1.84606241,  1.84606241,\n",
    "        1.84606241,  1.85191412,  1.85191412,  1.91574849,  1.94018169,\n",
    "        1.94018169,  1.94018169,  1.99664825,  1.99664825,  2.00870016,\n",
    "        2.00870016,  2.03706308,  2.05418604,  2.06691605,  2.06691605,\n",
    "        2.06691605,  2.10441228,  2.10441228,  2.32578779,  2.32578779,\n",
    "        2.32841073,  2.32841073,  2.32841073,  2.32841073,  2.35419242,\n",
    "        2.3903518 ,  2.3903518 ,  2.3903518 ,  2.42852852,  2.42852852,\n",
    "        2.44884269,  2.50910562,  2.50910562,  2.50910562,  2.50910562,\n",
    "        2.58092517,  2.58092517,  2.58092517,  2.58485309,  2.68602724,\n",
    "        2.68602724,  2.68602724,  2.73587659,  2.73587659,  2.79240792,\n",
    "        2.80601128,  2.80601128,  2.80688101,  2.82419289,  2.82419289,\n",
    "        2.96995983,  2.96995983,  3.01558428,  3.06116047,  3.20609338,\n",
    "        3.20609338,  3.20609338,  3.30590693,  3.30590693,  3.34177717,\n",
    "        3.34177717,  3.34177717,  3.34177717,  3.41591048,  3.43773992,\n",
    "        3.43773992,  3.47580605,  3.47580605,  3.47580605,  3.48808675,\n",
    "        3.48808675,  3.52960214,  3.55970721,  3.55970721,  3.64811837,\n",
    "        3.64811837,  3.6735423 ,  3.6735423 ,  3.6735423 ,  3.7229796 ,\n",
    "        3.7229796 ,  4.0875669 ,  4.16250705,  4.16250705,  4.16756108,\n",
    "        4.16756108,  4.16756108,  4.16756108,  4.28725791,  4.30713719,\n",
    "        4.30713719,  4.44280202,  4.44280202,  4.54833099,  4.54833099,\n",
    "        4.63963575,  4.63963575,  4.63963575,  4.68744431,  4.7613104 ,\n",
    "        4.7613104 ,  4.7613104 ,  4.77432143,  4.89455627,  5.2457357 ,\n",
    "        5.2457357 ,  5.3567051 ,  5.3567051 ,  5.50963969,  5.50963969,\n",
    "        5.50963969,  5.55671226,  5.60502757,  5.60502757,  5.60502757,\n",
    "        5.78581477,  6.35072137,  6.35072137,  6.61390269,  6.61390269,\n",
    "        6.61390269,  6.61907485,  6.76895633,  6.82688661,  7.22161907,\n",
    "        7.22161907,  8.38070061,  8.38070061,  8.41907344,  8.41907344,\n",
    "       10.46427032]"
   ]
  },
  {
   "cell_type": "code",
   "execution_count": null,
   "metadata": {},
   "outputs": [],
   "source": [
    "import matplotlib.pyplot as plt\n",
    "\n",
    "#exacto = [-1.1361891 , -0.52188355, -0.52188349, -0.47844693, -0.47844693,\n",
    "#        -0.4784469 , -0.40317875, -0.40317875, -0.12044625,  0.30767557,\n",
    "#         0.3076756 ,  0.44909644,  0.4490965 ,  0.58332568,  0.75597221,\n",
    "#         1.01609778]\n",
    "\n",
    "fig, ax = plt.subplots(1, 2, figsize=(8,4),)\n",
    "ax[0].set_xlabel('Indices', fontsize=10)\n",
    "ax[0].set_ylabel('Energy (Hartree)', fontsize=10)\n",
    "\n",
    "ax[0].plot([i for i in range(16)], np.sort(energy), \"o--\", label=\"VQD\")\n",
    "ax[0].plot([i for i in range(len(exacto))], exacto, \"o--\", label=\"ED\")\n",
    "ax[0].legend(loc=\"upper left\", fontsize='medium',frameon=True, edgecolor='k', ncol=1)\n",
    "\n",
    "ax[1].set_xlabel('Indices', fontsize=10)\n",
    "ax[1].set_ylabel('Error', fontsize=10)\n",
    "for i in range(len(energy)):\n",
    "    ax[1].plot([i for i in range(16)], [np.abs(float(j)- exacto[k]) for k,j in enumerate( np.sort(energy) )], \".\", ls=\"dashed\")\n",
    "ax[1].set_yscale(\"log\")\n",
    "\n",
    "fig.suptitle('Espectro energetico $H^2$', fontsize=12)\n",
    "fig.tight_layout()\n",
    "plt.show()"
   ]
  }
 ],
 "metadata": {
  "kernelspec": {
   "display_name": "env",
   "language": "python",
   "name": "python3"
  },
  "language_info": {
   "codemirror_mode": {
    "name": "ipython",
    "version": 3
   },
   "file_extension": ".py",
   "mimetype": "text/x-python",
   "name": "python",
   "nbconvert_exporter": "python",
   "pygments_lexer": "ipython3",
   "version": "3.9.6"
  },
  "orig_nbformat": 4
 },
 "nbformat": 4,
 "nbformat_minor": 2
}
