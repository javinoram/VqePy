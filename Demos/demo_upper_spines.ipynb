{
 "cells": [
  {
   "attachments": {},
   "cell_type": "markdown",
   "metadata": {},
   "source": [
    "# VQE for upper spins\n",
    "\n",
    "Author: Javier Norambuena Leiva — Posted: . Last updated: .\n",
    "\n",
    "Here we discust how to implement the variational quantum eigensolver for spin systems (chain , rings and more complex structures) when this one is different of one half."
   ]
  },
  {
   "cell_type": "code",
   "execution_count": 1,
   "metadata": {},
   "outputs": [],
   "source": [
    "import math\n",
    "import itertools\n",
    "import pennylane as qml\n",
    "from pennylane import qchem\n",
    "from pennylane import numpy as np\n",
    "import scipy.linalg as la\n",
    "import scipy as sc"
   ]
  },
  {
   "attachments": {},
   "cell_type": "markdown",
   "metadata": {},
   "source": [
    "## The main idea\n",
    "\n",
    "The variational quantum eigensolver (VQE) is a central computational method in the NISQ era for its robustness against noise. The majority of tutorials that involve VQE with a Heisenberg model only consider the base case, which is spin one-half.\n",
    "\n",
    "This is a limitation when one tries to study spin systems that have upper spins, for example, the single molecular magnet 3Ni is studied with a Heisenberg model, but each site has a spin of one. Here, we propose an approach to studying this kind of system when the spin of the model is different from one-half.\n",
    "\n",
    "To perform this, we need to focus on two things: the expected value formula and the basis representation. Let's begin with the latter. Let's consider a spin-1. We know that this spin is represented as a three-level system. Therefore, an arbitrary state is written as:\n",
    "\n",
    "$$\\ket{\\psi} = \\alpha\\ket{0} + \\beta\\ket{1} + \\gamma\\ket{2}$$\n",
    "\n",
    "The key idea is to try to rewrite these three states into an n-qubit set. Thus, we need to find the minimum number of qubits that allow us to contain our set of states in the basis of the n-qubit. For our example case, we need two qubits. So, we can encode it like this:\n",
    "\n",
    "$$\\ket{0} \\longrightarrow \\ket{00}$$\n",
    "$$\\ket{1} \\longrightarrow \\ket{01}$$\n",
    "$$\\ket{2} \\longrightarrow \\ket{10}$$\n",
    "\n",
    "This leaves us with a state in the qubit that doesn't have any meaning. Thus, we need to tell the method to try not to choose the left state. A naive idea could be to add a penalty term if some samples go to the left state.\n",
    "\n",
    "Let's leave this for a moment and move to the expected value formula. Let's remember the formula for the expected value of the Z Pauli operator of spin one-half:\n",
    "\n",
    "$$ \\bra{\\psi}Z\\ket{\\psi} = \\bra{\\psi}( \\ket{0}\\bra{0} - \\ket{1}\\bra{1} )\\ket{\\psi} = |\\bra{0}\\ket{\\psi}|^2 - |\\bra{1}\\ket{\\psi}|^2$$\n",
    "\n",
    "As we can see, the expected value is the difference of the projection of $\\ket{\\psi}$ into the basis states. This approach is the same for upper spins. If we change to the Z Pauli operator of spin one, the formula changes a little bit:\n",
    "\n",
    "$$ \\bra{\\psi}Z\\ket{\\psi} = \\bra{\\psi}( \\ket{0}\\bra{0} - \\ket{2}\\bra{2} )\\ket{\\psi} = |\\bra{0}\\ket{\\psi}|^2 - |\\bra{2}\\ket{\\psi}|^2$$\n",
    "\n",
    "And as we defined above, this probability can be written in the 2-qubit basis, giving us the following result:\n",
    "$$ |\\bra{00}\\ket{\\psi}|^2 - |\\bra{10}\\ket{\\psi}|^2$$\n",
    "\n",
    "The before formula was for one qutrit, but what happen with interaction between qutrit. Two qutrit create a space of 9 basis states, so we need 4-qubits to represent it, but how we codify this,  \n",
    "\n",
    "This idea for spin one can be used for every spin with the condition of knowing the states that compose the Z Pauli operator (in other words, having the matrix).\n",
    "\n",
    "Here, you can find the explicit definition of the Pauli matrices for spin 5/2 (https://easyspin.org/easyspin/documentation/spinoperators.html)."
   ]
  },
  {
   "attachments": {},
   "cell_type": "markdown",
   "metadata": {},
   "source": [
    "## System definition\n",
    "\n",
    "Let consider a ring of three qudits of spin 1 and 1/5 that is represented using a Heisenberg model without external field, to represent the hamiltonian, we will use a list of Pauli string representation."
   ]
  },
  {
   "cell_type": "code",
   "execution_count": null,
   "metadata": {},
   "outputs": [],
   "source": [
    "nr_qudits = 3\n",
    "list_spins = [1.0, 1.5, 2.0]\n"
   ]
  },
  {
   "attachments": {},
   "cell_type": "markdown",
   "metadata": {},
   "source": [
    "## Creation of Ansatz Circuit"
   ]
  },
  {
   "cell_type": "code",
   "execution_count": null,
   "metadata": {},
   "outputs": [],
   "source": [
    "def single_rotation(phi_params, qubits, spin):\n",
    "        phi_params = np.array(phi_params).T\n",
    "        correction = math.ceil( (int( 2*spin+1 ))/2  )\n",
    "        for i in range( 0, qubits):\n",
    "            for j in range(correction):\n",
    "                qml.RZ(phi_params[i][0], wires=[correction*i+j])\n",
    "                qml.RY(phi_params[i][1], wires=[correction*i+j])\n",
    "                qml.RX(phi_params[i][2], wires=[correction*i+j])\n",
    "        return\n",
    "\n",
    "def non_local_gates(phi_params, qubits, spin):\n",
    "        correction = math.ceil( (int( 2*spin+1 ))/2  )\n",
    "        for i in range(0, qubits-1):\n",
    "            for j in range(correction):\n",
    "                qml.CRX(phi_params[i], [correction*i+j, correction*(i+1)+j])\n",
    "        return"
   ]
  },
  {
   "cell_type": "code",
   "execution_count": null,
   "metadata": {},
   "outputs": [],
   "source": [
    "def quantum_circuit(qubits, spin, repetition, rotation_params, coupling_params, wire, sample=None):\n",
    "        correction = math.ceil( (int( 2*spin+1 ))/2  )\n",
    "        qml.BasisState(sample, wires=range(correction*qubits))\n",
    "        for i in range(0, repetition):\n",
    "            single_rotation(rotation_params[i], qubits, spin)\n",
    "            non_local_gates(coupling_params[i], qubits, spin)\n",
    "        index_wire = []\n",
    "        for w in wire:\n",
    "            for i in range(correction):\n",
    "                index_wire.append( correction*w + i)\n",
    "        return qml.counts(wires=index_wire)"
   ]
  },
  {
   "attachments": {},
   "cell_type": "markdown",
   "metadata": {},
   "source": [
    "## Cost function"
   ]
  },
  {
   "cell_type": "code",
   "execution_count": null,
   "metadata": {},
   "outputs": [],
   "source": [
    "def cost_function_VQE(theta: list) -> float:\n",
    "        ansatz_params_1 = theta[0 :number_nonlocal]\n",
    "        ansatz_params_2 = theta[number_nonlocal: ]\n",
    "        coupling = np.split(ansatz_params_1, self.repetition)\n",
    "        split = np.split(ansatz_params_2, self.repetition)\n",
    "        rotation = []\n",
    "        for s in split:\n",
    "            rotation.append(np.split(s, 3))\n",
    "\n",
    "        if self.spin != 0.5:\n",
    "            result= 0.0\n",
    "            for i, term in enumerate(self.hamiltonian_index):\n",
    "                result_term = self.node( qubits= self.number_qubits, spin=self.spin, rotation_params = rotation, coupling_params = coupling, wire = term, sample=state )\n",
    "                for _, dict_term in enumerate( conts_spin[ str(self.spin) ][\"2\"] ):\n",
    "                    if dict_term in result_term:\n",
    "                        exchange = self.hamiltonian_object[i][1]\n",
    "                        prob = result_term[dict_term]/3000.0\n",
    "                        const_state = conts_spin[ str(self.spin) ][\"2\"][dict_term]\n",
    "                        result += exchange*prob*const_state\n",
    "        else:\n",
    "            result = self.node( qubits= self.number_qubits, spin=self.spin, rotation_params = rotation, \n",
    "                coupling_params = coupling, wire = range(self.number_qubits), sample=state, system_object= self.hamiltonian_object )\n",
    "            print(result)\n",
    "        return result"
   ]
  },
  {
   "cell_type": "code",
   "execution_count": null,
   "metadata": {},
   "outputs": [],
   "source": [
    "hf = qml.qchem.hf_state(electrons*correction, self.number_qubits*correction)\n",
    "general_cost_function = lambda theta: self.cost_function_VQE(theta, hf)\n",
    "xs = sc.optimize.minimize(general_cost_function, theta, method=self.optimization_method[0],\n",
    "    options=self.optimization_alg_params[0])['x']"
   ]
  },
  {
   "attachments": {},
   "cell_type": "markdown",
   "metadata": {},
   "source": [
    "## Numerical test"
   ]
  }
 ],
 "metadata": {
  "kernelspec": {
   "display_name": "env",
   "language": "python",
   "name": "python3"
  },
  "language_info": {
   "codemirror_mode": {
    "name": "ipython",
    "version": 3
   },
   "file_extension": ".py",
   "mimetype": "text/x-python",
   "name": "python",
   "nbconvert_exporter": "python",
   "pygments_lexer": "ipython3",
   "version": "3.9.6"
  },
  "orig_nbformat": 4
 },
 "nbformat": 4,
 "nbformat_minor": 2
}
