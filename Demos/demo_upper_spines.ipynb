{
 "cells": [
  {
   "attachments": {},
   "cell_type": "markdown",
   "metadata": {},
   "source": [
    "# VQE for upper spins\n",
    "\n",
    "Author: Javier Norambuena Leiva — Posted: . Last updated: .\n",
    "\n",
    "Here we discust and test how to implement the variational quantum eigensolver for spin systems (chain , rings and more complex structures) when this one is different of one half. In the following section we see the different formulas to calculate the expected value and how to construct the ansatz in a simple way."
   ]
  },
  {
   "cell_type": "code",
   "execution_count": 29,
   "metadata": {},
   "outputs": [],
   "source": [
    "import math\n",
    "import itertools\n",
    "import pennylane as qml\n",
    "from pennylane import qchem\n",
    "from pennylane import numpy as np\n",
    "import scipy.linalg as la\n",
    "import scipy as sc\n",
    "import random\n",
    "import matplotlib.pyplot as plt\n",
    "\n",
    "random.seed(42)"
   ]
  },
  {
   "attachments": {},
   "cell_type": "markdown",
   "metadata": {},
   "source": [
    "## The main idea\n",
    "\n",
    "The variational quantum eigensolver (VQE) is a central computational method in the NISQ era for its robustness against noise. The majority of tutorials that involve VQE with a Heisenberg model only consider the base case, which is spin one-half.\n",
    "\n",
    "This is a limitation when one tries to study spin systems that have upper spins, for example, the single molecular magnet 3Ni is studied with a Heisenberg model, but each site has a spin of one. Here, we propose an approach to studying this kind of system when the spin of the model is different from one-half.\n",
    "\n",
    "To perform this, we need to focus on two things: the expected value formula and the basis representation. Let's begin with the latter. Let's consider a spin-1. We know that this spin is represented as a three-level system. Therefore, an arbitrary state is written as:\n",
    "\n",
    "$$\\ket{\\psi} = \\alpha\\ket{0} + \\beta\\ket{1} + \\gamma\\ket{2}$$\n",
    "\n",
    "The key idea is to try to rewrite these three states into an n-qubit set. Thus, we need to find the minimum number of qubits that allow us to contain our set of states in the basis of the n-qubit. For our example case, we need two qubits. So, we can encode it like this:\n",
    "\n",
    "$$\\ket{0} \\longrightarrow \\ket{00}$$\n",
    "$$\\ket{1} \\longrightarrow \\ket{01}$$\n",
    "$$\\ket{2} \\longrightarrow \\ket{10}$$\n",
    "\n",
    "This leaves us with a state in the qubit that doesn't have any meaning. Thus, we need to tell the method to try not to choose the left state. A naive idea could be to add a penalty term if some samples go to the left state.\n",
    "\n",
    "Let's leave this for a moment and move to the expected value formula. Let's remember the formula for the expected value of the Z Pauli operator of spin one-half:\n",
    "\n",
    "$$ \\bra{\\psi}Z\\ket{\\psi} = \\bra{\\psi}( \\ket{0}\\bra{0} - \\ket{1}\\bra{1} )\\ket{\\psi} = |\\bra{0}\\ket{\\psi}|^2 - |\\bra{1}\\ket{\\psi}|^2$$\n",
    "\n",
    "As we can see, the expected value is the difference of the projection of $\\ket{\\psi}$ into the basis states. This approach is the same for upper spins. If we change to the Z Pauli operator of spin one, the formula changes a little bit:\n",
    "\n",
    "$$ \\bra{\\psi}Z\\ket{\\psi} = \\bra{\\psi}( \\ket{0}\\bra{0} - \\ket{2}\\bra{2} )\\ket{\\psi} = |\\bra{0}\\ket{\\psi}|^2 - |\\bra{2}\\ket{\\psi}|^2$$\n",
    "\n",
    "And as we defined above, this probability can be written in the 2-qubit basis, giving us the following result:\n",
    "$$ |\\bra{00}\\ket{\\psi}|^2 - |\\bra{10}\\ket{\\psi}|^2$$\n",
    "\n",
    "The before formula was for one qutrit, but what happen with interaction between qutrit. Two qutrit create a space of 9 basis states, so we need 4-qubits to represent it, but how we codify this,  \n",
    "\n",
    "This idea for spin one can be used for every spin with the condition of knowing the states that compose the Z Pauli operator (in other words, having the matrix).\n",
    "\n",
    "Here, you can find the explicit definition of the Pauli matrices for spin 5/2 (https://easyspin.org/easyspin/documentation/spinoperators.html)."
   ]
  },
  {
   "attachments": {},
   "cell_type": "markdown",
   "metadata": {},
   "source": [
    "## System definition\n",
    "\n",
    "For simplicity, let consider a ring of three qudits of spin 1 and 1/5 that is represented using a Heisenberg model with only Z interaction without a external field, to represent the hamiltonian, we will use a list of Pauli string representation."
   ]
  },
  {
   "cell_type": "code",
   "execution_count": 2,
   "metadata": {},
   "outputs": [],
   "source": [
    "nr_qudits = 3\n",
    "list_spines = [0.5, 1, 1.5]\n",
    "J = 1\n",
    "\n",
    "Hamiltonian = [(('ZZI', -J)), (('IZZ', -J)), (('ZIZ', -J))]\n",
    "Hamiltonian_index = [ [0,1], [1,2], [0,2] ]"
   ]
  },
  {
   "attachments": {},
   "cell_type": "markdown",
   "metadata": {},
   "source": [
    "## Creation of Ansatz Circuit\n",
    "\n",
    "As we need to treat with a bigger set of states, it's necessary explain how to construct the ansatz that will help to find the ground state energy. To ..."
   ]
  },
  {
   "cell_type": "code",
   "execution_count": 3,
   "metadata": {},
   "outputs": [],
   "source": [
    "def single_rotation(phi_params, qubits, spin):\n",
    "        correction = math.ceil( (int( 2*spin+1 ))/2  )\n",
    "        for i in range( 0, qubits):\n",
    "            for j in range(correction):\n",
    "                qml.RZ(phi_params[i][0], wires=[correction*i+j])\n",
    "                qml.RY(phi_params[i][1], wires=[correction*i+j])\n",
    "                qml.RX(phi_params[i][2], wires=[correction*i+j])\n",
    "        return\n",
    "\n",
    "def non_local_gates(phi_params, qubits, spin):\n",
    "        correction = math.ceil( (int( 2*spin+1 ))/2  )\n",
    "        for i in range(0, qubits-1):\n",
    "            for j in range(correction):\n",
    "                qml.CRX(phi_params[i], [correction*i+j, correction*(i+1)+j])\n",
    "        qml.CRX(phi_params[i], [correction*(i+1)+j,0])\n",
    "        return"
   ]
  },
  {
   "cell_type": "code",
   "execution_count": 12,
   "metadata": {},
   "outputs": [],
   "source": [
    "def quantum_circuit(qubits, spin, repetition, params, wire):\n",
    "    correction = math.ceil( (int( 2*spin+1 ))/2  )\n",
    "    qml.BasisState([0 for _ in range(correction*qubits)], wires=range(correction*qubits))\n",
    "    for i in range(0, repetition):\n",
    "        single_rotation(params[0][i], qubits, spin)\n",
    "        non_local_gates(params[1][i], qubits, spin)\n",
    "    index_wire = []\n",
    "    for w in wire:\n",
    "        for i in range(correction):\n",
    "            index_wire.append( correction*w + i)\n",
    "    return qml.counts(wires=index_wire)"
   ]
  },
  {
   "attachments": {},
   "cell_type": "markdown",
   "metadata": {},
   "source": [
    "## Cost function\n",
    "\n",
    "The cost function is the same of VQE but rewrited in the following way.\n",
    "$$E_0 = \\bra{\\phi} H \\ket{\\phi} = \\bra{\\phi} (\\sum_i -Jh_i) \\ket{\\phi} = \\sum_i -J \\bra{\\phi}h_i\\ket{\\phi}$$\n",
    "\n",
    "Each $h_i$ can be rewrited as $h_i=\\sum_j c_j\\ket{j}\\bra{j}$, where $c_j$ is a complex constant. Mixing this two things, we obtaing the following formula.\n",
    "\n",
    "$$ \\bra{\\phi} H \\ket{\\phi} = \\sum_i -J \\bra{\\phi}h_i\\ket{\\phi} = \\sum_i -J (\\sum_j c_j |\\bra{\\phi}\\ket{j}|^2)$$\n",
    "\n",
    "The term $|\\bra{\\phi}\\ket{j}|^2$ correspond to the probability of measure the basis state $j$, with this formula, we only need the coefficient $c_j$ in order to calculate the expected value.\n"
   ]
  },
  {
   "cell_type": "code",
   "execution_count": 6,
   "metadata": {},
   "outputs": [],
   "source": [
    "conts_spin = {\"0.5\": {'00':1, '11':1, '01': -1, '10':-1},\n",
    "            \"1\": {'0000':1, '1010':1, '0010': -1, '1000':-1},\n",
    "            \"1.5\": {'0000':9/4, '0001':3/4, '0010':-3/4, '0011':-9/4, \n",
    "                    '0100':3/4, '0101':1/4, '0110':-1/4, '0111':-3/4,\n",
    "                    '1000':-3/4, '1001':-1/4, '1010':1/4, '1011':-3/4,\n",
    "                    '1100':-9/4, '1101':-3/4, '1110':3/4, '1111':9/4},\n",
    "    }\n",
    "\n",
    "\n",
    "repetition = 7\n",
    "local_number = 3*nr_qudits*repetition\n",
    "non_local_number = int( (nr_qudits+1)*repetition )"
   ]
  },
  {
   "cell_type": "code",
   "execution_count": 24,
   "metadata": {},
   "outputs": [],
   "source": [
    "dict_evolution =  {\"0.5\":[], \"1\":[], \"1.5\":[],}\n",
    "\n",
    "def cost_function(theta: list, spin, node) -> float:\n",
    "        ansatz_params_1 = theta[0 : non_local_number]\n",
    "        ansatz_params_2 = theta[non_local_number: ]\n",
    "\n",
    "        coupling = np.split(ansatz_params_1, repetition)\n",
    "        split = np.split(ansatz_params_2, repetition)\n",
    "        rotation = []\n",
    "        for s in split:\n",
    "            rotation.append(np.split(s, 3))\n",
    "\n",
    "        result= 0.0\n",
    "        for i, term in enumerate(Hamiltonian_index):\n",
    "            result_term = node( qubits= nr_qudits, spin=spin, repetition = repetition,\n",
    "                params=[rotation,coupling], wire = term)\n",
    "            for _, dict_term in enumerate( conts_spin[ str(spin) ] ):\n",
    "                if dict_term in result_term:\n",
    "                    exchange = Hamiltonian[i][1]\n",
    "                    prob = result_term[dict_term]/2000\n",
    "                    const_state = conts_spin[ str(spin) ][dict_term]\n",
    "                    result += exchange*prob*const_state\n",
    "        #dict_evolution[str(spin)].append(result)\n",
    "        return result"
   ]
  },
  {
   "attachments": {},
   "cell_type": "markdown",
   "metadata": {},
   "source": [
    "## Execution of VQE"
   ]
  },
  {
   "attachments": {},
   "cell_type": "markdown",
   "metadata": {},
   "source": [
    "### Spin $\\frac{1}{2}$"
   ]
  },
  {
   "cell_type": "code",
   "execution_count": 18,
   "metadata": {},
   "outputs": [],
   "source": [
    "spin = 0.5\n",
    "shots = 10000\n",
    "correction = math.ceil( (int( 2*spin+1 ))/2  )\n",
    "\n",
    "device = qml.device( \"default.qubit\" , wires=correction*nr_qudits, shots=shots)\n",
    "node = qml.QNode(quantum_circuit, device, interface=\"autograd\")"
   ]
  },
  {
   "cell_type": "code",
   "execution_count": 26,
   "metadata": {},
   "outputs": [],
   "source": [
    "def cost_function(theta: list) -> float:\n",
    "        ansatz_params_1 = theta[0 : non_local_number]\n",
    "        ansatz_params_2 = theta[non_local_number: ]\n",
    "\n",
    "        coupling = np.split(ansatz_params_1, repetition)\n",
    "        split = np.split(ansatz_params_2, repetition)\n",
    "        rotation = []\n",
    "        for s in split:\n",
    "            rotation.append(np.split(s, 3))\n",
    "\n",
    "        result= 0.0\n",
    "        for i, term in enumerate(Hamiltonian_index):\n",
    "            result_term = node( qubits= nr_qudits, spin=spin, repetition = repetition,\n",
    "                params=[rotation,coupling], wire = term)\n",
    "            for _, dict_term in enumerate( conts_spin[ str(spin) ] ):\n",
    "                if dict_term in result_term:\n",
    "                    exchange = Hamiltonian[i][1]\n",
    "                    prob = result_term[dict_term]/shots\n",
    "                    const_state = conts_spin[ str(spin) ][dict_term]\n",
    "                    result += exchange*prob*const_state\n",
    "        #dict_evolution[str(spin)].append(result)\n",
    "        return result"
   ]
  },
  {
   "cell_type": "code",
   "execution_count": 41,
   "metadata": {},
   "outputs": [
    {
     "name": "stdout",
     "output_type": "stream",
     "text": [
      "[-3.0, -3.0]\n"
     ]
    }
   ],
   "source": [
    "theta = np.array( [0.0 for _ in range(local_number + non_local_number)], requires_grad=False)\n",
    "energy = [cost_function(theta)]\n",
    "opt = qml.GradientDescentOptimizer(stepsize=0.3)\n",
    "xs = theta\n",
    "for _ in range(100):\n",
    "    xs, prev_energy = opt.step_and_cost(cost_function, xs)\n",
    "    energy.append( cost_function(xs) )\n",
    "\n",
    "    if np.abs(energy[-1] - prev_energy) <= 10e-6:\n",
    "        break\n",
    "print(energy)"
   ]
  },
  {
   "attachments": {},
   "cell_type": "markdown",
   "metadata": {},
   "source": [
    "### Spin $1$"
   ]
  },
  {
   "cell_type": "code",
   "execution_count": 22,
   "metadata": {},
   "outputs": [],
   "source": [
    "spin = 1\n",
    "shots =  2500\n",
    "correction = math.ceil( (int( 2*spin+1 ))/2  )\n",
    "hf = qml.qchem.hf_state(2*correction, nr_qudits*correction)\n",
    "theta = np.array( [np.random.randint(-300, 300) / 100  for _ in range(local_number + non_local_number)])\n",
    "\n",
    "device = qml.device( \"default.qubit\" , wires=correction*nr_qudits, shots=shots)\n",
    "node = qml.QNode(quantum_circuit, device, interface=\"autograd\")\n",
    "\n",
    "general_cost_function = lambda theta: cost_function_VQE(theta, hf, spin, node, shots)\n",
    "xs = sc.optimize.minimize(general_cost_function, theta, method='COBYLA',\n",
    "        options={'tol': 1e-6, 'maxiter': 1000})['x']"
   ]
  },
  {
   "attachments": {},
   "cell_type": "markdown",
   "metadata": {},
   "source": [
    "### Spin $\\frac{3}{2}$"
   ]
  },
  {
   "cell_type": "code",
   "execution_count": 23,
   "metadata": {},
   "outputs": [],
   "source": [
    "spin = 1.5\n",
    "shots = 2500\n",
    "correction = math.ceil( (int( 2*spin+1 ))/2  )\n",
    "hf = qml.qchem.hf_state(2*correction, nr_qudits*correction)\n",
    "theta = np.array( [np.random.randint(-300, 300) / 100  for _ in range(local_number + non_local_number)])\n",
    "\n",
    "device = qml.device( \"default.qubit\" , wires=correction*nr_qudits, shots=shots)\n",
    "node = qml.QNode(quantum_circuit, device, interface=\"autograd\")\n",
    "\n",
    "general_cost_function = lambda theta: cost_function_VQE(theta, hf, spin, node, shots)\n",
    "xs = sc.optimize.minimize(general_cost_function, theta, method='COBYLA',\n",
    "        options={'tol': 1e-6, 'maxiter': 1000})['x']"
   ]
  },
  {
   "attachments": {},
   "cell_type": "markdown",
   "metadata": {},
   "source": [
    "## Exact result\n",
    "\n",
    "Now we need to compare with the actual solution of the previous situation, here we will calculate the eigenvalues using the matrix description of the Z pauli matrix and the eigensolver function of numpy.\n",
    "\n",
    "The following shell show the matrix representation of the Z operation of different spines, as we can see, for each spin the size of the matrix is incresed making the system space bigger and bigger."
   ]
  },
  {
   "cell_type": "code",
   "execution_count": 10,
   "metadata": {},
   "outputs": [],
   "source": [
    "si0_5 = np.array([[1,0], [0,1]]) \n",
    "sz0_5 = np.array([[1,0], [0,-1]]) \n",
    "\n",
    "si1 = np.array([[1,0,0], [0,1,0], [0,0,1]]) \n",
    "sz1 = np.array([[1,0,0], [0,0,0], [0,0,-1]]) \n",
    "\n",
    "si1_5 = np.array([[1,0,0,0], [0,1,0,0], [0,0,1,0], [0,0,0,1]]) \n",
    "sz1_5 = np.array([[1.5,0,0,0], [0,0.5,0,0], [0,0,-0.5,0], [0,0,0,-1.5]]) \n",
    "\n",
    "Spin0_5_Hamiltonian = -J*( np.kron(sz0_5, np.kron(sz0_5, si0_5)) + np.kron(si0_5, np.kron(sz0_5, sz0_5)) + np.kron(sz0_5, np.kron(si0_5, sz0_5)) )\n",
    "Spin1_Hamiltonian = -J*( np.kron(sz1, np.kron(sz1, si1)) + np.kron(si1, np.kron(sz1, sz1)) + np.kron(sz1, np.kron(si1, sz1)) )\n",
    "Spin1_5_Hamiltonian = -J*( np.kron(sz1_5, np.kron(sz1_5, si1_5)) + np.kron(si1_5, np.kron(sz1_5, sz1_5)) + np.kron(sz1_5, np.kron(si1_5, sz1_5)) )"
   ]
  },
  {
   "cell_type": "code",
   "execution_count": 11,
   "metadata": {},
   "outputs": [
    {
     "name": "stdout",
     "output_type": "stream",
     "text": [
      "Minimun energy of spin 0.5: -3.0\n",
      "Minimun energy of spin 1: -3.0\n",
      "Minimun energy of spin 1.5: -6.75\n"
     ]
    }
   ],
   "source": [
    "E_0_spin_0_5 = np.linalg.eigvalsh(Spin0_5_Hamiltonian)[0]\n",
    "E_0_spin_1 = np.linalg.eigvalsh(Spin1_Hamiltonian)[0]\n",
    "E_0_spin_1_5 = np.linalg.eigvalsh(Spin1_5_Hamiltonian)[0]\n",
    "\n",
    "print(f\"Minimun energy of spin 0.5: {E_0_spin_0_5}\")\n",
    "print(f\"Minimun energy of spin 1: {E_0_spin_1}\")\n",
    "print(f\"Minimun energy of spin 1.5: {E_0_spin_1_5}\")"
   ]
  },
  {
   "attachments": {},
   "cell_type": "markdown",
   "metadata": {},
   "source": [
    "## Numerical results\n",
    "\n",
    "Now, let combine all the previous result and see how the process go."
   ]
  },
  {
   "cell_type": "code",
   "execution_count": 24,
   "metadata": {},
   "outputs": [
    {
     "data": {
      "image/png": "[encoded data removed]",
      "text/plain": [
       "<Figure size 1200x500 with 3 Axes>"
      ]
     },
     "metadata": {},
     "output_type": "display_data"
    }
   ],
   "source": [
    "fig, ax = plt.subplots(1, 3, figsize=(12,5),)\n",
    "for i in range(3):\n",
    "    ax[i].set_xlabel(\"Optimization step\", fontsize=13)\n",
    "    ax[i].set_ylabel(\"Energy\", fontsize=13)\n",
    "    ax[i].set_title(f\"Ground energy of spin {list_spines[i]}\", fontsize=13)\n",
    "ax[0].plot(range(len(dict_evolution[\"0.5\"])), dict_evolution[\"0.5\"], \"g\", ls=\"dashed\")\n",
    "ax[0].plot(range(len(dict_evolution[\"0.5\"])), [E_0_spin_0_5 for i in range(len(dict_evolution[\"0.5\"]))], \"r\", ls=\"dashed\")\n",
    "\n",
    "ax[1].plot(range(len(dict_evolution[\"1\"])), dict_evolution[\"1\"], \"g\", ls=\"dashed\")\n",
    "ax[1].plot(range(len(dict_evolution[\"1\"])), [E_0_spin_1 for i in range(len(dict_evolution[\"1\"]))], \"r\", ls=\"dashed\")\n",
    "\n",
    "ax[2].plot(range(len(dict_evolution[\"1.5\"])), dict_evolution[\"1.5\"], \"g\", ls=\"dashed\")\n",
    "ax[2].plot(range(len(dict_evolution[\"1.5\"])), [E_0_spin_1_5 for i in range(len(dict_evolution[\"1.5\"]))], \"r\", ls=\"dashed\")\n",
    "fig.tight_layout()\n",
    "plt.show()"
   ]
  },
  {
   "attachments": {},
   "cell_type": "markdown",
   "metadata": {},
   "source": [
    "As we can see, for each spin, the extension of the variational quantum eigensolver converge to the minimun energy of the hamiltonian of different spin"
   ]
  },
  {
   "attachments": {},
   "cell_type": "markdown",
   "metadata": {},
   "source": [
    "## Conclusion\n",
    "\n",
    "Systems of higher spines it's not something that you will find so often, but there are some cases ..."
   ]
  }
 ],
 "metadata": {
  "kernelspec": {
   "display_name": "env",
   "language": "python",
   "name": "python3"
  },
  "language_info": {
   "codemirror_mode": {
    "name": "ipython",
    "version": 3
   },
   "file_extension": ".py",
   "mimetype": "text/x-python",
   "name": "python",
   "nbconvert_exporter": "python",
   "pygments_lexer": "ipython3",
   "version": "3.9.6"
  },
  "orig_nbformat": 4
 },
 "nbformat": 4,
 "nbformat_minor": 2
}
