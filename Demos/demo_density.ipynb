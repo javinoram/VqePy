{
  "cells": [
    {
      "cell_type": "code",
      "execution_count": 2,
      "metadata": {
        "collapsed": false
      },
      "outputs": [],
      "source": [
        "from pennylane import numpy as np\n",
        "import pennylane as qml\n"
      ]
    },
    {
      "cell_type": "code",
      "execution_count": 7,
      "metadata": {
        "collapsed": false
      },
      "outputs": [
        {
          "name": "stdout",
          "output_type": "stream",
          "text": [
            "Number of qubits =  4\n",
            "The Hamiltonian is    (-0.2427450126094144) [Z2]\n",
            "+ (-0.2427450126094144) [Z3]\n",
            "+ (-0.042072551947439224) [I0]\n",
            "+ (0.1777135822909176) [Z0]\n",
            "+ (0.1777135822909176) [Z1]\n",
            "+ (0.12293330449299361) [Z0 Z2]\n",
            "+ (0.12293330449299361) [Z1 Z3]\n",
            "+ (0.16768338855601356) [Z0 Z3]\n",
            "+ (0.16768338855601356) [Z1 Z2]\n",
            "+ (0.17059759276836803) [Z0 Z1]\n",
            "+ (0.1762766139418181) [Z2 Z3]\n",
            "+ (-0.044750084063019925) [Y0 Y1 X2 X3]\n",
            "+ (-0.044750084063019925) [X0 X1 Y2 Y3]\n",
            "+ (0.044750084063019925) [Y0 X1 X2 Y3]\n",
            "+ (0.044750084063019925) [X0 Y1 Y2 X3]\n"
          ]
        }
      ],
      "source": [
        "symbols = [\"H\", \"H\"]\n",
        "coordinates = np.array([0, 0, 0.6614, 0, 0, -0.6614])\n",
        "\n",
        "H, qubits = qml.qchem.molecular_hamiltonian(symbols, coordinates)\n",
        "print(\"Number of qubits = \", qubits)\n",
        "print(\"The Hamiltonian is \", H)"
      ]
    },
    {
      "cell_type": "code",
      "execution_count": 9,
      "metadata": {
        "collapsed": false
      },
      "outputs": [],
      "source": [
        "dev = qml.device(\"default.qubit\", wires=qubits)\n",
        "\n",
        "electrons = 2\n",
        "hf = qml.qchem.hf_state(electrons, qubits)"
      ]
    },
    {
      "cell_type": "code",
      "execution_count": 14,
      "metadata": {
        "collapsed": false
      },
      "outputs": [],
      "source": [
        "def circuit(param, wires):\n",
        "    qml.BasisState(hf, wires=wires)\n",
        "    qml.DoubleExcitation(param, wires=[0, 1, 2, 3])"
      ]
    },
    {
      "cell_type": "code",
      "execution_count": 15,
      "metadata": {
        "collapsed": false
      },
      "outputs": [],
      "source": [
        "@qml.qnode(dev, interface=\"autograd\")\n",
        "def cost_fn(param):\n",
        "    circuit(param, wires=range(qubits))\n",
        "    return qml.expval(H)"
      ]
    },
    {
      "cell_type": "code",
      "execution_count": 16,
      "metadata": {
        "collapsed": false
      },
      "outputs": [],
      "source": [
        "opt = qml.GradientDescentOptimizer(stepsize=0.4)\n",
        "theta = np.array(0.0, requires_grad=True)"
      ]
    },
    {
      "cell_type": "code",
      "execution_count": 17,
      "metadata": {
        "collapsed": false
      },
      "outputs": [
        {
          "name": "stdout",
          "output_type": "stream",
          "text": [
            "Step = 0,  Energy = -1.12799983 Ha\n",
            "Step = 2,  Energy = -1.13466246 Ha\n",
            "Step = 4,  Energy = -1.13590595 Ha\n",
            "Step = 6,  Energy = -1.13613667 Ha\n",
            "Step = 8,  Energy = -1.13617944 Ha\n",
            "Step = 10,  Energy = -1.13618736 Ha\n",
            "Step = 12,  Energy = -1.13618883 Ha\n",
            "\n",
            "Final value of the ground-state energy = -1.13618883 Ha\n",
            "\n",
            "Optimal value of the circuit parameter = 0.2089\n"
          ]
        }
      ],
      "source": [
        "# store the values of the cost function\n",
        "energy = [cost_fn(theta)]\n",
        "\n",
        "# store the values of the circuit parameter\n",
        "angle = [theta]\n",
        "\n",
        "max_iterations = 100\n",
        "conv_tol = 1e-06\n",
        "\n",
        "for n in range(max_iterations):\n",
        "    theta, prev_energy = opt.step_and_cost(cost_fn, theta)\n",
        "\n",
        "    energy.append(cost_fn(theta))\n",
        "    angle.append(theta)\n",
        "\n",
        "    conv = np.abs(energy[-1] - prev_energy)\n",
        "\n",
        "    if n % 2 == 0:\n",
        "        print(f\"Step = {n},  Energy = {energy[-1]:.8f} Ha\")\n",
        "\n",
        "    if conv <= conv_tol:\n",
        "        break\n",
        "\n",
        "print(\"\\n\" f\"Final value of the ground-state energy = {energy[-1]:.8f} Ha\")\n",
        "print(\"\\n\" f\"Optimal value of the circuit parameter = {angle[-1]:.4f}\")"
      ]
    },
    {
      "cell_type": "code",
      "execution_count": 18,
      "metadata": {},
      "outputs": [],
      "source": [
        "optimun = angle[-1]\n",
        "\n",
        "@qml.qnode(dev, interface=\"autograd\")\n",
        "def cost_fn(param,obs):\n",
        "    circuit(param, wires=range(qubits))\n",
        "    return qml.probs(wires=obs)"
      ]
    },
    {
      "cell_type": "code",
      "execution_count": 21,
      "metadata": {},
      "outputs": [],
      "source": [
        "number_pairs = int( qubits/2 )\n",
        "value_per_sites = []\n",
        "for i in range(number_pairs):\n",
        "    result_down = cost_fn(optimun, obs =[2*i])\n",
        "    result_up = cost_fn(optimun, obs =[2*i+1])\n",
        "    value_per_sites.append(result_up[1] + result_down[1])"
      ]
    },
    {
      "cell_type": "code",
      "execution_count": 22,
      "metadata": {},
      "outputs": [
        {
          "name": "stdout",
          "output_type": "stream",
          "text": [
            "[tensor(1.97826969, requires_grad=True), tensor(0.02173031, requires_grad=True)]\n"
          ]
        }
      ],
      "source": [
        "print( value_per_sites )"
      ]
    },
    {
      "cell_type": "code",
      "execution_count": 23,
      "metadata": {},
      "outputs": [],
      "source": [
        "number_pairs = int( qubits/2 )\n",
        "value_per_sites = []\n",
        "for i in range(number_pairs):\n",
        "    result_down = cost_fn(optimun, obs =[2*i])\n",
        "    result_up = cost_fn(optimun, obs =[2*i+1])\n",
        "    value_per_sites.append(result_up[1] - result_down[1])"
      ]
    },
    {
      "cell_type": "code",
      "execution_count": 24,
      "metadata": {},
      "outputs": [
        {
          "name": "stdout",
          "output_type": "stream",
          "text": [
            "[tensor(0., requires_grad=True), tensor(0., requires_grad=True)]\n"
          ]
        }
      ],
      "source": [
        "print( value_per_sites )"
      ]
    }
  ],
  "metadata": {
    "kernelspec": {
      "display_name": "Python 3",
      "language": "python",
      "name": "python3"
    },
    "language_info": {
      "codemirror_mode": {
        "name": "ipython",
        "version": 3
      },
      "file_extension": ".py",
      "mimetype": "text/x-python",
      "name": "python",
      "nbconvert_exporter": "python",
      "pygments_lexer": "ipython3",
      "version": "3.9.6"
    }
  },
  "nbformat": 4,
  "nbformat_minor": 0
}
