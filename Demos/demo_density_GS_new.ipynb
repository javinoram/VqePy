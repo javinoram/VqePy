{
  "cells": [
    {
      "attachments": {},
      "cell_type": "markdown",
      "metadata": {},
      "source": [
        "# Density charge and density spin evolution over time\n",
        "\n",
        "Author: Javier Norambuena Leiva — Posted: . Last updated: .\n",
        "\n",
        "Here we discuss how to calculate the spin and charge density of the ground state of a molecule. This state is evolved over time to see how this density change over it."
      ]
    },
    {
      "cell_type": "code",
      "execution_count": 1,
      "metadata": {},
      "outputs": [],
      "source": [
        "from pennylane import numpy as np\n",
        "import pennylane as qml\n",
        "from pennylane.templates import ApproxTimeEvolution\n",
        "import matplotlib.pyplot as plt\n",
        "import scipy as sc"
      ]
    },
    {
      "attachments": {},
      "cell_type": "markdown",
      "metadata": {},
      "source": [
        "## Hamiltonian build\n",
        "\n",
        "Here we use the construction of the hamiltonian of $H^{2}$ that it indicated in the [Building Hamiltonian Demo](https://pennylane.ai/qml/demos/tutorial_quantum_chemistry.html)."
      ]
    },
    {
      "cell_type": "code",
      "execution_count": 2,
      "metadata": {
        "collapsed": false
      },
      "outputs": [],
      "source": [
        "symbols = [\"H\", \"H\"]\n",
        "coordinates = np.array([0.0, 0.0, -0.6614, 0.0, 0.0, 0.6614])\n",
        "Hamiltonian, qubits = qml.qchem.molecular_hamiltonian(symbols, coordinates)"
      ]
    },
    {
      "cell_type": "code",
      "execution_count": 3,
      "metadata": {},
      "outputs": [],
      "source": [
        "coeff, expression = Hamiltonian.terms()\n",
        "Pauli_terms = []\n",
        "\n",
        "for k, term in enumerate(expression):\n",
        "    auxiliar_string =[]\n",
        "    if type(term)==qml.ops.qubit.non_parametric_ops.PauliZ:\n",
        "        index = term.wires[0]\n",
        "        for j in range(qubits):\n",
        "            if j== index:\n",
        "                auxiliar_string.append(\"Z\")\n",
        "            else:\n",
        "                auxiliar_string.append(\"I\")\n",
        "    \n",
        "    elif type(term)==qml.ops.qubit.non_parametric_ops.PauliX:\n",
        "        index = term.wires[0]\n",
        "        for j in range(qubits):\n",
        "            if j== index:\n",
        "                auxiliar_string.append(\"X\")\n",
        "            else:\n",
        "                auxiliar_string.append(\"I\")\n",
        "    \n",
        "    elif type(term)==qml.ops.qubit.non_parametric_ops.PauliY:\n",
        "        index = term.wires[0]\n",
        "        for j in range(qubits):\n",
        "            if j== index:\n",
        "                auxiliar_string.append(\"Y\")\n",
        "            else:\n",
        "                auxiliar_string.append(\"I\")\n",
        "\n",
        "    elif type(term)==qml.ops.identity.Identity:\n",
        "        for j in range(qubits):\n",
        "            auxiliar_string.append(\"I\")\n",
        "    \n",
        "    else:\n",
        "        Nonidentical = term.non_identity_obs\n",
        "        auxiliar_string = [\"I\" for _ in range(qubits)]\n",
        "        for pauli in Nonidentical:\n",
        "            index = pauli.wires[0]\n",
        "            if type(pauli)==qml.ops.qubit.non_parametric_ops.PauliZ:\n",
        "                auxiliar_string[index] = \"Z\"\n",
        "            elif type(pauli)==qml.ops.qubit.non_parametric_ops.PauliX:\n",
        "                auxiliar_string[index] = \"X\"\n",
        "            elif type(pauli)==qml.ops.qubit.non_parametric_ops.PauliY:\n",
        "                auxiliar_string[index] = \"Y\"\n",
        "            else:\n",
        "                pass\n",
        "    string = \"\"\n",
        "    for s in auxiliar_string:\n",
        "        string+= s\n",
        "    Pauli_terms.append([coeff[k],string])\n",
        "\n",
        "del Hamiltonian, coeff, expression"
      ]
    },
    {
      "cell_type": "code",
      "execution_count": 4,
      "metadata": {
        "collapsed": false
      },
      "outputs": [],
      "source": [
        "electrons = 2\n",
        "hf = qml.qchem.hf_state(electrons, qubits)\n",
        "singles, doubles = qml.qchem.excitations(electrons, qubits)\n",
        "\n",
        "dev = qml.device(\"default.qubit\", wires=qubits)\n",
        "        "
      ]
    },
    {
      "attachments": {},
      "cell_type": "markdown",
      "metadata": {},
      "source": [
        "The ansatz use the given rotations with singles and double excitations gates to keep the number of electrons fixed. "
      ]
    },
    {
      "cell_type": "code",
      "execution_count": 5,
      "metadata": {
        "collapsed": false
      },
      "outputs": [],
      "source": [
        "@qml.qnode(dev, interface=\"autograd\")\n",
        "def circuit(param, wires, obs, index):\n",
        "    qml.BasisState(hf, wires=wires)\n",
        "\n",
        "    for _, term in enumerate(singles):\n",
        "        qml.SingleExcitation(param[0], wires=term)\n",
        "\n",
        "    for _, term in enumerate(doubles):\n",
        "        qml.DoubleExcitation(param[1], wires=term)\n",
        "\n",
        "    for i,term in enumerate(obs):\n",
        "        if term=='X':\n",
        "            qml.Hadamard(i)\n",
        "        elif term=='Y':\n",
        "            qml.S(i)\n",
        "            qml.Hadamard(i)\n",
        "\n",
        "    return qml.probs(wires=index)\n",
        "\n"
      ]
    },
    {
      "cell_type": "code",
      "execution_count": 6,
      "metadata": {
        "collapsed": false
      },
      "outputs": [],
      "source": [
        "def is_identity(term):\n",
        "    for i in range(len(term)):\n",
        "        if term[i]!='I':\n",
        "            return False\n",
        "    return True\n",
        "\n",
        "def parity(integer):\n",
        "    binary = format(integer, 'b')\n",
        "    aux = 0\n",
        "    for s in binary:\n",
        "        if s=='1':\n",
        "            aux +=1\n",
        "    if aux%2 == 0:\n",
        "        return 1\n",
        "    else:\n",
        "        return -1\n",
        "\n",
        "def cost_fn(param):\n",
        "    result = 0.0\n",
        "    for term in Pauli_terms:\n",
        "        aux = []\n",
        "        term[0]\n",
        "        for i in range( len(term[1]) ):\n",
        "            if term[1][i] != 'I':\n",
        "                aux.append(i)  \n",
        "\n",
        "        if len(aux)==0:\n",
        "            aux = term[0]\n",
        "            aux.requires_grad = True\n",
        "            result += aux \n",
        "        else:\n",
        "            probs = circuit(param, wires=range(qubits), obs=term[1], index=aux)\n",
        "            for integer in range(len(probs)):\n",
        "                aux = term[0]\n",
        "                aux.requires_grad = True\n",
        "                result += aux*parity(integer)*probs[integer]\n",
        "    return result"
      ]
    },
    {
      "attachments": {},
      "cell_type": "markdown",
      "metadata": {},
      "source": [
        "## Ground state calculation\n",
        "\n",
        "The idea is the evolution of the ground state, so, the first thing is find it. We know that the VQE construct the state inside the circuit so, we just need to find the minimun energy value and with the parameters, we will be able to reconstruct the state inside the circuit. Here we use the gradient minimization method used in [A brief overview of VQE](https://pennylane.ai/qml/demos/tutorial_vqe.html) with the same values, because its the same molecule."
      ]
    },
    {
      "cell_type": "code",
      "execution_count": 7,
      "metadata": {
        "collapsed": false
      },
      "outputs": [],
      "source": [
        "def scipy_method_VQE(cost_function, theta):\n",
        "    energy = []\n",
        "    theta_evol = []\n",
        "\n",
        "    def cost_aux(x): \n",
        "        result = cost_function(x)\n",
        "        energy.append(result)\n",
        "        theta_evol.append(x)\n",
        "        return result\n",
        "    \n",
        "    theta = sc.optimize.minimize(cost_aux, theta, method='SLSQP', tol=1e-6,\n",
        "            options= {'maxiter':1000})['x']\n",
        "    return energy, theta_evol, theta\n",
        "\n",
        "energy, theta_evol, theta = scipy_method_VQE(cost_fn, [0.0, 0.0])"
      ]
    },
    {
      "cell_type": "code",
      "execution_count": 8,
      "metadata": {},
      "outputs": [],
      "source": [
        "opt = qml.GradientDescentOptimizer(stepsize=0.4)\n",
        "theta = np.array([0.0, 0.0], requires_grad=True)"
      ]
    },
    {
      "cell_type": "code",
      "execution_count": 9,
      "metadata": {},
      "outputs": [],
      "source": [
        "energy = [cost_fn(theta)]\n",
        "angle = [theta]\n",
        "\n",
        "max_iterations = 100\n",
        "conv_tol = 1e-06\n",
        "\n",
        "for n in range(max_iterations):\n",
        "    theta, prev_energy = opt.step_and_cost(cost_fn, theta)\n",
        "\n",
        "    energy.append(cost_fn(theta))\n",
        "    angle.append(theta)\n",
        "\n",
        "    conv = np.abs(energy[-1] - prev_energy)\n",
        "    if conv <= conv_tol:\n",
        "        break\n",
        "\n"
      ]
    },
    {
      "attachments": {},
      "cell_type": "markdown",
      "metadata": {},
      "source": [
        "## Time evolution of the ground state\n",
        "\n",
        "With the paramaters that will help us to construct the ground state, the next step is introduce the time evolution operator in the circuit. \n",
        "\n",
        "Here we use the [qml.ApproxTimeEvolution](https://docs.pennylane.ai/en/stable/code/api/pennylane.ApproxTimeEvolution.html#pennylane.ApproxTimeEvolution) module of pennylane, that implement the time evolution operator for any hamiltonian that can be expressed as a product of Pauli matrices.\n",
        "\n"
      ]
    },
    {
      "cell_type": "code",
      "execution_count": 10,
      "metadata": {},
      "outputs": [],
      "source": [
        "@qml.qnode(dev, interface=\"autograd\")\n",
        "def cost_fn_time(theta, obs, time, n, hamiltonian):\n",
        "    '''Ground state'''\n",
        "    qml.BasisState(hf, wires=range(qubits))\n",
        "    for j, term in enumerate(singles):\n",
        "        qml.SingleExcitation(theta[0], wires=term)\n",
        "\n",
        "    for j, term in enumerate(doubles):\n",
        "        qml.DoubleExcitation(theta[1], wires=term)\n",
        "\n",
        "    '''Time evolution'''\n",
        "    for _ in range(n):\n",
        "        for coeff, term in hamiltonian:\n",
        "            if is_identity(term):\n",
        "                pass\n",
        "            else:\n",
        "                non_null_index = []\n",
        "                for k in range(len(term)):\n",
        "                    if term[k] != 'I':\n",
        "                        non_null_index.append(k)\n",
        "\n",
        "                '''Initial basis change'''\n",
        "                for k in range(len(non_null_index)):\n",
        "                    if term[k] == 'X':\n",
        "                        qml.Hadamard(wires=[non_null_index[k]])\n",
        "                    elif term[k] == 'Y':\n",
        "                        qml.S(wires=[non_null_index[k]])\n",
        "                        qml.Hadamard(wires=[non_null_index[k]])\n",
        "                    else:\n",
        "                        pass\n",
        "                '''Initial CX gates'''\n",
        "                for k in range(len(non_null_index)-1):\n",
        "                    qml.CNOT(wires=[non_null_index[k], non_null_index[k+1]])\n",
        "\n",
        "                '''Time parameter'''\n",
        "                qml.RZ( (2*time/n)*coeff, non_null_index[-1] )\n",
        "\n",
        "                '''Final CX gates'''\n",
        "                for k in range(len(non_null_index)-1):\n",
        "                    qml.CNOT(wires=[non_null_index[k], non_null_index[k+1]])\n",
        "                    \n",
        "                '''Final basis change'''\n",
        "                for k in range(len(non_null_index)):\n",
        "                    if term[k] == 'X':\n",
        "                        qml.Hadamard(wires=[non_null_index[k]])\n",
        "                    elif term[k] == 'Y':\n",
        "                        qml.Hadamard(wires=[non_null_index[k]])\n",
        "                        qml.S(wires=[non_null_index[k]])\n",
        "                    else:\n",
        "                        pass\n",
        "    return qml.probs(wires=obs[0]), qml.probs(wires=obs[1])"
      ]
    },
    {
      "attachments": {},
      "cell_type": "markdown",
      "metadata": {},
      "source": [
        "## Densities calculation\n",
        "At this point we have all the requirement elements, the time evolution and the ground state. So, the next thing to see is how to calculate the density with the proyections.\n",
        "\n",
        "In reference 1, they define the density of each site in a hubbard model as $\\rho^{\\pm} = \\langle n_{i,\\uparrow} \\rangle \\pm \\langle n_{i,\\downarrow} \\rangle$, where the terms are the particle number operator in each site for each type of spin orientation. The important thing is this operator have a expresion in the spin space as $n_{i} = |1\\rangle \\langle 1|_i$.\n",
        "\n",
        "If we divide the array the qubits into a block of two consecutive qubits, we can consider each pair as site that can be ocupate by a electron of spin up and one of spin down. \n",
        "\n",
        "Let take an example, let say that we have one site and we have two qubits, one to represent the electron with spin up ($Q1$) and another for the spin down ($Q2$), if we want to compute $\\langle n_{i,\\uparrow} \\rangle$ we need to measure $Q1$ (because, is the qubit that represent that configuration of index).\n",
        "\n",
        "In the following code, we compute the density in each time step to how evolve in time with a time step of $0.2$."
      ]
    },
    {
      "cell_type": "code",
      "execution_count": 11,
      "metadata": {},
      "outputs": [],
      "source": [
        "number_pairs = int( qubits/2 )\n",
        "charge_density = []\n",
        "spin_density = []\n",
        "delta_time = 0.2\n",
        "time_steps = 200\n",
        "n=7\n",
        "\n",
        "\n",
        "for t in range(time_steps):\n",
        "    aux_charge = []\n",
        "    aux_spin = []\n",
        "    for i in range(number_pairs):\n",
        "        result_down, result_up = cost_fn_time(theta, obs =[2*i, 2*i+1], time=t*delta_time, n=n, hamiltonian=Pauli_terms)\n",
        "        #result_up = cost_fn_time(theta, obs =[2*i+1], time=t*delta_time)\n",
        "        aux_charge.append(result_up[1] + result_down[1])\n",
        "        aux_spin.append(result_up[1] - result_down[1])\n",
        "    charge_density.append( aux_charge )\n",
        "    spin_density.append( aux_spin )"
      ]
    },
    {
      "cell_type": "code",
      "execution_count": 12,
      "metadata": {},
      "outputs": [
        {
          "data": {
            "image/png": "[encoded data removed]",
            "text/plain": [
              "<Figure size 800x400 with 2 Axes>"
            ]
          },
          "metadata": {},
          "output_type": "display_data"
        }
      ],
      "source": [
        "fig, ax = plt.subplots(1, 2, figsize=(8,4),)\n",
        "ax[0].plot([i*delta_time for i in range(time_steps)], [j[0] for j in charge_density], \".\", label=\"Site 1\", ls=\"dashed\")\n",
        "ax[0].plot([i*delta_time for i in range(time_steps)], [j[1] for j in charge_density], \".\", label=\"Site 2\", ls=\"dashed\")\n",
        "ax[0].legend(loc=\"upper right\", fontsize='medium',frameon=True, edgecolor='k',ncol=2)\n",
        "\n",
        "ax[1].plot([i*delta_time for i in range(time_steps)], [j[0] for j in spin_density], \".\", label=\"Site 1\", ls=\"dashed\")\n",
        "ax[1].plot([i*delta_time for i in range(time_steps)], [j[1] for j in spin_density], \".\", label=\"Site 2\", ls=\"dashed\")\n",
        "ax[1].legend(loc=\"upper right\", fontsize='medium',frameon=True, edgecolor='k',ncol=2)\n",
        "\n",
        "ax[0].set_xlabel('Time step', fontsize=10)\n",
        "ax[1].set_xlabel('Time step', fontsize=10)\n",
        "\n",
        "ax[0].set_ylabel('Density charge', fontsize=10)\n",
        "ax[1].set_ylabel('Density spin', fontsize=10)\n",
        "fig.tight_layout()\n",
        "plt.show()"
      ]
    },
    {
      "attachments": {},
      "cell_type": "markdown",
      "metadata": {},
      "source": [
        "## References\n",
        "1. Frank Arute, Kunal Arya, Ryan Babbush, Dave Bacon, Joseph C. Bardin, Rami Barends, Andreas Bengtsson, Sergio Boixo, Michael Broughton, Bob B. Buckley, David A. Buell, Brian Burkett, Nicholas Bushnell, Yu Chen, Zĳun Chen, Yu-An Chen, Ben Chiaro, Roberto Collins, Stephen J. Cotton, William Courtney, Sean Demura, Alan Derk, Andrew Dunsworth, Daniel Eppens, Thomas Eckl, Catherine Erickson, Edward Farhi, Austin Fowler, Brooks Foxen, Craig Gidney, Marissa Giustina, Rob Graff, Jonathan A. Gross, Steve Habegger, Matthew P. Harrigan, Alan Ho, Sabrina Hong, Trent Huang, William Huggins, Lev B. Ioffe, Sergei V. Isakov, Evan Jeffrey, Zhang Jiang, Cody Jones, Dvir Kafri, Kostyantyn Kechedzhi, Julian Kelly, Seon Kim, Paul V. Klimov, Alexander N. Korotkov, Fedor Kostritsa, David Landhuis, Pavel Laptev, Mike Lindmark, Erik Lucero, Michael Marthaler, Orion Martin, John M. Martinis, Anika Marusczyk, Sam McArdle, Jarrod R. McClean, Trevor McCourt, Matt McEwen, Anthony Megrant, Carlos Mejuto-Zaera, Xiao Mi, Masoud Mohseni, Wojciech Mruczkiewicz, Josh Mutus, Ofer Naaman, Matthew Neeley, Charles Neill, Hartmut Neven, Michael Newman, Murphy Yuezhen Niu, Thomas E. O'Brien, Eric Ostby, Bálint Pató, Andre Petukhov, Harald Putterman, Chris Quintana, Jan-Michael Reiner, Pedram Roushan, Nicholas C. Rubin, Daniel Sank, Kevin J. Satzinger, Vadim Smelyanskiy, Doug Strain, Kevin J. Sung, Peter Schmitteckert, Marco Szalay, Norm M. Tubman, Amit Vainsencher, Theodore White, Nicolas Vogt, Z. Jamie Yao, Ping Yeh, Adam Zalcman, & Sebastian Zanker. (2020). Observation of separated dynamics of charge and spin in the Fermi-Hubbard model.\n",
        "\n"
      ]
    }
  ],
  "metadata": {
    "kernelspec": {
      "display_name": "Python 3",
      "language": "python",
      "name": "python3"
    },
    "language_info": {
      "codemirror_mode": {
        "name": "ipython",
        "version": 3
      },
      "file_extension": ".py",
      "mimetype": "text/x-python",
      "name": "python",
      "nbconvert_exporter": "python",
      "pygments_lexer": "ipython3",
      "version": "3.9.6"
    }
  },
  "nbformat": 4,
  "nbformat_minor": 0
}
