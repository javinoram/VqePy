{
 "cells": [
  {
   "cell_type": "code",
   "execution_count": 1,
   "metadata": {},
   "outputs": [],
   "source": [
    "from quantumsim.functions.ansatz import *\n",
    "from quantumsim.functions.min_methods import *\n",
    "from quantumsim.functions.funciones import *\n",
    "from quantumsim.optimizacion_structure import *\n",
    "from quantumsim.variational_quantum_eigensolver import *\n",
    "\n",
    "from pennylane import numpy as np"
   ]
  },
  {
   "cell_type": "code",
   "execution_count": null,
   "metadata": {},
   "outputs": [],
   "source": [
    "params = {\n",
    "    \"spin\": 0.5, \n",
    "    \"sites\": 3,\n",
    "    \"pattern\": \"open\"\n",
    "}\n",
    "\n",
    "chain = vqe_spin(params)"
   ]
  }
 ],
 "metadata": {
  "kernelspec": {
   "display_name": "env",
   "language": "python",
   "name": "python3"
  },
  "language_info": {
   "codemirror_mode": {
    "name": "ipython",
    "version": 3
   },
   "file_extension": ".py",
   "mimetype": "text/x-python",
   "name": "python",
   "nbconvert_exporter": "python",
   "pygments_lexer": "ipython3",
   "version": "3.9.6"
  },
  "orig_nbformat": 4
 },
 "nbformat": 4,
 "nbformat_minor": 2
}
