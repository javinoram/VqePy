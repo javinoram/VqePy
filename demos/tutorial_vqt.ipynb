{
  "cells": [
    {
      "cell_type": "code",
      "execution_count": 1,
      "metadata": {
        "collapsed": false
      },
      "outputs": [],
      "source": [
        "# This cell is added by sphinx-gallery\n",
        "# It can be customized to whatever you like\n",
        "%matplotlib inline"
      ]
    },
    {
      "cell_type": "markdown",
      "metadata": {},
      "source": [
        "Variational Quantum Thermalizer\n",
        "===============================\n",
        "\n",
        "::: {.meta}\n",
        ":property=\\\"og:description\\\": Using the Variational Quantum Thermalizer\n",
        "to prepare the thermal state of a Heisenberg model Hamiltonian.\n",
        ":property=\\\"og:image\\\":\n",
        "<https://pennylane.ai/qml/_images/thumbnail_vqt.png>\n",
        ":::\n",
        "\n",
        "::: {.related}\n",
        "tutorial\\_vqe Variational quantum eigensolver\n",
        ":::\n",
        "\n",
        "*Author: Jack Ceroni --- Posted: 7 July 2020. Last updated: 28 January\n",
        "2021.*\n",
        "\n",
        "This demonstration discusses theory and experiments relating to a\n",
        "recently proposed quantum algorithm called the [Variational Quantum\n",
        "Thermalizer](https://arxiv.org/abs/1910.02071) (VQT): a generalization\n",
        "of the well-know\n",
        "`Variational Quantum Eigensolver </demos/tutorial_vqe>`{.interpreted-text\n",
        "role=\"doc\"} (VQE) to systems with non-zero temperatures.\n"
      ]
    },
    {
      "cell_type": "markdown",
      "metadata": {},
      "source": [
        "The Idea\n",
        "========\n"
      ]
    },
    {
      "cell_type": "markdown",
      "metadata": {},
      "source": [
        "The goal of the VQT is to prepare the [thermal\n",
        "state](https://en.wikipedia.org/wiki/KMS_state) of a given Hamiltonian\n",
        "$\\hat{H}$ at temperature $T$, which is defined as\n",
        "\n",
        "$$\\rho_\\text{thermal} \\ = \\ \\frac{e^{- \\hat{H} \\beta}}{\\text{Tr}(e^{- \\hat{H} \\beta})} \\ = \\ \\frac{e^{- \\hat{H} \\beta}}{Z_{\\beta}},$$\n",
        "\n",
        "where $\\beta \\ = \\ 1/T$. The thermal state is a [mixed\n",
        "state](https://en.wikipedia.org/wiki/Quantum_state#Mixed_states), which\n",
        "means that can be described by an ensemble of pure states. Since we are\n",
        "attempting to learn a mixed state, we must deviate from the standard\n",
        "variational method of passing a pure state through an ansatz circuit,\n",
        "and minimizing the energy expectation.\n",
        "\n",
        "The VQT begins with an initial [density\n",
        "matrix](https://en.wikipedia.org/wiki/Density_matrix), $\\rho_{\\theta}$,\n",
        "described by a probability distribution parametrized by some collection\n",
        "of parameters $\\theta$, and an ensemble of pure states,\n",
        "$\\{|\\psi_i\\rangle\\}$. Let $p_i(\\theta_i)$ be the probability\n",
        "corresponding to the $i$-th pure state. We sample from this probability\n",
        "distribution to get some pure state $|\\psi_k\\rangle$, which we pass\n",
        "through a parametrized circuit, $U(\\phi)$. From the results of this\n",
        "circuit, we then calculate\n",
        "$\\langle \\psi_k | U^{\\dagger}(\\phi) \\hat{H}\\, U(\\phi) |\\psi_k\\rangle$.\n",
        "Repeating this process multiple times and taking the average of these\n",
        "expectation values gives us the the expectation value of $\\hat{H}$ with\n",
        "respect to $U \\rho_{\\theta} U^{\\dagger}$.\n",
        "\n",
        "![Inputted parameters create an initial density matrix and a\n",
        "parametrized ansatz, which are used to calculate the expectation value\n",
        "of the Hamiltonian with respect to a new mixed\n",
        "state.](../demonstrations/vqt/ev.png){.align-center width=\"100.0%\"}\n",
        "\n",
        "Arguably, the most important part of a variational circuit is its cost\n",
        "function, which we attempt to minimize with a classical optimizer. In\n",
        "VQE, we generally try to minimize\n",
        "$\\langle \\psi(\\theta) | \\hat{H} | \\psi(\\theta) \\rangle$ which, upon\n",
        "minimization, gives us a parametrized circuit that prepares a good\n",
        "approximation to the ground state of $\\hat{H}$. In the VQT, the goal is\n",
        "to arrive at a parametrized probability distribution, and a parametrized\n",
        "ansatz, that generate a good approximation to the thermal state. This\n",
        "generally involves more than calculating the energy expectation value.\n",
        "Luckily, we know that the thermal state of $\\hat{H}$ minimizes the\n",
        "following free-energy cost function\n",
        "\n",
        "$$\\mathcal{L}(\\theta, \\ \\phi) \\ = \\ \\beta \\ \\text{Tr}( \\hat{H} \\ \\hat{U}(\\phi) \\rho_{\\theta} \\hat{U}(\\phi)^{\\dagger} ) \\ - \\ S_\\theta,$$\n",
        "\n",
        "where $S_{\\theta}$ is the [von Neumann\n",
        "entropy](https://en.wikipedia.org/wiki/Von_Neumann_entropy) of\n",
        "$U \\rho_{\\theta} U^{\\dagger}$, which is the same as the von Neumann\n",
        "entropy of $\\rho_{\\theta}$ due to invariance of entropy under unitary\n",
        "transformations. This cost function is minimized when\n",
        "$\\hat{U}(\\phi) \\rho_{\\theta} \\hat{U}(\\phi)^{\\dagger} \\ = \\ \\rho_{\\text{thermal}}$,\n",
        "so similarly to VQE, we minimize it with a classical optimizer to obtain\n",
        "the target parameters, and thus the target state.\n",
        "\n",
        "![A high-level representation of how the VQT\n",
        "works.](../demonstrations/vqt/vqt.png){.align-center width=\"80.0%\"}\n",
        "\n",
        "All together, the outlined processes give us a general protocol to\n",
        "generate thermal states.\n"
      ]
    },
    {
      "cell_type": "markdown",
      "metadata": {},
      "source": [
        "Simulating the VQT for a 4-Qubit Heisenberg Model\n",
        "=================================================\n"
      ]
    },
    {
      "cell_type": "markdown",
      "metadata": {},
      "source": [
        "In this demonstration, we simulate the 4-qubit Heisenberg model. We can\n",
        "begin by importing the necessary dependencies.\n"
      ]
    },
    {
      "cell_type": "code",
      "execution_count": 2,
      "metadata": {
        "collapsed": false
      },
      "outputs": [],
      "source": [
        "import pennylane as qml\n",
        "from matplotlib import pyplot as plt\n",
        "import numpy as np\n",
        "from numpy import array\n",
        "import scipy\n",
        "from scipy.optimize import minimize\n",
        "import networkx as nx\n",
        "import seaborn\n",
        "import itertools\n",
        "\n",
        "np.random.seed(42)"
      ]
    },
    {
      "cell_type": "markdown",
      "metadata": {},
      "source": [
        "The Heisenberg Hamiltonian is defined as\n",
        "\n",
        "$$\\hat{H} \\ = \\ \\displaystyle\\sum_{(i, j) \\in E} X_i X_j \\ + \\ Z_i Z_j \\ + \\ Y_i Y_j,$$\n",
        "\n",
        "where $X_i$, $Y_i$ and $Z_i$ are the Pauli gates acting on the $i$-th\n",
        "qubit. In addition, $E$ is the set of edges in the graph\n",
        "$G \\ = \\ (V, \\ E)$ describing the interactions between the qubits. In\n",
        "this demonstration, we define the interaction graph to be the cycle\n",
        "graph:\n"
      ]
    },
    {
      "cell_type": "code",
      "execution_count": 3,
      "metadata": {
        "collapsed": false
      },
      "outputs": [
        {
          "data": {
            "image/png": "[encoded data removed]",
            "text/plain": [
              "<Figure size 640x480 with 1 Axes>"
            ]
          },
          "metadata": {},
          "output_type": "display_data"
        }
      ],
      "source": [
        "interaction_graph = nx.cycle_graph(5)\n",
        "nx.draw(interaction_graph)"
      ]
    },
    {
      "cell_type": "markdown",
      "metadata": {},
      "source": [
        "With this, we can calculate the matrix representation of the Heisenberg\n",
        "Hamiltonian in the computational basis:\n"
      ]
    },
    {
      "cell_type": "code",
      "execution_count": 4,
      "metadata": {
        "collapsed": false
      },
      "outputs": [
        {
          "data": {
            "image/png": "[encoded data removed]",
            "text/plain": [
              "<Figure size 640x480 with 2 Axes>"
            ]
          },
          "metadata": {},
          "output_type": "display_data"
        }
      ],
      "source": [
        "def create_hamiltonian_matrix(n, graph):\n",
        "\n",
        "    matrix = np.zeros((2 ** n, 2 ** n))\n",
        "\n",
        "    for i in graph.edges:\n",
        "        x = y = z = 1\n",
        "        for j in range(0, n):\n",
        "            if j == i[0] or j == i[1]:\n",
        "                x = np.kron(x, qml.matrix(qml.PauliX)(0))\n",
        "                y = np.kron(y, qml.matrix(qml.PauliY)(0))\n",
        "                z = np.kron(z, qml.matrix(qml.PauliZ)(0))\n",
        "            else:\n",
        "                x = np.kron(x, np.identity(2))\n",
        "                y = np.kron(y, np.identity(2))\n",
        "                z = np.kron(z, np.identity(2))\n",
        "\n",
        "        matrix = np.add(matrix, np.add(x, np.add(y, z)))\n",
        "\n",
        "    return matrix\n",
        "\n",
        "\n",
        "ham_matrix = create_hamiltonian_matrix(5, interaction_graph)\n",
        "\n",
        "# Prints a visual representation of the Hamiltonian matrix\n",
        "seaborn.heatmap(ham_matrix.real)\n",
        "plt.show()"
      ]
    },
    {
      "cell_type": "markdown",
      "metadata": {},
      "source": [
        "With this done, we construct the VQT. We begin by defining some fixed\n",
        "variables that are used throughout the simulation:\n"
      ]
    },
    {
      "cell_type": "code",
      "execution_count": 5,
      "metadata": {
        "collapsed": false
      },
      "outputs": [],
      "source": [
        "beta = 2  # beta = 1/T\n",
        "nr_qubits = 5"
      ]
    },
    {
      "cell_type": "markdown",
      "metadata": {},
      "source": [
        "The first step of the VQT is to create the initial density matrix,\n",
        "$\\rho_\\theta$. In this demonstration, we let $\\rho_\\theta$ be\n",
        "*factorized*, meaning that it can be written as an uncorrelated tensor\n",
        "product of $4$ one-qubit density matrices that are diagonal in the\n",
        "computational basis. The motivation is that in this factorized model,\n",
        "the number of $\\theta_i$ parameters needed to describe $\\rho_\\theta$\n",
        "scales linearly rather than exponentially with the number of qubits. For\n",
        "each one-qubit system described by $\\rho_\\theta^i$, we have\n",
        "\n",
        "$$\\rho_{\\theta}^{i} \\ = \\ p_i(\\theta_i) |0\\rangle \\langle 0| \\ + \\ (1 \\ - \\ p_i(\\theta_i))|1\\rangle \\langle1|.$$\n",
        "\n",
        "From here, all we have to do is define $p_i(\\theta_i)$, which we choose\n",
        "to be the sigmoid\n",
        "\n",
        "$$p_{i}(\\theta_{i}) \\ = \\ \\frac{e^{\\theta_i}}{e^{\\theta_i} \\ + \\ 1}.$$\n"
      ]
    },
    {
      "cell_type": "code",
      "execution_count": 6,
      "metadata": {
        "collapsed": false
      },
      "outputs": [],
      "source": [
        "def sigmoid(x):\n",
        "    return np.exp(x) / (np.exp(x) + 1)"
      ]
    },
    {
      "cell_type": "markdown",
      "metadata": {},
      "source": [
        "This is a natural choice for probability function, as it has a range of\n",
        "$[0, \\ 1]$, meaning that we don't need to restrict the domain of\n",
        "$\\theta_i$ to some subset of the real numbers. With the probability\n",
        "function defined, we can write a method that gives us the diagonal\n",
        "elements of each one-qubit density matrix, for some parameters $\\theta$:\n"
      ]
    },
    {
      "cell_type": "code",
      "execution_count": 7,
      "metadata": {
        "collapsed": false
      },
      "outputs": [],
      "source": [
        "def prob_dist(params):\n",
        "    return np.vstack([sigmoid(params), 1 - sigmoid(params)]).T"
      ]
    },
    {
      "cell_type": "markdown",
      "metadata": {},
      "source": [
        "Creating the Ansatz Circuit\n",
        "===========================\n"
      ]
    },
    {
      "cell_type": "markdown",
      "metadata": {},
      "source": [
        "With this done, we can move on to defining the ansatz circuit,\n",
        "$U(\\phi)$, composed of rotational and coupling layers. The rotation\n",
        "layer is simply `RX`, `RY`, and `RZ` gates applied to each qubit. We\n",
        "make use of the `AngleEmbedding` function, which allows us to easily\n",
        "pass parameters into rotational layers.\n"
      ]
    },
    {
      "cell_type": "code",
      "execution_count": 8,
      "metadata": {
        "collapsed": false
      },
      "outputs": [],
      "source": [
        "def single_rotation(phi_params, qubits):\n",
        "\n",
        "    rotations = [\"Z\", \"Y\", \"X\"]\n",
        "    for i in range(0, len(rotations)):\n",
        "        qml.AngleEmbedding(phi_params[i], wires=qubits, rotation=rotations[i])"
      ]
    },
    {
      "cell_type": "markdown",
      "metadata": {},
      "source": [
        "To construct the general ansatz, we combine the method we have just\n",
        "defined with a collection of parametrized coupling gates placed between\n",
        "qubits that share an edge in the interaction graph. In addition, we\n",
        "define the depth of the ansatz, and the device on which the simulations\n",
        "are run:\n"
      ]
    },
    {
      "cell_type": "code",
      "execution_count": 9,
      "metadata": {
        "collapsed": false
      },
      "outputs": [],
      "source": [
        "depth = 4\n",
        "dev = qml.device(\"default.qubit\", wires=nr_qubits)\n",
        "\n",
        "\n",
        "def quantum_circuit(rotation_params, coupling_params, sample=None):\n",
        "\n",
        "    # Prepares the initial basis state corresponding to the sample\n",
        "    qml.BasisStatePreparation(sample, wires=range(nr_qubits))\n",
        "\n",
        "    # Prepares the variational ansatz for the circuit\n",
        "    for i in range(0, depth):\n",
        "        single_rotation(rotation_params[i], range(nr_qubits))\n",
        "        qml.broadcast(\n",
        "            unitary=qml.CRX,\n",
        "            pattern=\"ring\",\n",
        "            wires=range(nr_qubits),\n",
        "            parameters=coupling_params[i]\n",
        "        )\n",
        "\n",
        "    # Calculates the expectation value of the Hamiltonian with respect to the prepared states\n",
        "    return qml.expval(qml.Hermitian(ham_matrix, wires=range(nr_qubits)))\n",
        "\n",
        "\n",
        "# Constructs the QNode\n",
        "qnode = qml.QNode(quantum_circuit, dev, interface=\"autograd\")"
      ]
    },
    {
      "cell_type": "markdown",
      "metadata": {},
      "source": [
        "We can get an idea of what this circuit looks like by printing out a\n",
        "test circuit:\n"
      ]
    },
    {
      "cell_type": "code",
      "execution_count": 30,
      "metadata": {
        "collapsed": false
      },
      "outputs": [
        {
          "ename": "ValueError",
          "evalue": "Basis states must be of length 5; state 0 has length 4.",
          "output_type": "error",
          "traceback": [
            "\u001b[0;31m---------------------------------------------------------------------------\u001b[0m",
            "\u001b[0;31mValueError\u001b[0m                                Traceback (most recent call last)",
            "Cell \u001b[0;32mIn[30], line 3\u001b[0m\n\u001b[1;32m      1\u001b[0m rotation_params \u001b[39m=\u001b[39m [[[\u001b[39m1\u001b[39m, \u001b[39m1\u001b[39m, \u001b[39m1\u001b[39m, \u001b[39m1\u001b[39m], [\u001b[39m1\u001b[39m, \u001b[39m1\u001b[39m, \u001b[39m1\u001b[39m, \u001b[39m1\u001b[39m], [\u001b[39m1\u001b[39m, \u001b[39m1\u001b[39m, \u001b[39m1\u001b[39m, \u001b[39m1\u001b[39m]] \u001b[39mfor\u001b[39;00m i \u001b[39min\u001b[39;00m \u001b[39mrange\u001b[39m(\u001b[39m0\u001b[39m, depth)]\n\u001b[1;32m      2\u001b[0m coupling_params \u001b[39m=\u001b[39m [[\u001b[39m1\u001b[39m, \u001b[39m1\u001b[39m, \u001b[39m1\u001b[39m, \u001b[39m1\u001b[39m] \u001b[39mfor\u001b[39;00m i \u001b[39min\u001b[39;00m \u001b[39mrange\u001b[39m(\u001b[39m0\u001b[39m, depth)]\n\u001b[0;32m----> 3\u001b[0m \u001b[39mprint\u001b[39m(qml\u001b[39m.\u001b[39;49mdraw(qnode, expansion_strategy\u001b[39m=\u001b[39;49m\u001b[39m\"\u001b[39;49m\u001b[39mdevice\u001b[39;49m\u001b[39m\"\u001b[39;49m, show_matrices\u001b[39m=\u001b[39;49m\u001b[39mTrue\u001b[39;49;00m)(rotation_params, coupling_params, sample\u001b[39m=\u001b[39;49m[\u001b[39m1\u001b[39;49m, \u001b[39m0\u001b[39;49m, \u001b[39m1\u001b[39;49m, \u001b[39m0\u001b[39;49m]))\n",
            "File \u001b[0;32m~/miniconda3/envs/quantum-computing/lib/python3.11/site-packages/pennylane/drawer/draw.py:247\u001b[0m, in \u001b[0;36m_draw_qnode.<locals>.wrapper\u001b[0;34m(*args, **kwargs)\u001b[0m\n\u001b[1;32m    245\u001b[0m \u001b[39mtry\u001b[39;00m:\n\u001b[1;32m    246\u001b[0m     qnode\u001b[39m.\u001b[39mexpansion_strategy \u001b[39m=\u001b[39m expansion_strategy \u001b[39mor\u001b[39;00m original_expansion_strategy\n\u001b[0;32m--> 247\u001b[0m     tapes \u001b[39m=\u001b[39m qnode\u001b[39m.\u001b[39;49mconstruct(args, kwargs)\n\u001b[1;32m    248\u001b[0m \u001b[39mfinally\u001b[39;00m:\n\u001b[1;32m    249\u001b[0m     qnode\u001b[39m.\u001b[39mexpansion_strategy \u001b[39m=\u001b[39m original_expansion_strategy\n",
            "File \u001b[0;32m~/miniconda3/envs/quantum-computing/lib/python3.11/site-packages/pennylane/qnode.py:827\u001b[0m, in \u001b[0;36mQNode.construct\u001b[0;34m(self, args, kwargs)\u001b[0m\n\u001b[1;32m    824\u001b[0m \u001b[39mif\u001b[39;00m old_interface \u001b[39m==\u001b[39m \u001b[39m\"\u001b[39m\u001b[39mauto\u001b[39m\u001b[39m\"\u001b[39m:\n\u001b[1;32m    825\u001b[0m     \u001b[39mself\u001b[39m\u001b[39m.\u001b[39minterface \u001b[39m=\u001b[39m qml\u001b[39m.\u001b[39mmath\u001b[39m.\u001b[39mget_interface(\u001b[39m*\u001b[39margs, \u001b[39m*\u001b[39m\u001b[39mlist\u001b[39m(kwargs\u001b[39m.\u001b[39mvalues()))\n\u001b[0;32m--> 827\u001b[0m \u001b[39mself\u001b[39m\u001b[39m.\u001b[39m_tape \u001b[39m=\u001b[39m make_qscript(\u001b[39mself\u001b[39;49m\u001b[39m.\u001b[39;49mfunc, shots)(\u001b[39m*\u001b[39;49margs, \u001b[39m*\u001b[39;49m\u001b[39m*\u001b[39;49mkwargs)\n\u001b[1;32m    828\u001b[0m \u001b[39mself\u001b[39m\u001b[39m.\u001b[39m_qfunc_output \u001b[39m=\u001b[39m \u001b[39mself\u001b[39m\u001b[39m.\u001b[39mtape\u001b[39m.\u001b[39m_qfunc_output\n\u001b[1;32m    830\u001b[0m params \u001b[39m=\u001b[39m \u001b[39mself\u001b[39m\u001b[39m.\u001b[39mtape\u001b[39m.\u001b[39mget_parameters(trainable_only\u001b[39m=\u001b[39m\u001b[39mFalse\u001b[39;00m)\n",
            "File \u001b[0;32m~/miniconda3/envs/quantum-computing/lib/python3.11/site-packages/pennylane/tape/qscript.py:1482\u001b[0m, in \u001b[0;36mmake_qscript.<locals>.wrapper\u001b[0;34m(*args, **kwargs)\u001b[0m\n\u001b[1;32m   1480\u001b[0m \u001b[39mdef\u001b[39;00m \u001b[39mwrapper\u001b[39m(\u001b[39m*\u001b[39margs, \u001b[39m*\u001b[39m\u001b[39m*\u001b[39mkwargs):\n\u001b[1;32m   1481\u001b[0m     \u001b[39mwith\u001b[39;00m AnnotatedQueue() \u001b[39mas\u001b[39;00m q:\n\u001b[0;32m-> 1482\u001b[0m         result \u001b[39m=\u001b[39m fn(\u001b[39m*\u001b[39;49margs, \u001b[39m*\u001b[39;49m\u001b[39m*\u001b[39;49mkwargs)\n\u001b[1;32m   1484\u001b[0m     qscript \u001b[39m=\u001b[39m QuantumScript\u001b[39m.\u001b[39mfrom_queue(q, shots)\n\u001b[1;32m   1485\u001b[0m     qscript\u001b[39m.\u001b[39m_qfunc_output \u001b[39m=\u001b[39m result\n",
            "Cell \u001b[0;32mIn[29], line 8\u001b[0m, in \u001b[0;36mquantum_circuit\u001b[0;34m(rotation_params, coupling_params, sample)\u001b[0m\n\u001b[1;32m      5\u001b[0m \u001b[39mdef\u001b[39;00m \u001b[39mquantum_circuit\u001b[39m(rotation_params, coupling_params, sample\u001b[39m=\u001b[39m\u001b[39mNone\u001b[39;00m):\n\u001b[1;32m      6\u001b[0m \n\u001b[1;32m      7\u001b[0m     \u001b[39m# Prepares the initial basis state corresponding to the sample\u001b[39;00m\n\u001b[0;32m----> 8\u001b[0m     qml\u001b[39m.\u001b[39;49mBasisStatePreparation(sample, wires\u001b[39m=\u001b[39;49m\u001b[39mrange\u001b[39;49m(nr_qubits))\n\u001b[1;32m     10\u001b[0m     \u001b[39m# Prepares the variational ansatz for the circuit\u001b[39;00m\n\u001b[1;32m     11\u001b[0m     \u001b[39mfor\u001b[39;00m i \u001b[39min\u001b[39;00m \u001b[39mrange\u001b[39m(\u001b[39m0\u001b[39m, depth):\n",
            "File \u001b[0;32m~/miniconda3/envs/quantum-computing/lib/python3.11/site-packages/pennylane/templates/state_preparations/basis.py:76\u001b[0m, in \u001b[0;36mBasisStatePreparation.__init__\u001b[0;34m(self, basis_state, wires, do_queue, id)\u001b[0m\n\u001b[1;32m     74\u001b[0m n_bits \u001b[39m=\u001b[39m shape[\u001b[39m0\u001b[39m]\n\u001b[1;32m     75\u001b[0m \u001b[39mif\u001b[39;00m n_bits \u001b[39m!=\u001b[39m \u001b[39mlen\u001b[39m(wires):\n\u001b[0;32m---> 76\u001b[0m     \u001b[39mraise\u001b[39;00m \u001b[39mValueError\u001b[39;00m(\n\u001b[1;32m     77\u001b[0m         \u001b[39mf\u001b[39m\u001b[39m\"\u001b[39m\u001b[39mBasis states must be of length \u001b[39m\u001b[39m{\u001b[39;00m\u001b[39mlen\u001b[39m(wires)\u001b[39m}\u001b[39;00m\u001b[39m; state \u001b[39m\u001b[39m{\u001b[39;00mi\u001b[39m}\u001b[39;00m\u001b[39m has length \u001b[39m\u001b[39m{\u001b[39;00mn_bits\u001b[39m}\u001b[39;00m\u001b[39m.\u001b[39m\u001b[39m\"\u001b[39m\n\u001b[1;32m     78\u001b[0m     )\n\u001b[1;32m     80\u001b[0m \u001b[39mif\u001b[39;00m \u001b[39mnot\u001b[39;00m qml\u001b[39m.\u001b[39mmath\u001b[39m.\u001b[39mis_abstract(state):\n\u001b[1;32m     81\u001b[0m     \u001b[39mif\u001b[39;00m \u001b[39many\u001b[39m(bit \u001b[39mnot\u001b[39;00m \u001b[39min\u001b[39;00m [\u001b[39m0\u001b[39m, \u001b[39m1\u001b[39m] \u001b[39mfor\u001b[39;00m bit \u001b[39min\u001b[39;00m state):\n",
            "\u001b[0;31mValueError\u001b[0m: Basis states must be of length 5; state 0 has length 4."
          ]
        }
      ],
      "source": [
        "rotation_params = [[[1, 1, 1, 1], [1, 1, 1, 1], [1, 1, 1, 1]] for i in range(0, depth)]\n",
        "coupling_params = [[1, 1, 1, 1] for i in range(0, depth)]\n",
        "print(qml.draw(qnode, expansion_strategy=\"device\", show_matrices=True)(rotation_params, coupling_params, sample=[1, 0, 1, 0]))"
      ]
    },
    {
      "cell_type": "markdown",
      "metadata": {},
      "source": [
        "Recall that the final cost function depends not only on the expectation\n",
        "value of the Hamiltonian, but also the von Neumann entropy of the state,\n",
        "which is determined by the collection of $p_i(\\theta_i)$s. Since the\n",
        "entropy of a collection of multiple uncorrelated subsystems is the same\n",
        "as the sum of the individual values of entropy for each subsystem, we\n",
        "can sum the entropy values of each one-qubit system in the factorized\n",
        "space to get the total:\n"
      ]
    },
    {
      "cell_type": "code",
      "execution_count": 10,
      "metadata": {
        "collapsed": false
      },
      "outputs": [],
      "source": [
        "def calculate_entropy(distribution):\n",
        "\n",
        "    total_entropy = 0\n",
        "    for d in distribution:\n",
        "        total_entropy += -1 * d[0] * np.log(d[0]) + -1 * d[1] * np.log(d[1])\n",
        "\n",
        "    # Returns an array of the entropy values of the different initial density matrices\n",
        "\n",
        "    return total_entropy"
      ]
    },
    {
      "cell_type": "markdown",
      "metadata": {},
      "source": [
        "The Cost Function\n",
        "=================\n"
      ]
    },
    {
      "cell_type": "markdown",
      "metadata": {},
      "source": [
        "Finally, we combine the ansatz and the entropy function to get the cost\n",
        "function. In this demonstration, we deviate slightly from how VQT would\n",
        "be performed in practice. Instead of sampling from the probability\n",
        "distribution describing the initial mixed state, we use the ansatz to\n",
        "calculate\n",
        "$\\langle x_i | U^{\\dagger}(\\phi) \\hat{H} \\,U(\\phi) |x_i\\rangle$ for each\n",
        "basis state $|x_i\\rangle$. We then multiply each of these expectation\n",
        "values by their corresponding $(\\rho_\\theta)_{ii}$, which is exactly the\n",
        "probability of sampling $|x_i\\rangle$ from the distribution. Summing\n",
        "each of these terms together gives us the expected value of the\n",
        "Hamiltonian with respect to the transformed density matrix.\n",
        "\n",
        "In the case of this small, simple model, exact calculations such as this\n",
        "reduce the number of circuit executions, and thus the total execution\n",
        "time.\n",
        "\n",
        "You may have noticed previously that the \"structure\" of the parameters\n",
        "list passed into the ansatz is quite complicated. We write a general\n",
        "function that takes a one-dimensional list, and converts it into the\n",
        "nested list structure that can be inputed into the ansatz:\n"
      ]
    },
    {
      "cell_type": "code",
      "execution_count": 11,
      "metadata": {
        "collapsed": false
      },
      "outputs": [],
      "source": [
        "def convert_list(params):\n",
        "\n",
        "    # Separates the list of parameters\n",
        "    dist_params = params[0:nr_qubits]\n",
        "    ansatz_params_1 = params[nr_qubits : ((depth + 1) * nr_qubits)]\n",
        "    ansatz_params_2 = params[((depth + 1) * nr_qubits) :]\n",
        "\n",
        "    coupling = np.split(ansatz_params_1, depth)\n",
        "\n",
        "    # Partitions the parameters into multiple lists\n",
        "    split = np.split(ansatz_params_2, depth)\n",
        "    rotation = []\n",
        "    for s in split:\n",
        "        rotation.append(np.split(s, 3))\n",
        "\n",
        "    ansatz_params = [rotation, coupling]\n",
        "\n",
        "    return [dist_params, ansatz_params]"
      ]
    },
    {
      "cell_type": "markdown",
      "metadata": {},
      "source": [
        "We then pass this function, along with the ansatz and the entropy\n",
        "function into the final cost function:\n"
      ]
    },
    {
      "cell_type": "code",
      "execution_count": 12,
      "metadata": {
        "collapsed": false
      },
      "outputs": [],
      "source": [
        "def exact_cost(params):\n",
        "\n",
        "    global iterations\n",
        "\n",
        "    # Transforms the parameter list\n",
        "    parameters = convert_list(params)\n",
        "    dist_params = parameters[0]\n",
        "    ansatz_params = parameters[1]\n",
        "\n",
        "    # Creates the probability distribution\n",
        "    distribution = prob_dist(dist_params)\n",
        "\n",
        "    # Generates a list of all computational basis states of our qubit system\n",
        "    combos = itertools.product([0, 1], repeat=nr_qubits)\n",
        "    s = [list(c) for c in combos]\n",
        "\n",
        "    # Passes each basis state through the variational circuit and multiplies\n",
        "    # the calculated energy EV with the associated probability from the distribution\n",
        "    cost = 0\n",
        "    for i in s:\n",
        "        result = qnode(ansatz_params[0], ansatz_params[1], sample=i)\n",
        "        for j in range(0, len(i)):\n",
        "            result = result * distribution[j][i[j]]\n",
        "        cost += result\n",
        "\n",
        "    # Calculates the entropy and the final cost function\n",
        "    entropy = calculate_entropy(distribution)\n",
        "    final_cost = beta * cost - entropy\n",
        "\n",
        "    return final_cost"
      ]
    },
    {
      "cell_type": "markdown",
      "metadata": {},
      "source": [
        "We then create the function that is passed into the optimizer:\n"
      ]
    },
    {
      "cell_type": "code",
      "execution_count": 13,
      "metadata": {
        "collapsed": false
      },
      "outputs": [],
      "source": [
        "def cost_execution(params):\n",
        "\n",
        "    global iterations\n",
        "\n",
        "    cost = exact_cost(params)\n",
        "\n",
        "    if iterations % 50 == 0:\n",
        "        print(\"Cost at Step {}: {}\".format(iterations, cost))\n",
        "\n",
        "    iterations += 1\n",
        "    return cost"
      ]
    },
    {
      "cell_type": "markdown",
      "metadata": {},
      "source": [
        "The last step is to define the optimizer, and execute the optimization\n",
        "method. We use the \\\"Constrained Optimization by Linear Approximation\\\"\n",
        "([COBYLA](https://en.wikipedia.org/wiki/COBYLA)) optimization method,\n",
        "which is a gradient-free optimizer. We observe that for this algorithm,\n",
        "COBYLA has a lower runtime than its gradient-based counterparts, so we\n",
        "utilize it in this demonstration:\n"
      ]
    },
    {
      "cell_type": "code",
      "execution_count": 14,
      "metadata": {
        "collapsed": false
      },
      "outputs": [
        {
          "name": "stdout",
          "output_type": "stream",
          "text": [
            "Cost at Step 0: -2.541672126802494\n",
            "Cost at Step 50: -3.8190362423105766\n",
            "Cost at Step 100: -6.463074448587338\n",
            "Cost at Step 150: -7.3175560452491055\n",
            "Cost at Step 200: -6.831435578153499\n",
            "Cost at Step 250: -6.055916110588946\n",
            "Cost at Step 300: -8.442804876214373\n",
            "Cost at Step 350: -8.980712305099823\n",
            "Cost at Step 400: -9.898534666878986\n",
            "Cost at Step 450: -11.036795860849129\n",
            "Cost at Step 500: -11.549232114268575\n",
            "Cost at Step 550: -11.686192954483207\n",
            "Cost at Step 600: -11.72950632560122\n",
            "Cost at Step 650: -11.897788695173249\n",
            "Cost at Step 700: -12.164418831979836\n",
            "Cost at Step 750: -12.526690168833099\n",
            "Cost at Step 800: -12.585007504512483\n",
            "Cost at Step 850: -12.823160768753706\n",
            "Cost at Step 900: -12.951124604599862\n",
            "Cost at Step 950: -13.24608249678511\n",
            "Cost at Step 1000: -13.306419883160325\n",
            "Cost at Step 1050: -13.45534056534802\n",
            "Cost at Step 1100: -13.546488533256577\n",
            "Cost at Step 1150: -13.632798142823408\n",
            "Cost at Step 1200: -13.691947169843349\n",
            "Cost at Step 1250: -13.79542601779448\n",
            "Cost at Step 1300: -13.862068989238802\n",
            "Cost at Step 1350: -13.882503972914122\n",
            "Cost at Step 1400: -13.987935458030899\n",
            "Cost at Step 1450: -14.024587567890528\n",
            "Cost at Step 1500: -14.067033729694039\n",
            "Cost at Step 1550: -14.105103370173929\n"
          ]
        }
      ],
      "source": [
        "iterations = 0\n",
        "\n",
        "number = nr_qubits * (1 + depth * 4)\n",
        "params = [np.random.randint(-300, 300) / 100 for i in range(0, number)]\n",
        "out = minimize(cost_execution, x0=params, method=\"COBYLA\", options={\"maxiter\": 1600})\n",
        "out_params = out[\"x\"]"
      ]
    },
    {
      "cell_type": "markdown",
      "metadata": {},
      "source": [
        "We can now check to see how well our optimization method performed by\n",
        "writing a function that reconstructs the transformed density matrix of\n",
        "some initial state, with respect to lists of $\\theta$ and $\\phi$\n",
        "parameters:\n"
      ]
    },
    {
      "cell_type": "code",
      "execution_count": 15,
      "metadata": {
        "collapsed": false
      },
      "outputs": [],
      "source": [
        "def prepare_state(params, device):\n",
        "\n",
        "    # Initializes the density matrix\n",
        "\n",
        "    final_density_matrix = np.zeros((2 ** nr_qubits, 2 ** nr_qubits))\n",
        "\n",
        "    # Prepares the optimal parameters, creates the distribution and the bitstrings\n",
        "    parameters = convert_list(params)\n",
        "    dist_params = parameters[0]\n",
        "    unitary_params = parameters[1]\n",
        "\n",
        "    distribution = prob_dist(dist_params)\n",
        "\n",
        "    combos = itertools.product([0, 1], repeat=nr_qubits)\n",
        "    s = [list(c) for c in combos]\n",
        "\n",
        "    # Runs the circuit in the case of the optimal parameters, for each bitstring,\n",
        "    # and adds the result to the final density matrix\n",
        "\n",
        "    for i in s:\n",
        "        qnode(unitary_params[0], unitary_params[1], sample=i)\n",
        "        state = device.state\n",
        "        for j in range(0, len(i)):\n",
        "            state = np.sqrt(distribution[j][i[j]]) * state\n",
        "        final_density_matrix = np.add(final_density_matrix, np.outer(state, np.conj(state)))\n",
        "\n",
        "    return final_density_matrix\n",
        "\n",
        "# Prepares the density matrix\n",
        "prep_density_matrix = prepare_state(out_params, dev)"
      ]
    },
    {
      "cell_type": "markdown",
      "metadata": {},
      "source": [
        "We then display the prepared state by plotting a heatmap of the\n",
        "entry-wise absolute value of the density matrix:\n"
      ]
    },
    {
      "cell_type": "code",
      "execution_count": 16,
      "metadata": {
        "collapsed": false
      },
      "outputs": [
        {
          "data": {
            "image/png": "[encoded data removed]",
            "text/plain": [
              "<Figure size 640x480 with 2 Axes>"
            ]
          },
          "metadata": {},
          "output_type": "display_data"
        }
      ],
      "source": [
        "seaborn.heatmap(abs(prep_density_matrix))\n",
        "plt.show()"
      ]
    },
    {
      "cell_type": "markdown",
      "metadata": {},
      "source": [
        "Numerical Calculations\n",
        "======================\n"
      ]
    },
    {
      "cell_type": "markdown",
      "metadata": {},
      "source": [
        "To verify that we have in fact prepared a good approximation of the\n",
        "thermal state, let's calculate it numerically by taking the matrix\n",
        "exponential of the Heisenberg Hamiltonian, as was outlined earlier.\n"
      ]
    },
    {
      "cell_type": "code",
      "execution_count": 17,
      "metadata": {
        "collapsed": false
      },
      "outputs": [],
      "source": [
        "def create_target(qubit, beta, ham, graph):\n",
        "\n",
        "    # Calculates the matrix form of the density matrix, by taking\n",
        "    # the exponential of the Hamiltonian\n",
        "\n",
        "    h = ham(qubit, graph)\n",
        "    y = -1 * float(beta) * h\n",
        "    new_matrix = scipy.linalg.expm(np.array(y))\n",
        "    norm = np.trace(new_matrix)\n",
        "    final_target = (1 / norm) * new_matrix\n",
        "\n",
        "    return final_target\n",
        "\n",
        "\n",
        "target_density_matrix = create_target(\n",
        "    nr_qubits, beta,\n",
        "    create_hamiltonian_matrix,\n",
        "    interaction_graph\n",
        "    )"
      ]
    },
    {
      "cell_type": "markdown",
      "metadata": {},
      "source": [
        "Finally, we can plot a heatmap of the target density matrix:\n"
      ]
    },
    {
      "cell_type": "code",
      "execution_count": 18,
      "metadata": {
        "collapsed": false
      },
      "outputs": [
        {
          "data": {
            "image/png": "[encoded data removed]",
            "text/plain": [
              "<Figure size 640x480 with 2 Axes>"
            ]
          },
          "metadata": {},
          "output_type": "display_data"
        }
      ],
      "source": [
        "seaborn.heatmap(abs(target_density_matrix))\n",
        "plt.show()"
      ]
    },
    {
      "cell_type": "markdown",
      "metadata": {},
      "source": [
        "The two images look very similar, which suggests that we have\n",
        "constructed a good approximation of the thermal state! Alternatively, if\n",
        "you prefer a more quantitative measure of similarity, we can calculate\n",
        "the trace distance between the two density matrices, which is defined as\n",
        "\n",
        "$$T(\\rho, \\ \\sigma) \\ = \\ \\frac{1}{2} \\text{Tr} \\sqrt{(\\rho \\ - \\ \\sigma)^{\\dagger} (\\rho \\ - \\ \\sigma)},$$\n",
        "\n",
        "and is a metric on the space of density matrices:\n"
      ]
    },
    {
      "cell_type": "code",
      "execution_count": 22,
      "metadata": {
        "collapsed": false
      },
      "outputs": [
        {
          "name": "stdout",
          "output_type": "stream",
          "text": [
            "Trace Distance: 0.07190935359537123\n"
          ]
        }
      ],
      "source": [
        "def trace_distance(one, two):\n",
        "\n",
        "    return 0.5 * np.trace(np.absolute(np.add(one, -1 * two)))\n",
        "\n",
        "\n",
        "print(\"Trace Distance: \" + str(trace_distance(target_density_matrix, prep_density_matrix)))"
      ]
    },
    {
      "cell_type": "markdown",
      "metadata": {},
      "source": [
        "The closer to zero, the more similar the two states are. Thus, we have\n",
        "found a close approximation of the thermal state of $H$ with the VQT!\n"
      ]
    },
    {
      "cell_type": "markdown",
      "metadata": {},
      "source": [
        "References\n",
        "==========\n",
        "\n",
        "1.  Verdon, G., Marks, J., Nanda, S., Leichenauer, S., & Hidary, J.\n",
        "    (2019). Quantum Hamiltonian-Based Models and the Variational Quantum\n",
        "    Thermalizer Algorithm. arXiv preprint\n",
        "    [arXiv:1910.02071](https://arxiv.org/abs/1910.02071).\n",
        "\n",
        "About the author\n",
        "================\n"
      ]
    }
  ],
  "metadata": {
    "kernelspec": {
      "display_name": "Python 3",
      "language": "python",
      "name": "python3"
    },
    "language_info": {
      "codemirror_mode": {
        "name": "ipython",
        "version": 3
      },
      "file_extension": ".py",
      "mimetype": "text/x-python",
      "name": "python",
      "nbconvert_exporter": "python",
      "pygments_lexer": "ipython3",
      "version": "3.11.4"
    }
  },
  "nbformat": 4,
  "nbformat_minor": 0
}
