{
 "cells": [
  {
   "cell_type": "code",
   "execution_count": 14,
   "metadata": {},
   "outputs": [],
   "source": [
    "import sys\n",
    "sys.path.append('../')\n",
    "\n",
    "from quantumsim import *\n",
    "from pennylane import numpy as np\n",
    "import matplotlib.pyplot as plt"
   ]
  },
  {
   "cell_type": "code",
   "execution_count": 15,
   "metadata": {},
   "outputs": [],
   "source": [
    "params = {\n",
    "    \"sites\": 2,\n",
    "    \"hopping\": -1, \n",
    "    \"potential\": 2,\n",
    "}\n",
    "\n",
    "hubbard_chain = vqe_fermihubbard(params)\n",
    "hubbard_chain.set_group_characteristics()"
   ]
  },
  {
   "cell_type": "code",
   "execution_count": 16,
   "metadata": {},
   "outputs": [],
   "source": [
    "ansatz_params = {\n",
    "    \"repetitions\": 3,\n",
    "    \"base\": \"default.qubit\",\n",
    "    \"backend\": None,\n",
    "    \"interface\": \"autograd\",\n",
    "    \"shots\": 1000.0,\n",
    "    \"token\": None,\n",
    "}\n",
    "\n",
    "hubbard_chain.set_device(ansatz_params)\n",
    "hubbard_chain.set_node(ansatz_params)\n",
    "\n",
    "rep = ansatz_params[\"repetitions\"]\n",
    "number = (hubbard_chain.qubits)*rep"
   ]
  },
  {
   "cell_type": "code",
   "execution_count": 17,
   "metadata": {},
   "outputs": [],
   "source": [
    "minimizate_params = {\n",
    "    \"type\": \"SLSQP\",\n",
    "    \"maxiter\": 100,\n",
    "    \"tol\": 0.000001,\n",
    "    \"number\": hubbard_chain.qubits*ansatz_params[\"repetitions\"]}\n",
    "\n",
    "# Ejecucion del optimizador para calcular los niveles \n",
    "# de energia\n",
    "\n",
    "optimizer = scipy_optimizer(minimizate_params)\n",
    "energy, optimum = optimizer.VQE(hubbard_chain.cost_function, hubbard_chain.qubits)"
   ]
  },
  {
   "cell_type": "code",
   "execution_count": 18,
   "metadata": {},
   "outputs": [
    {
     "data": {
      "text/plain": [
       "tensor(-1.70927514, requires_grad=True)"
      ]
     },
     "execution_count": 18,
     "metadata": {},
     "output_type": "execute_result"
    }
   ],
   "source": [
    "energy[-1]"
   ]
  },
  {
   "cell_type": "code",
   "execution_count": 19,
   "metadata": {},
   "outputs": [
    {
     "data": {
      "image/png": "[encoded data removed]",
      "text/plain": [
       "<Figure size 400x400 with 1 Axes>"
      ]
     },
     "metadata": {},
     "output_type": "display_data"
    }
   ],
   "source": [
    "fig, ax = plt.subplots(1, 1, figsize=(4,4),)\n",
    "ax.set_xlabel(\"Optimization step\", fontsize=13)\n",
    "ax.set_ylabel(\"Energy\", fontsize=13)\n",
    "\n",
    "\n",
    "fig.suptitle('Ground state of a spin chain', fontsize=12)\n",
    "\n",
    "ax.plot([i for i in range(len(energy))], energy, \"g\", ls=\"dashed\")\n",
    "fig.tight_layout()\n",
    "plt.show()"
   ]
  },
  {
   "cell_type": "code",
   "execution_count": 20,
   "metadata": {},
   "outputs": [],
   "source": [
    "qubits = params[\"sites\"]*2\n",
    "hopping = params[\"hopping\"]\n",
    "potential = params[\"potential\"]\n",
    "\n",
    "fermi_sentence = 0.0\n",
    "coeff = []\n",
    "expression = []\n",
    "\n",
    "for i in range(params[\"sites\"]-1):\n",
    "    fermi_sentence +=  -hopping*( FermiC(2*i)*FermiA(2*i +2) + FermiC(2*i +2)*FermiA(2*i) )\n",
    "    fermi_sentence +=  -hopping*( FermiC(2*i+1)*FermiA(2*i +3) + FermiC(2*i +3)*FermiA(2*i +1) )\n",
    "    fermi_sentence +=  potential*FermiC(2*i)*FermiA(2*i)*FermiC(2*i +1)*FermiA(2*i +1) \n",
    "\n",
    "h = qml.jordan_wigner( fermi_sentence, ps=True).to_mat(wire_order=[i for i in range(4)])"
   ]
  },
  {
   "cell_type": "code",
   "execution_count": 21,
   "metadata": {},
   "outputs": [
    {
     "data": {
      "text/plain": [
       "1.0 * a⁺(0) a(2)\n",
       "+ 1.0 * a⁺(2) a(0)\n",
       "+ 0.0 * I\n",
       "+ 1.0 * a⁺(1) a(3)\n",
       "+ 1.0 * a⁺(3) a(1)\n",
       "+ 2.0 * a⁺(0) a(0) a⁺(1) a(1)"
      ]
     },
     "execution_count": 21,
     "metadata": {},
     "output_type": "execute_result"
    }
   ],
   "source": [
    "fermi_sentence"
   ]
  },
  {
   "cell_type": "code",
   "execution_count": 22,
   "metadata": {},
   "outputs": [
    {
     "name": "stdout",
     "output_type": "stream",
     "text": [
      "[-1.70928+0.j -1.     +0.j -1.     +0.j -0.41421+0.j -0.41421+0.j\n",
      " -0.     +0.j  0.     +0.j  0.     +0.j  0.     +0.j  0.80606+0.j\n",
      "  1.     +0.j  1.     +0.j  2.     +0.j  2.41421+0.j  2.41421+0.j\n",
      "  2.90321+0.j]\n"
     ]
    }
   ],
   "source": [
    "ee = np.sort( np.linalg.eigvals(h) )\n",
    "print( np.round(ee,5) )"
   ]
  }
 ],
 "metadata": {
  "kernelspec": {
   "display_name": "env",
   "language": "python",
   "name": "python3"
  },
  "language_info": {
   "codemirror_mode": {
    "name": "ipython",
    "version": 3
   },
   "file_extension": ".py",
   "mimetype": "text/x-python",
   "name": "python",
   "nbconvert_exporter": "python",
   "pygments_lexer": "ipython3",
   "version": "3.9.6"
  },
  "orig_nbformat": 4
 },
 "nbformat": 4,
 "nbformat_minor": 2
}
