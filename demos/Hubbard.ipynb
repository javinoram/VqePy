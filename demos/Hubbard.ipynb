{
 "cells": [
  {
   "cell_type": "code",
   "execution_count": 2,
   "metadata": {},
   "outputs": [],
   "source": [
    "import sys\n",
    "sys.path.append('../')\n",
    "\n",
    "from quantumsim import *\n",
    "from pennylane import numpy as np\n",
    "import matplotlib.pyplot as plt\n",
    "from pympler import asizeof\n",
    "import time\n",
    "import networkx as nx"
   ]
  },
  {
   "cell_type": "code",
   "execution_count": null,
   "metadata": {},
   "outputs": [],
   "source": [
    "params1 = {\n",
    "        \"sites\": 3, \n",
    "        \"hopping\": 1.0,\n",
    "        \"potential\": 0.0, \n",
    "        \"pattern\": \"open\"\n",
    "        }\n",
    "\n",
    "hubbard_chain1 = vqe_fermihubbard(params1)\n",
    "hubbard_chain1.set_group_characteristics()\n",
    "        \n",
    "ansatz_params = {\n",
    "            \"repetitions\": 1,\n",
    "            \"base\": \"default.qubit\",\n",
    "            \"interface\": \"autograd\",\n",
    "            \"electrons\": params1[\"sites\"],\n",
    "            \"qubits\": hubbard_chain1.qubits,\n",
    "        }\n",
    "\n",
    "ansazt = upccgsd_ansatz()\n",
    "ansazt.set_device( ansatz_params )\n",
    "ansazt.set_node( ansatz_params )\n",
    "ansazt.set_state( ansatz_params[\"electrons\"] )\n",
    "a,b = qml.kUpCCGSD.shape(k=ansatz_params[\"repetitions\"], n_wires=hubbard_chain1.qubits, delta_sz=0)\n",
    "\n",
    "minimizate_params = {\n",
    "                \"type\": \"SLSQP\",\n",
    "                \"maxiter\": 100,\n",
    "                \"tol\": 1e-6,\n",
    "                \"number\":  a*b,\n",
    "                \"theta\":[\"generic\", 0.3]}\n",
    "\n",
    "hubbard_chain1.node = ansazt.node\n",
    "optimizer = gradiend_optimizer(minimizate_params)\n",
    "energy1, optimum = optimizer.VQE(hubbard_chain1.cost_function)"
   ]
  },
  {
   "cell_type": "code",
   "execution_count": 2,
   "metadata": {},
   "outputs": [
    {
     "data": {
      "text/plain": [
       "(['N', 'H', 'H', 'H'],\n",
       " tensor([ 0.,  0., -2.,  0., -0.,  0., -0., -0.,  0.,  0.,  0.], requires_grad=True))"
      ]
     },
     "execution_count": 2,
     "metadata": {},
     "output_type": "execute_result"
    }
   ],
   "source": [
    "def NH3positions(altura, bound):\n",
    "    symbols = [\"N\", \"H\", \"H\", \"H\"]\n",
    "    lado = np.sqrt(3)*np.sqrt(bound*bound - altura*altura)\n",
    "    x = np.sqrt( bound*bound - altura*altura - lado*lado/4.0 )\n",
    "    coordinates = np.array([0.0, 0.0, altura, lado/2, -x, 0.0, -lado/2, -x, 0.0, np.sqrt(bound*bound - altura*altura), 0.0])\n",
    "    return symbols, coordinates\n",
    "\n",
    "NH3positions(-2, 2.0)\n"
   ]
  },
  {
   "cell_type": "code",
   "execution_count": 2,
   "metadata": {},
   "outputs": [
    {
     "name": "stdout",
     "output_type": "stream",
     "text": [
      "4\n"
     ]
    }
   ],
   "source": [
    "symbols = [\"H\", \"H\"]\n",
    "coordinates = np.array([0.0, 0.0, 0.86, 0.0, 0.0, -0.86])\n",
    "params = {\n",
    "    'mapping': \"jordan_wigner\",\n",
    "    'charge': 0, \n",
    "    'mult': 1,\n",
    "    'basis': 'sto-3g',\n",
    "    'method': 'dhf',\n",
    "}\n",
    "\n",
    "system = adap_molecular(symbols, coordinates, params)\n",
    "print(system.qubits)"
   ]
  },
  {
   "cell_type": "code",
   "execution_count": 3,
   "metadata": {},
   "outputs": [],
   "source": [
    "ansatz_params = {\n",
    "            \"repetitions\": 1,\n",
    "            \"base\": \"default.qubit\",\n",
    "            \"interface\": \"autograd\",\n",
    "            \"electrons\": 2,\n",
    "        }\n",
    "\n",
    "system.set_device( ansatz_params )\n",
    "system.set_node( ansatz_params )\n",
    "system.set_state( ansatz_params[\"electrons\"] )"
   ]
  },
  {
   "cell_type": "code",
   "execution_count": 5,
   "metadata": {},
   "outputs": [
    {
     "ename": "UFuncTypeError",
     "evalue": "ufunc 'multiply' did not contain a loop with signature matching types (dtype('<U32'), dtype('float64')) -> None",
     "output_type": "error",
     "traceback": [
      "\u001b[0;31m---------------------------------------------------------------------------\u001b[0m",
      "\u001b[0;31mUFuncTypeError\u001b[0m                            Traceback (most recent call last)",
      "\u001b[1;32m/Users/jnorambu/Documents/vqesimulation/demos/Hubbard.ipynb Cell 5\u001b[0m line \u001b[0;36m8\n\u001b[1;32m      <a href='vscode-notebook-cell:/Users/jnorambu/Documents/vqesimulation/demos/Hubbard.ipynb#X46sZmlsZQ%3D%3D?line=0'>1</a>\u001b[0m minimizate_params \u001b[39m=\u001b[39m {\n\u001b[1;32m      <a href='vscode-notebook-cell:/Users/jnorambu/Documents/vqesimulation/demos/Hubbard.ipynb#X46sZmlsZQ%3D%3D?line=1'>2</a>\u001b[0m     \u001b[39m\"\u001b[39m\u001b[39mmaxiter\u001b[39m\u001b[39m\"\u001b[39m: \u001b[39m20\u001b[39m,\n\u001b[1;32m      <a href='vscode-notebook-cell:/Users/jnorambu/Documents/vqesimulation/demos/Hubbard.ipynb#X46sZmlsZQ%3D%3D?line=2'>3</a>\u001b[0m     \u001b[39m\"\u001b[39m\u001b[39mqubits\u001b[39m\u001b[39m\"\u001b[39m: system\u001b[39m.\u001b[39mqubits,\n\u001b[1;32m      <a href='vscode-notebook-cell:/Users/jnorambu/Documents/vqesimulation/demos/Hubbard.ipynb#X46sZmlsZQ%3D%3D?line=3'>4</a>\u001b[0m     \u001b[39m\"\u001b[39m\u001b[39melectrons\u001b[39m\u001b[39m\"\u001b[39m: \u001b[39m2\u001b[39m,\n\u001b[1;32m      <a href='vscode-notebook-cell:/Users/jnorambu/Documents/vqesimulation/demos/Hubbard.ipynb#X46sZmlsZQ%3D%3D?line=4'>5</a>\u001b[0m     \u001b[39m\"\u001b[39m\u001b[39mtheta\u001b[39m\u001b[39m\"\u001b[39m:[\u001b[39m\"\u001b[39m\u001b[39mgeneric\u001b[39m\u001b[39m\"\u001b[39m, \u001b[39m0.3\u001b[39m]}\n\u001b[1;32m      <a href='vscode-notebook-cell:/Users/jnorambu/Documents/vqesimulation/demos/Hubbard.ipynb#X46sZmlsZQ%3D%3D?line=6'>7</a>\u001b[0m optimizer \u001b[39m=\u001b[39m adap_optimizer(minimizate_params)\n\u001b[0;32m----> <a href='vscode-notebook-cell:/Users/jnorambu/Documents/vqesimulation/demos/Hubbard.ipynb#X46sZmlsZQ%3D%3D?line=7'>8</a>\u001b[0m energy1, optimum \u001b[39m=\u001b[39m optimizer\u001b[39m.\u001b[39;49mMinimumCircuit(system\u001b[39m.\u001b[39;49mnode)\n",
      "File \u001b[0;32m~/Documents/vqesimulation/demos/../quantumsim/optimizers/adap_opt.py:46\u001b[0m, in \u001b[0;36madap_optimizer.MinimumCircuit\u001b[0;34m(self, base_circuit)\u001b[0m\n\u001b[1;32m     44\u001b[0m \u001b[39mdef\u001b[39;00m \u001b[39mMinimumCircuit\u001b[39m(\u001b[39mself\u001b[39m, base_circuit):\n\u001b[1;32m     45\u001b[0m     \u001b[39mfor\u001b[39;00m i \u001b[39min\u001b[39;00m \u001b[39mrange\u001b[39m(\u001b[39mlen\u001b[39m(\u001b[39mself\u001b[39m\u001b[39m.\u001b[39moperator_pool)):\n\u001b[0;32m---> 46\u001b[0m         circuit, energy, gradient \u001b[39m=\u001b[39m \u001b[39mself\u001b[39;49m\u001b[39m.\u001b[39;49moptimizer\u001b[39m.\u001b[39;49mstep_and_cost(base_circuit, \u001b[39mself\u001b[39;49m\u001b[39m.\u001b[39;49moperator_pool)\n\u001b[1;32m     47\u001b[0m         \u001b[39mif\u001b[39;00m i \u001b[39m%\u001b[39m \u001b[39m3\u001b[39m \u001b[39m==\u001b[39m \u001b[39m0\u001b[39m:\n\u001b[1;32m     48\u001b[0m             \u001b[39mprint\u001b[39m(\u001b[39m\"\u001b[39m\u001b[39mn = \u001b[39m\u001b[39m{:}\u001b[39;00m\u001b[39m,  E = \u001b[39m\u001b[39m{:.8f}\u001b[39;00m\u001b[39m H, Largest Gradient = \u001b[39m\u001b[39m{:.3f}\u001b[39;00m\u001b[39m\"\u001b[39m\u001b[39m.\u001b[39mformat(i, energy, gradient))\n",
      "File \u001b[0;32m~/Documents/vqesimulation/venv/lib/python3.9/site-packages/pennylane/optimize/adaptive.py:213\u001b[0m, in \u001b[0;36mAdaptiveOptimizer.step_and_cost\u001b[0;34m(self, circuit, operator_pool, drain_pool, params_zero)\u001b[0m\n\u001b[1;32m    210\u001b[0m     params \u001b[39m=\u001b[39m np\u001b[39m.\u001b[39marray([gate\u001b[39m.\u001b[39mparameters[\u001b[39m0\u001b[39m] \u001b[39mfor\u001b[39;00m gate \u001b[39min\u001b[39;00m selected_gates], requires_grad\u001b[39m=\u001b[39m\u001b[39mTrue\u001b[39;00m)\n\u001b[1;32m    212\u001b[0m \u001b[39mfor\u001b[39;00m _ \u001b[39min\u001b[39;00m \u001b[39mrange\u001b[39m(\u001b[39mself\u001b[39m\u001b[39m.\u001b[39mparam_steps):\n\u001b[0;32m--> 213\u001b[0m     params, _ \u001b[39m=\u001b[39m optimizer\u001b[39m.\u001b[39;49mstep_and_cost(\n\u001b[1;32m    214\u001b[0m         qnode, params, gates\u001b[39m=\u001b[39;49mselected_gates, initial_circuit\u001b[39m=\u001b[39;49mcircuit\u001b[39m.\u001b[39;49mfunc\n\u001b[1;32m    215\u001b[0m     )\n\u001b[1;32m    217\u001b[0m qnode\u001b[39m.\u001b[39mfunc \u001b[39m=\u001b[39m append_gate(params, selected_gates)(circuit\u001b[39m.\u001b[39mfunc)\n\u001b[1;32m    219\u001b[0m \u001b[39mreturn\u001b[39;00m qnode, cost, \u001b[39mmax\u001b[39m(\u001b[39mabs\u001b[39m(qml\u001b[39m.\u001b[39mmath\u001b[39m.\u001b[39mtoarray(grads)))\n",
      "File \u001b[0;32m~/Documents/vqesimulation/venv/lib/python3.9/site-packages/pennylane/optimize/gradient_descent.py:60\u001b[0m, in \u001b[0;36mGradientDescentOptimizer.step_and_cost\u001b[0;34m(self, objective_fn, grad_fn, *args, **kwargs)\u001b[0m\n\u001b[1;32m     40\u001b[0m \u001b[39m\u001b[39m\u001b[39m\"\"\"Update trainable arguments with one step of the optimizer and return the corresponding\u001b[39;00m\n\u001b[1;32m     41\u001b[0m \u001b[39mobjective function value prior to the step.\u001b[39;00m\n\u001b[1;32m     42\u001b[0m \n\u001b[0;32m   (...)\u001b[0m\n\u001b[1;32m     56\u001b[0m \u001b[39m    If single arg is provided, list [array] is replaced by array.\u001b[39;00m\n\u001b[1;32m     57\u001b[0m \u001b[39m\"\"\"\u001b[39;00m\n\u001b[1;32m     59\u001b[0m g, forward \u001b[39m=\u001b[39m \u001b[39mself\u001b[39m\u001b[39m.\u001b[39mcompute_grad(objective_fn, args, kwargs, grad_fn\u001b[39m=\u001b[39mgrad_fn)\n\u001b[0;32m---> 60\u001b[0m new_args \u001b[39m=\u001b[39m \u001b[39mself\u001b[39;49m\u001b[39m.\u001b[39;49mapply_grad(g, args)\n\u001b[1;32m     62\u001b[0m \u001b[39mif\u001b[39;00m forward \u001b[39mis\u001b[39;00m \u001b[39mNone\u001b[39;00m:\n\u001b[1;32m     63\u001b[0m     forward \u001b[39m=\u001b[39m objective_fn(\u001b[39m*\u001b[39margs, \u001b[39m*\u001b[39m\u001b[39m*\u001b[39mkwargs)\n",
      "File \u001b[0;32m~/Documents/vqesimulation/venv/lib/python3.9/site-packages/pennylane/optimize/gradient_descent.py:142\u001b[0m, in \u001b[0;36mGradientDescentOptimizer.apply_grad\u001b[0;34m(self, grad, args)\u001b[0m\n\u001b[1;32m    140\u001b[0m \u001b[39mfor\u001b[39;00m index, arg \u001b[39min\u001b[39;00m \u001b[39menumerate\u001b[39m(args):\n\u001b[1;32m    141\u001b[0m     \u001b[39mif\u001b[39;00m \u001b[39mgetattr\u001b[39m(arg, \u001b[39m\"\u001b[39m\u001b[39mrequires_grad\u001b[39m\u001b[39m\"\u001b[39m, \u001b[39mFalse\u001b[39;00m):\n\u001b[0;32m--> 142\u001b[0m         args_new[index] \u001b[39m=\u001b[39m arg \u001b[39m-\u001b[39m \u001b[39mself\u001b[39;49m\u001b[39m.\u001b[39;49mstepsize \u001b[39m*\u001b[39;49m grad[trained_index]\n\u001b[1;32m    144\u001b[0m         trained_index \u001b[39m+\u001b[39m\u001b[39m=\u001b[39m \u001b[39m1\u001b[39m\n\u001b[1;32m    146\u001b[0m \u001b[39mreturn\u001b[39;00m args_new\n",
      "\u001b[0;31mUFuncTypeError\u001b[0m: ufunc 'multiply' did not contain a loop with signature matching types (dtype('<U32'), dtype('float64')) -> None"
     ]
    }
   ],
   "source": [
    "minimizate_params = {\n",
    "    \"maxiter\": 20,\n",
    "    \"qubits\": system.qubits,\n",
    "    \"electrons\": 2,\n",
    "    \"theta\":[\"generic\", 0.3]}\n",
    "\n",
    "optimizer = adap_optimizer(minimizate_params)\n",
    "energy1, optimum = optimizer.MinimumCircuit(system.node)"
   ]
  },
  {
   "cell_type": "code",
   "execution_count": null,
   "metadata": {},
   "outputs": [],
   "source": []
  },
  {
   "cell_type": "code",
   "execution_count": 25,
   "metadata": {},
   "outputs": [
    {
     "name": "stdout",
     "output_type": "stream",
     "text": [
      "[((0, 0), (1, 0)), ((0, 0), (0, 1)), ((0, 1), (1, 1)), ((0, 1), (0, 2)), ((0, 2), (1, 2)), ((1, 0), (1, 1)), ((1, 1), (1, 2))]\n",
      "par\n",
      "0 6\n",
      "0 2\n",
      "2 8\n",
      "2 4\n",
      "4 10\n",
      "6 8\n",
      "8 10\n",
      "impar\n",
      "1 7\n",
      "1 3\n",
      "3 9\n",
      "3 5\n",
      "5 11\n",
      "7 9\n",
      "9 11\n"
     ]
    }
   ],
   "source": [
    "a = nx.grid_2d_graph(2, 3, False).edges()\n",
    "print(a)\n",
    "\n",
    "print(\"par\")\n",
    "for i in a:\n",
    "    x,y = i\n",
    "    print(2*3*x[0] + 2*x[1], 2*3*y[0] + 2*y[1])\n",
    "\n",
    "print(\"impar\")\n",
    "for i in a:\n",
    "    x,y = i\n",
    "    print(2*3*x[0] + 2*x[1]+1, 2*3*y[0] + 2*y[1]+1)"
   ]
  },
  {
   "cell_type": "code",
   "execution_count": 10,
   "metadata": {},
   "outputs": [
    {
     "data": {
      "image/png": "[encoded data removed]",
      "text/plain": [
       "<Figure size 640x480 with 1 Axes>"
      ]
     },
     "metadata": {},
     "output_type": "display_data"
    }
   ],
   "source": [
    "import matplotlib.pyplot as plt\n",
    "nx.draw(nx.grid_2d_graph(1, 5, True), with_labels=True, font_weight='bold')"
   ]
  },
  {
   "cell_type": "code",
   "execution_count": 13,
   "metadata": {},
   "outputs": [
    {
     "data": {
      "image/png": "[encoded data removed]",
      "text/plain": [
       "<Figure size 640x480 with 1 Axes>"
      ]
     },
     "metadata": {},
     "output_type": "display_data"
    }
   ],
   "source": [
    "nx.draw(nx.triangular_lattice_graph(3, 5, False), with_labels=True, font_weight='bold')"
   ]
  },
  {
   "cell_type": "code",
   "execution_count": 7,
   "metadata": {},
   "outputs": [
    {
     "ename": "AttributeError",
     "evalue": "module 'networkx' has no attribute 'square_lattice_graph'",
     "output_type": "error",
     "traceback": [
      "\u001b[0;31m---------------------------------------------------------------------------\u001b[0m",
      "\u001b[0;31mAttributeError\u001b[0m                            Traceback (most recent call last)",
      "\u001b[1;32m/Users/jnorambu/Documents/vqesimulation/demos/Hubbard.ipynb Cell 10\u001b[0m line \u001b[0;36m1\n\u001b[0;32m----> <a href='vscode-notebook-cell:/Users/jnorambu/Documents/vqesimulation/demos/Hubbard.ipynb#W5sZmlsZQ%3D%3D?line=0'>1</a>\u001b[0m nx\u001b[39m.\u001b[39mdraw(nx\u001b[39m.\u001b[39;49msquare_lattice_graph(\u001b[39m3\u001b[39m, \u001b[39m5\u001b[39m, \u001b[39mFalse\u001b[39;00m), with_labels\u001b[39m=\u001b[39m\u001b[39mFalse\u001b[39;00m, font_weight\u001b[39m=\u001b[39m\u001b[39m'\u001b[39m\u001b[39mbold\u001b[39m\u001b[39m'\u001b[39m)\n",
      "\u001b[0;31mAttributeError\u001b[0m: module 'networkx' has no attribute 'square_lattice_graph'"
     ]
    }
   ],
   "source": [
    "nx.draw(nx.square_lattice_graph(3, 5, False), with_labels=False, font_weight='bold')"
   ]
  },
  {
   "cell_type": "code",
   "execution_count": 2,
   "metadata": {},
   "outputs": [
    {
     "name": "stdout",
     "output_type": "stream",
     "text": [
      "0\n",
      "[tensor(0.50696213, requires_grad=True), tensor(0.00693627, requires_grad=True), tensor(0.00787649, requires_grad=True), tensor(0.00786936, requires_grad=True), tensor(0.00431824, requires_grad=True), tensor(0.00431824, requires_grad=True), tensor(0.00341216, requires_grad=True), tensor(0.2499072, requires_grad=True), tensor(0.25336015, requires_grad=True)]\n",
      "[<autograd.numpy.numpy_boxes.ArrayBox object at 0x176ce3ac0>, <autograd.numpy.numpy_boxes.ArrayBox object at 0x176b359c0>, <autograd.numpy.numpy_boxes.ArrayBox object at 0x17687ec80>, <autograd.numpy.numpy_boxes.ArrayBox object at 0x176b19b80>, <autograd.numpy.numpy_boxes.ArrayBox object at 0x1767b4c00>, <autograd.numpy.numpy_boxes.ArrayBox object at 0x176796940>, <autograd.numpy.numpy_boxes.ArrayBox object at 0x280d95fc0>, <autograd.numpy.numpy_boxes.ArrayBox object at 0x177d96a80>, <autograd.numpy.numpy_boxes.ArrayBox object at 0x176ef8480>]\n",
      "[tensor(0.3722141, requires_grad=True), tensor(-0.13810248, requires_grad=True), tensor(-0.12637348, requires_grad=True), tensor(-0.13667746, requires_grad=True), tensor(-0.12289649, requires_grad=True), tensor(-0.12289649, requires_grad=True), tensor(-0.16084331, requires_grad=True), tensor(0.20044007, requires_grad=True), tensor(0.07991892, requires_grad=True)]\n",
      "[<autograd.numpy.numpy_boxes.ArrayBox object at 0x16c6f8f80>, <autograd.numpy.numpy_boxes.ArrayBox object at 0x280e70200>, <autograd.numpy.numpy_boxes.ArrayBox object at 0x280e38f80>, <autograd.numpy.numpy_boxes.ArrayBox object at 0x281ac1700>, <autograd.numpy.numpy_boxes.ArrayBox object at 0x281ac1680>, <autograd.numpy.numpy_boxes.ArrayBox object at 0x280c18f00>, <autograd.numpy.numpy_boxes.ArrayBox object at 0x280a1a2c0>, <autograd.numpy.numpy_boxes.ArrayBox object at 0x177a3c440>, <autograd.numpy.numpy_boxes.ArrayBox object at 0x177df33c0>]\n",
      "[tensor(0.24405158, requires_grad=True), tensor(-0.28371623, requires_grad=True), tensor(-0.20519163, requires_grad=True), tensor(-0.24560672, requires_grad=True), tensor(-0.17221013, requires_grad=True), tensor(-0.17221013, requires_grad=True), tensor(-0.3466304, requires_grad=True), tensor(0.04730197, requires_grad=True), tensor(-0.11285554, requires_grad=True)]\n",
      "[<autograd.numpy.numpy_boxes.ArrayBox object at 0x1767cd140>, <autograd.numpy.numpy_boxes.ArrayBox object at 0x280d8f3c0>, <autograd.numpy.numpy_boxes.ArrayBox object at 0x281a4c440>, <autograd.numpy.numpy_boxes.ArrayBox object at 0x280d491c0>, <autograd.numpy.numpy_boxes.ArrayBox object at 0x1767d1700>, <autograd.numpy.numpy_boxes.ArrayBox object at 0x1768de400>, <autograd.numpy.numpy_boxes.ArrayBox object at 0x176a3b280>, <autograd.numpy.numpy_boxes.ArrayBox object at 0x281a16b00>, <autograd.numpy.numpy_boxes.ArrayBox object at 0x176fac840>]\n",
      "[tensor(0.16467655, requires_grad=True), tensor(-0.36904222, requires_grad=True), tensor(-0.23341801, requires_grad=True), tensor(-0.30610736, requires_grad=True), tensor(-0.17133031, requires_grad=True), tensor(-0.17133031, requires_grad=True), tensor(-0.48071043, requires_grad=True), tensor(-0.13140426, requires_grad=True), tensor(-0.23511305, requires_grad=True)]\n",
      "[<autograd.numpy.numpy_boxes.ArrayBox object at 0x177be0a40>, <autograd.numpy.numpy_boxes.ArrayBox object at 0x177d31140>, <autograd.numpy.numpy_boxes.ArrayBox object at 0x177ee6780>, <autograd.numpy.numpy_boxes.ArrayBox object at 0x280988d40>, <autograd.numpy.numpy_boxes.ArrayBox object at 0x177be0580>, <autograd.numpy.numpy_boxes.ArrayBox object at 0x177b1a1c0>, <autograd.numpy.numpy_boxes.ArrayBox object at 0x177ee6340>, <autograd.numpy.numpy_boxes.ArrayBox object at 0x280a7fcc0>, <autograd.numpy.numpy_boxes.ArrayBox object at 0x176d4a180>]\n",
      "[tensor(0.13856616, requires_grad=True), tensor(-0.39163169, requires_grad=True), tensor(-0.24061238, requires_grad=True), tensor(-0.3343688, requires_grad=True), tensor(-0.1577658, requires_grad=True), tensor(-0.1577658, requires_grad=True), tensor(-0.54514492, requires_grad=True), tensor(-0.25625446, requires_grad=True), tensor(-0.28271949, requires_grad=True)]\n",
      "[<autograd.numpy.numpy_boxes.ArrayBox object at 0x280f0d880>, <autograd.numpy.numpy_boxes.ArrayBox object at 0x280969f40>, <autograd.numpy.numpy_boxes.ArrayBox object at 0x176ce2a80>, <autograd.numpy.numpy_boxes.ArrayBox object at 0x176a8ebc0>, <autograd.numpy.numpy_boxes.ArrayBox object at 0x280a53900>, <autograd.numpy.numpy_boxes.ArrayBox object at 0x177932440>, <autograd.numpy.numpy_boxes.ArrayBox object at 0x17681fec0>, <autograd.numpy.numpy_boxes.ArrayBox object at 0x280c6fe80>, <autograd.numpy.numpy_boxes.ArrayBox object at 0x2819c4940>]\n",
      "[tensor(0.13638944, requires_grad=True), tensor(-0.38806804, requires_grad=True), tensor(-0.24099486, requires_grad=True), tensor(-0.34766309, requires_grad=True), tensor(-0.14685679, requires_grad=True), tensor(-0.14685679, requires_grad=True), tensor(-0.57386051, requires_grad=True), tensor(-0.32522135, requires_grad=True), tensor(-0.29647397, requires_grad=True)]\n",
      "[<autograd.numpy.numpy_boxes.ArrayBox object at 0x176da1240>, <autograd.numpy.numpy_boxes.ArrayBox object at 0x176f84e80>, <autograd.numpy.numpy_boxes.ArrayBox object at 0x1768dfa40>, <autograd.numpy.numpy_boxes.ArrayBox object at 0x280a10340>, <autograd.numpy.numpy_boxes.ArrayBox object at 0x280f66340>, <autograd.numpy.numpy_boxes.ArrayBox object at 0x176877640>, <autograd.numpy.numpy_boxes.ArrayBox object at 0x17679eb40>, <autograd.numpy.numpy_boxes.ArrayBox object at 0x177f2cb00>, <autograd.numpy.numpy_boxes.ArrayBox object at 0x177dab480>]\n",
      "[tensor(0.14015633, requires_grad=True), tensor(-0.37923173, requires_grad=True), tensor(-0.23889566, requires_grad=True), tensor(-0.35469896, requires_grad=True), tensor(-0.13997482, requires_grad=True), tensor(-0.13997482, requires_grad=True), tensor(-0.58976255, requires_grad=True), tensor(-0.36294125, requires_grad=True), tensor(-0.30035525, requires_grad=True)]\n",
      "[<autograd.numpy.numpy_boxes.ArrayBox object at 0x176c39d80>, <autograd.numpy.numpy_boxes.ArrayBox object at 0x280c92c80>, <autograd.numpy.numpy_boxes.ArrayBox object at 0x176aae340>, <autograd.numpy.numpy_boxes.ArrayBox object at 0x28193e700>, <autograd.numpy.numpy_boxes.ArrayBox object at 0x10909ec00>, <autograd.numpy.numpy_boxes.ArrayBox object at 0x28197e2c0>, <autograd.numpy.numpy_boxes.ArrayBox object at 0x177e398c0>, <autograd.numpy.numpy_boxes.ArrayBox object at 0x280aa0580>, <autograd.numpy.numpy_boxes.ArrayBox object at 0x176d280c0>]\n",
      "[tensor(0.14443542, requires_grad=True), tensor(-0.37106728, requires_grad=True), tensor(-0.2361036, requires_grad=True), tensor(-0.35887172, requires_grad=True), tensor(-0.13569715, requires_grad=True), tensor(-0.13569715, requires_grad=True), tensor(-0.60036283, requires_grad=True), tensor(-0.38493276, requires_grad=True), tensor(-0.30176782, requires_grad=True)]\n",
      "[<autograd.numpy.numpy_boxes.ArrayBox object at 0x177942880>, <autograd.numpy.numpy_boxes.ArrayBox object at 0x176e18580>, <autograd.numpy.numpy_boxes.ArrayBox object at 0x280b02c80>, <autograd.numpy.numpy_boxes.ArrayBox object at 0x17682fec0>, <autograd.numpy.numpy_boxes.ArrayBox object at 0x17681ddc0>, <autograd.numpy.numpy_boxes.ArrayBox object at 0x280b02bc0>, <autograd.numpy.numpy_boxes.ArrayBox object at 0x17689bcc0>, <autograd.numpy.numpy_boxes.ArrayBox object at 0x280958400>, <autograd.numpy.numpy_boxes.ArrayBox object at 0x177a98340>]\n",
      "[tensor(0.14802859, requires_grad=True), tensor(-0.36465143, requires_grad=True), tensor(-0.23345131, requires_grad=True), tensor(-0.36155236, requires_grad=True), tensor(-0.13293851, requires_grad=True), tensor(-0.13293851, requires_grad=True), tensor(-0.60792122, requires_grad=True), tensor(-0.39852783, requires_grad=True), tensor(-0.30248586, requires_grad=True)]\n",
      "[<autograd.numpy.numpy_boxes.ArrayBox object at 0x280eeb980>, <autograd.numpy.numpy_boxes.ArrayBox object at 0x177aff900>, <autograd.numpy.numpy_boxes.ArrayBox object at 0x280cd33c0>, <autograd.numpy.numpy_boxes.ArrayBox object at 0x176858740>, <autograd.numpy.numpy_boxes.ArrayBox object at 0x280de6540>, <autograd.numpy.numpy_boxes.ArrayBox object at 0x280a71440>, <autograd.numpy.numpy_boxes.ArrayBox object at 0x176af58c0>, <autograd.numpy.numpy_boxes.ArrayBox object at 0x177affd40>, <autograd.numpy.numpy_boxes.ArrayBox object at 0x17681c280>]\n",
      "[tensor(0.150808, requires_grad=True), tensor(-0.3598725, requires_grad=True), tensor(-0.23124599, requires_grad=True), tensor(-0.3633616, requires_grad=True), tensor(-0.13109083, requires_grad=True), tensor(-0.13109083, requires_grad=True), tensor(-0.61337493, requires_grad=True), tensor(-0.40728411, requires_grad=True), tensor(-0.30293172, requires_grad=True)]\n",
      "[<autograd.numpy.numpy_boxes.ArrayBox object at 0x176ba6140>, <autograd.numpy.numpy_boxes.ArrayBox object at 0x177faa640>, <autograd.numpy.numpy_boxes.ArrayBox object at 0x280b7a780>, <autograd.numpy.numpy_boxes.ArrayBox object at 0x177e1d500>, <autograd.numpy.numpy_boxes.ArrayBox object at 0x2819e3f40>, <autograd.numpy.numpy_boxes.ArrayBox object at 0x177d61fc0>, <autograd.numpy.numpy_boxes.ArrayBox object at 0x177d01f80>, <autograd.numpy.numpy_boxes.ArrayBox object at 0x176a01fc0>, <autograd.numpy.numpy_boxes.ArrayBox object at 0x176b64640>]\n",
      "[tensor(0.15288668, requires_grad=True), tensor(-0.35639473, requires_grad=True), tensor(-0.22953388, requires_grad=True), tensor(-0.36461729, requires_grad=True), tensor(-0.12981962, requires_grad=True), tensor(-0.12981962, requires_grad=True), tensor(-0.61729696, requires_grad=True), tensor(-0.4130819, requires_grad=True), tensor(-0.30322985, requires_grad=True)]\n",
      "[<autograd.numpy.numpy_boxes.ArrayBox object at 0x17681e6c0>, <autograd.numpy.numpy_boxes.ArrayBox object at 0x176a03bc0>, <autograd.numpy.numpy_boxes.ArrayBox object at 0x176c687c0>, <autograd.numpy.numpy_boxes.ArrayBox object at 0x176cc36c0>, <autograd.numpy.numpy_boxes.ArrayBox object at 0x176796c40>, <autograd.numpy.numpy_boxes.ArrayBox object at 0x176cc39c0>, <autograd.numpy.numpy_boxes.ArrayBox object at 0x1779dfd80>, <autograd.numpy.numpy_boxes.ArrayBox object at 0x280f55740>, <autograd.numpy.numpy_boxes.ArrayBox object at 0x177b7af00>]\n",
      "[tensor(0.15441358, requires_grad=True), tensor(-0.35389418, requires_grad=True), tensor(-0.22825545, requires_grad=True), tensor(-0.36550159, requires_grad=True), tensor(-0.12893077, requires_grad=True), tensor(-0.12893077, requires_grad=True), tensor(-0.62010238, requires_grad=True), tensor(-0.41699403, requires_grad=True), tensor(-0.30343354, requires_grad=True)]\n",
      "[<autograd.numpy.numpy_boxes.ArrayBox object at 0x17678d7c0>, <autograd.numpy.numpy_boxes.ArrayBox object at 0x17681d780>, <autograd.numpy.numpy_boxes.ArrayBox object at 0x1768dac40>, <autograd.numpy.numpy_boxes.ArrayBox object at 0x1767f1fc0>, <autograd.numpy.numpy_boxes.ArrayBox object at 0x280a2fa80>, <autograd.numpy.numpy_boxes.ArrayBox object at 0x281a569c0>, <autograd.numpy.numpy_boxes.ArrayBox object at 0x176b29ac0>, <autograd.numpy.numpy_boxes.ArrayBox object at 0x2809efe40>, <autograd.numpy.numpy_boxes.ArrayBox object at 0x176b24f80>]\n",
      "[tensor(0.15552266, requires_grad=True), tensor(-0.35210867, requires_grad=True), tensor(-0.2273226, requires_grad=True), tensor(-0.36612864, requires_grad=True), tensor(-0.12830385, requires_grad=True), tensor(-0.12830385, requires_grad=True), tensor(-0.62210044, requires_grad=True), tensor(-0.41966884, requires_grad=True), tensor(-0.30357352, requires_grad=True)]\n",
      "[<autograd.numpy.numpy_boxes.ArrayBox object at 0x280e5fa00>, <autograd.numpy.numpy_boxes.ArrayBox object at 0x177f12c80>, <autograd.numpy.numpy_boxes.ArrayBox object at 0x280e653c0>, <autograd.numpy.numpy_boxes.ArrayBox object at 0x281ac8440>, <autograd.numpy.numpy_boxes.ArrayBox object at 0x17681c500>, <autograd.numpy.numpy_boxes.ArrayBox object at 0x280efa600>, <autograd.numpy.numpy_boxes.ArrayBox object at 0x1768c6c80>, <autograd.numpy.numpy_boxes.ArrayBox object at 0x177f28980>, <autograd.numpy.numpy_boxes.ArrayBox object at 0x177b30b00>]\n",
      "[tensor(0.15632214, requires_grad=True), tensor(-0.35083908, requires_grad=True), tensor(-0.22665129, requires_grad=True), tensor(-0.36657444, requires_grad=True), tensor(-0.12785984, requires_grad=True), tensor(-0.12785984, requires_grad=True), tensor(-0.62351928, requires_grad=True), tensor(-0.42151484, requires_grad=True), tensor(-0.30366994, requires_grad=True)]\n",
      "[<autograd.numpy.numpy_boxes.ArrayBox object at 0x177d421c0>, <autograd.numpy.numpy_boxes.ArrayBox object at 0x280c28f40>, <autograd.numpy.numpy_boxes.ArrayBox object at 0x177d42cc0>, <autograd.numpy.numpy_boxes.ArrayBox object at 0x177b37880>, <autograd.numpy.numpy_boxes.ArrayBox object at 0x1768bc2c0>, <autograd.numpy.numpy_boxes.ArrayBox object at 0x1768b4940>, <autograd.numpy.numpy_boxes.ArrayBox object at 0x280ed5740>, <autograd.numpy.numpy_boxes.ArrayBox object at 0x2819ec340>, <autograd.numpy.numpy_boxes.ArrayBox object at 0x176c2f200>]\n",
      "[tensor(0.15689538, requires_grad=True), tensor(-0.34993871, requires_grad=True), tensor(-0.22617222, requires_grad=True), tensor(-0.36689151, requires_grad=True), tensor(-0.12754488, requires_grad=True), tensor(-0.12754488, requires_grad=True), tensor(-0.62452487, requires_grad=True), tensor(-0.4227974, requires_grad=True), tensor(-0.30373644, requires_grad=True)]\n",
      "[<autograd.numpy.numpy_boxes.ArrayBox object at 0x177b3c9c0>, <autograd.numpy.numpy_boxes.ArrayBox object at 0x28095ee00>, <autograd.numpy.numpy_boxes.ArrayBox object at 0x280963180>, <autograd.numpy.numpy_boxes.ArrayBox object at 0x28097f840>, <autograd.numpy.numpy_boxes.ArrayBox object at 0x177982a40>, <autograd.numpy.numpy_boxes.ArrayBox object at 0x176ec6980>, <autograd.numpy.numpy_boxes.ArrayBox object at 0x176d78600>, <autograd.numpy.numpy_boxes.ArrayBox object at 0x177dc5d00>, <autograd.numpy.numpy_boxes.ArrayBox object at 0x177fd7680>]\n",
      "[tensor(0.15730483, requires_grad=True), tensor(-0.34930123, requires_grad=True), tensor(-0.22583203, requires_grad=True), tensor(-0.36711691, requires_grad=True), tensor(-0.12732142, requires_grad=True), tensor(-0.12732142, requires_grad=True), tensor(-0.62523671, requires_grad=True), tensor(-0.42369278, requires_grad=True), tensor(-0.30378234, requires_grad=True)]\n",
      "[<autograd.numpy.numpy_boxes.ArrayBox object at 0x280c7e140>, <autograd.numpy.numpy_boxes.ArrayBox object at 0x280c7e400>, <autograd.numpy.numpy_boxes.ArrayBox object at 0x177e53c00>, <autograd.numpy.numpy_boxes.ArrayBox object at 0x280edacc0>, <autograd.numpy.numpy_boxes.ArrayBox object at 0x280e3bc80>, <autograd.numpy.numpy_boxes.ArrayBox object at 0x280a02180>, <autograd.numpy.numpy_boxes.ArrayBox object at 0x2819a5140>, <autograd.numpy.numpy_boxes.ArrayBox object at 0x280ba9800>, <autograd.numpy.numpy_boxes.ArrayBox object at 0x280f0fd40>]\n",
      "[tensor(0.15759648, requires_grad=True), tensor(-0.34885035, requires_grad=True), tensor(-0.22559115, requires_grad=True), tensor(-0.36727696, requires_grad=True), tensor(-0.12716295, requires_grad=True), tensor(-0.12716295, requires_grad=True), tensor(-0.62574022, requires_grad=True), tensor(-0.42432005, requires_grad=True), tensor(-0.30381407, requires_grad=True)]\n",
      "[<autograd.numpy.numpy_boxes.ArrayBox object at 0x280a45200>, <autograd.numpy.numpy_boxes.ArrayBox object at 0x280fbc7c0>, <autograd.numpy.numpy_boxes.ArrayBox object at 0x177fcec40>, <autograd.numpy.numpy_boxes.ArrayBox object at 0x176e9e800>, <autograd.numpy.numpy_boxes.ArrayBox object at 0x280cb25c0>, <autograd.numpy.numpy_boxes.ArrayBox object at 0x176d73840>, <autograd.numpy.numpy_boxes.ArrayBox object at 0x177a09440>, <autograd.numpy.numpy_boxes.ArrayBox object at 0x176adad80>, <autograd.numpy.numpy_boxes.ArrayBox object at 0x177b0ebc0>]\n",
      "[tensor(0.15780381, requires_grad=True), tensor(-0.34853166, requires_grad=True), tensor(-0.22542088, requires_grad=True), tensor(-0.3673905, requires_grad=True), tensor(-0.12705064, requires_grad=True), tensor(-0.12705064, requires_grad=True), tensor(-0.62609619, requires_grad=True), tensor(-0.42476058, requires_grad=True), tensor(-0.303836, requires_grad=True)]\n",
      "[<autograd.numpy.numpy_boxes.ArrayBox object at 0x280c098c0>, <autograd.numpy.numpy_boxes.ArrayBox object at 0x280e701c0>, <autograd.numpy.numpy_boxes.ArrayBox object at 0x280c561c0>, <autograd.numpy.numpy_boxes.ArrayBox object at 0x17688a900>, <autograd.numpy.numpy_boxes.ArrayBox object at 0x177e9b6c0>, <autograd.numpy.numpy_boxes.ArrayBox object at 0x1767cf5c0>, <autograd.numpy.numpy_boxes.ArrayBox object at 0x280e69a40>, <autograd.numpy.numpy_boxes.ArrayBox object at 0x280f60b80>, <autograd.numpy.numpy_boxes.ArrayBox object at 0x177bf27c0>]\n",
      "[tensor(0.15795096, requires_grad=True), tensor(-0.34830648, requires_grad=True), tensor(-0.22530063, requires_grad=True), tensor(-0.36747096, requires_grad=True), tensor(-0.12697111, requires_grad=True), tensor(-0.12697111, requires_grad=True), tensor(-0.62634778, requires_grad=True), tensor(-0.42507054, requires_grad=True), tensor(-0.30385118, requires_grad=True)]\n",
      "[<autograd.numpy.numpy_boxes.ArrayBox object at 0x280b4bb00>, <autograd.numpy.numpy_boxes.ArrayBox object at 0x280c22540>, <autograd.numpy.numpy_boxes.ArrayBox object at 0x176ede680>, <autograd.numpy.numpy_boxes.ArrayBox object at 0x177d7fcc0>, <autograd.numpy.numpy_boxes.ArrayBox object at 0x280de57c0>, <autograd.numpy.numpy_boxes.ArrayBox object at 0x280c23640>, <autograd.numpy.numpy_boxes.ArrayBox object at 0x177d47740>, <autograd.numpy.numpy_boxes.ArrayBox object at 0x280e99f80>, <autograd.numpy.numpy_boxes.ArrayBox object at 0x176896e00>]\n",
      "[tensor(0.15805529, requires_grad=True), tensor(-0.34814742, requires_grad=True), tensor(-0.22521574, requires_grad=True), tensor(-0.36752793, requires_grad=True), tensor(-0.12691482, requires_grad=True), tensor(-0.12691482, requires_grad=True), tensor(-0.62652555, requires_grad=True), tensor(-0.42528892, requires_grad=True), tensor(-0.30386167, requires_grad=True)]\n",
      "[<autograd.numpy.numpy_boxes.ArrayBox object at 0x176d1cb00>, <autograd.numpy.numpy_boxes.ArrayBox object at 0x177b65d00>, <autograd.numpy.numpy_boxes.ArrayBox object at 0x177b684c0>, <autograd.numpy.numpy_boxes.ArrayBox object at 0x176d01f80>, <autograd.numpy.numpy_boxes.ArrayBox object at 0x176ed7fc0>, <autograd.numpy.numpy_boxes.ArrayBox object at 0x176c68e00>, <autograd.numpy.numpy_boxes.ArrayBox object at 0x280eab680>, <autograd.numpy.numpy_boxes.ArrayBox object at 0x177d8cd80>, <autograd.numpy.numpy_boxes.ArrayBox object at 0x176aebb80>]\n",
      "[tensor(0.1581292, requires_grad=True), tensor(-0.34803508, requires_grad=True), tensor(-0.22515582, requires_grad=True), tensor(-0.36756823, requires_grad=True), tensor(-0.12687501, requires_grad=True), tensor(-0.12687501, requires_grad=True), tensor(-0.62665115, requires_grad=True), tensor(-0.42544292, requires_grad=True), tensor(-0.30386894, requires_grad=True)]\n",
      "[<autograd.numpy.numpy_boxes.ArrayBox object at 0x2809577c0>, <autograd.numpy.numpy_boxes.ArrayBox object at 0x17689bf40>, <autograd.numpy.numpy_boxes.ArrayBox object at 0x28094b900>, <autograd.numpy.numpy_boxes.ArrayBox object at 0x176d3e3c0>, <autograd.numpy.numpy_boxes.ArrayBox object at 0x281ac22c0>, <autograd.numpy.numpy_boxes.ArrayBox object at 0x280a6c200>, <autograd.numpy.numpy_boxes.ArrayBox object at 0x280c2b600>, <autograd.numpy.numpy_boxes.ArrayBox object at 0x177afdec0>, <autograd.numpy.numpy_boxes.ArrayBox object at 0x280f0b340>]\n",
      "[tensor(0.15818153, requires_grad=True), tensor(-0.34795574, requires_grad=True), tensor(-0.22511353, requires_grad=True), tensor(-0.36759673, requires_grad=True), tensor(-0.12684688, requires_grad=True), tensor(-0.12684688, requires_grad=True), tensor(-0.62673988, requires_grad=True), tensor(-0.4255516, requires_grad=True), tensor(-0.30387396, requires_grad=True)]\n",
      "1.0 -2.3923436586358204 22\n"
     ]
    }
   ],
   "source": [
    "hopping = [1.0]\n",
    "for j in range(1):\n",
    "    print(j)\n",
    "    for t in hopping:\n",
    "        params1 = {\n",
    "        \"sites\": 3, \n",
    "        \"hopping\": 1,\n",
    "        \"potential\": t, \n",
    "        \"pattern\": \"close\"\n",
    "        }\n",
    "\n",
    "        hubbard_chain1 = vqe_fermihubbard(params1)\n",
    "        \n",
    "        ansatz_params = {\n",
    "            \"repetitions\": 1,\n",
    "            \"base\": \"default.qubit\",\n",
    "            \"interface\": \"autograd\",\n",
    "            \"electrons\": params1[\"sites\"],\n",
    "            \"qubits\": hubbard_chain1.qubits,\n",
    "        }\n",
    "\n",
    "        ansazt = uccds_ansatz()\n",
    "        ansazt.set_device( ansatz_params )\n",
    "        ansazt.set_node( ansatz_params )\n",
    "        ansazt.set_state( ansatz_params[\"electrons\"] )\n",
    "\n",
    "        minimizate_params = {\n",
    "                \"type\": \"SLSQP\",\n",
    "                \"maxiter\": 60,\n",
    "                \"tol\": 0.000001,\n",
    "                \"number\":  len(ansazt.singles) + len(ansazt.doubles),\n",
    "                \"theta\":[\"generic\", 0.3]}\n",
    "\n",
    "        hubbard_chain1.node = ansazt.node\n",
    "        optimizer = gradiend_optimizer(minimizate_params)\n",
    "        energy1, optimum = optimizer.VQE(hubbard_chain1.cost_function)\n",
    "        print( t, energy1[-1], len(energy1) )\n",
    "        #valores_ucc.append(energy1[-1])"
   ]
  },
  {
   "cell_type": "markdown",
   "metadata": {},
   "source": [
    "### Memoria"
   ]
  },
  {
   "cell_type": "code",
   "execution_count": null,
   "metadata": {},
   "outputs": [],
   "source": [
    "from pympler import asizeof\n",
    "\n",
    "def MemoriaFH(params):\n",
    "    qubits = params[\"sites\"]*2\n",
    "    hopping = params[\"hopping\"]\n",
    "    potential = params[\"potential\"]\n",
    "    fermi_sentence = 0.0\n",
    "    fermi_hopping = 0.0\n",
    "    fermi_potential = 0.0\n",
    "    \n",
    "\n",
    "    if params[\"sites\"] == 1:\n",
    "        fermi_sentence +=  potential*FermiC(0)*FermiA(0)*FermiC(1)*FermiA(1)\n",
    "    else:\n",
    "        for i in range(params[\"sites\"]-1):\n",
    "            if hopping != 0.0:\n",
    "                fermi_hopping +=  FermiC(2*i)*FermiA(2*i +2) + FermiC(2*i +2)*FermiA(2*i)\n",
    "                fermi_hopping +=  FermiC(2*i+1)*FermiA(2*i +3) + FermiC(2*i +3)*FermiA(2*i +1)  \n",
    "            \n",
    "        for i in range(params[\"sites\"]):\n",
    "            if potential != 0.0:\n",
    "                fermi_potential += FermiC(2*i)*FermiA(2*i)*FermiC(2*i +1)*FermiA(2*i +1)\n",
    "\n",
    "        if params[\"pattern\"] == \"close\" and params[\"sites\"] != 2:\n",
    "            qsite = 2*(params[\"sites\"]-1)\n",
    "            fermi_hopping +=  FermiC(0)*FermiA(qsite) + FermiC(qsite)*FermiA(0)\n",
    "            fermi_hopping +=  FermiC(1)*FermiA(qsite+1) + FermiC(qsite+1)*FermiA(1) \n",
    "\n",
    "    fermi_sentence = -hopping*fermi_hopping + potential*fermi_potential\n",
    "\n",
    "    h = qml.jordan_wigner( fermi_sentence)\n",
    "    return asizeof.asizeof(h)"
   ]
  },
  {
   "cell_type": "code",
   "execution_count": null,
   "metadata": {},
   "outputs": [],
   "source": [
    "for i in range(1, 8):\n",
    "    params1 = {\n",
    "    \"sites\": i+1,\n",
    "    \"hopping\": 1, \n",
    "    \"potential\": 2.0,\n",
    "    \"pattern\": \"close\"\n",
    "    }\n",
    "\n",
    "    print( MemoriaFH(params1) )"
   ]
  },
  {
   "cell_type": "code",
   "execution_count": null,
   "metadata": {},
   "outputs": [],
   "source": [
    "for i in range(1, 8):\n",
    "    params1 = {\n",
    "    \"sites\": i+1,\n",
    "    \"hopping\": 1, \n",
    "    \"potential\": 2.0,\n",
    "    \"pattern\": \"close\"\n",
    "    }\n",
    "    hubbard_chain1 = vqe_fermihubbard(params1)\n",
    "    hubbard_chain1.set_group_characteristics()\n",
    "\n",
    "    print( asizeof.asizeof(hubbard_chain1) )"
   ]
  },
  {
   "cell_type": "markdown",
   "metadata": {},
   "source": [
    "### Barrido hopping"
   ]
  },
  {
   "cell_type": "code",
   "execution_count": null,
   "metadata": {},
   "outputs": [],
   "source": [
    "hopping = np.linspace(-1.5, 1.5, 13)\n",
    "valores_kup = []\n",
    "\n",
    "for i in range(5):\n",
    "    print(i+1)\n",
    "    for t in hopping:\n",
    "        if t == 0.0:\n",
    "            pass\n",
    "        else:\n",
    "            params1 = {\n",
    "            \"sites\": 5, \n",
    "            \"hopping\": t,\n",
    "            \"potential\": 0.0, \n",
    "            \"pattern\": \"open\"\n",
    "            }\n",
    "\n",
    "            hubbard_chain1 = vqe_fermihubbard(params1)\n",
    "            hubbard_chain1.set_group_characteristics()\n",
    "\n",
    "            ansatz_params = {\n",
    "                \"repetitions\": 1,\n",
    "                \"base\": \"default.qubit\",\n",
    "                \"interface\": \"autograd\",\n",
    "                \"electrons\": params1[\"sites\"],\n",
    "                \"qubits\": hubbard_chain1.qubits,\n",
    "            }\n",
    "            ansazt = upccgsd_ansatz()\n",
    "            ansazt.set_device( ansatz_params )\n",
    "            ansazt.set_node( ansatz_params )\n",
    "            ansazt.set_state( ansatz_params[\"electrons\"] )\n",
    "            a,b = qml.kUpCCGSD.shape(k=ansatz_params[\"repetitions\"], n_wires=hubbard_chain1.qubits, delta_sz=0)\n",
    "\n",
    "            minimizate_params = {\n",
    "                    \"type\": \"SLSQP\",\n",
    "                    \"maxiter\": 100,\n",
    "                    \"tol\": 1e-6,\n",
    "                    \"number\":  a*b,\n",
    "                    \"theta\":[\"generic\", 0.3]}\n",
    "\n",
    "            hubbard_chain1.node = ansazt.node\n",
    "            optimizer = gradiend_optimizer(minimizate_params)\n",
    "            energy1, optimum = optimizer.VQE(hubbard_chain1.cost_function)\n",
    "            print(t, energy1[-1], len(energy1))\n",
    "            valores_kup.append(energy1[-1])"
   ]
  },
  {
   "cell_type": "code",
   "execution_count": null,
   "metadata": {},
   "outputs": [],
   "source": [
    "hopping = np.linspace(-1.5, 1.5, 13)\n",
    "valores_kup = []\n",
    "\n",
    "for i in range(1):\n",
    "    print(i+1)\n",
    "    for t in hopping:\n",
    "        if t == 0.0:\n",
    "            pass\n",
    "        else:\n",
    "            params1 = {\n",
    "            \"sites\": 6, \n",
    "            \"hopping\": t,\n",
    "            \"potential\": 0.0, \n",
    "            \"pattern\": \"open\"\n",
    "            }\n",
    "\n",
    "            hubbard_chain1 = vqe_fermihubbard(params1)\n",
    "            hubbard_chain1.set_group_characteristics()\n",
    "\n",
    "            ansatz_params = {\n",
    "                \"repetitions\": 1,\n",
    "                \"base\": \"default.qubit\",\n",
    "                \"interface\": \"autograd\",\n",
    "                \"electrons\": params1[\"sites\"],\n",
    "                \"qubits\": hubbard_chain1.qubits,\n",
    "            }\n",
    "            ansazt = upccgsd_ansatz()\n",
    "            ansazt.set_device( ansatz_params )\n",
    "            ansazt.set_node( ansatz_params )\n",
    "            ansazt.set_state( ansatz_params[\"electrons\"] )\n",
    "            a,b = qml.kUpCCGSD.shape(k=ansatz_params[\"repetitions\"], n_wires=hubbard_chain1.qubits, delta_sz=0)\n",
    "\n",
    "            minimizate_params = {\n",
    "                    \"type\": \"SLSQP\",\n",
    "                    \"maxiter\": 100,\n",
    "                    \"tol\": 1e-6,\n",
    "                    \"number\":  a*b,\n",
    "                    \"theta\":[\"generic\", 0.3]}\n",
    "\n",
    "            hubbard_chain1.node = ansazt.node\n",
    "            optimizer = gradiend_optimizer(minimizate_params)\n",
    "            energy1, optimum = optimizer.VQE(hubbard_chain1.cost_function)\n",
    "            print(t, energy1[-1], len(energy1))\n",
    "            valores_kup.append(energy1[-1])"
   ]
  },
  {
   "cell_type": "code",
   "execution_count": null,
   "metadata": {},
   "outputs": [],
   "source": []
  },
  {
   "cell_type": "code",
   "execution_count": null,
   "metadata": {},
   "outputs": [],
   "source": []
  },
  {
   "cell_type": "code",
   "execution_count": null,
   "metadata": {},
   "outputs": [],
   "source": [
    "fig, ax = plt.subplots(1, 1, figsize=(5,4),)\n",
    "ax.set_xlabel(\"Hopping\", fontsize=13)\n",
    "ax.set_ylabel(\"Energía\", fontsize=13)\n",
    "\n",
    "ax.plot(hopping, exacto, color=\"black\", ls=\"dashed\", label=\"Exacto\")\n",
    "ax.plot(hopping, valores_kup, marker='o', ls=\"dashed\", label=\"k-UpCCGSD\")\n",
    "ax.plot(hopping, valores_ucc, marker='o', ls=\"dashed\", label=\"UCCSD\")\n",
    "\n",
    "ax.legend(loc=\"upper right\", fontsize='medium',frameon=True, edgecolor='k', ncol=1)\n",
    "fig.tight_layout()\n",
    "plt.show()"
   ]
  },
  {
   "cell_type": "markdown",
   "metadata": {},
   "source": [
    "### Barrido theta"
   ]
  },
  {
   "cell_type": "code",
   "execution_count": null,
   "metadata": {},
   "outputs": [],
   "source": [
    "params1 = {\n",
    "    \"sites\": 3,  #Numero de sitios 2,4,6\n",
    "    \"hopping\": 1.5, #Este hay que dejarlo fijo\n",
    "    \"potential\": 0.0, #Este hay que variarlo\n",
    "    \"pattern\": \"open\" #Este se puede variar <close> o <open>\n",
    "}\n",
    "\n",
    "hubbard_chain1 = vqe_fermihubbard(params1)\n",
    "hubbard_chain1.set_group_characteristics()\n",
    "\n",
    "ansatz_params = {\n",
    "    \"repetitions\": 1,\n",
    "    \"base\": \"default.qubit\",\n",
    "    \"interface\": \"autograd\",\n",
    "    \"electrons\": params1[\"sites\"],\n",
    "    \"qubits\": hubbard_chain1.qubits,\n",
    "}\n",
    "\n",
    "ansazt = upccgsd_ansatz()\n",
    "ansazt.set_device( ansatz_params )\n",
    "ansazt.set_node( ansatz_params )\n",
    "ansazt.set_state( ansatz_params[\"electrons\"] )\n",
    "a,b = qml.kUpCCGSD.shape(k=ansatz_params[\"repetitions\"], n_wires=hubbard_chain1.qubits, delta_sz=0)"
   ]
  },
  {
   "cell_type": "code",
   "execution_count": null,
   "metadata": {},
   "outputs": [],
   "source": [
    "theta = np.linspace(0.2, 0.5, 11)\n",
    "valores = []\n",
    "for t in theta:\n",
    "    print(t)\n",
    "    minimizate_params = {\n",
    "            \"type\": \"SLSQP\",\n",
    "            \"maxiter\": 40,\n",
    "            \"tol\": 1e-6,\n",
    "            \"number\":  a*b,\n",
    "            \"theta\":[\"generic\", t]}\n",
    "\n",
    "    hubbard_chain1.node = ansazt.node\n",
    "    optimizer = gradiend_optimizer(minimizate_params)\n",
    "    energy1, optimum = optimizer.VQE(hubbard_chain1.cost_function)\n",
    "    print( len(energy1) )\n",
    "    valores.append(energy1)"
   ]
  },
  {
   "cell_type": "code",
   "execution_count": null,
   "metadata": {},
   "outputs": [],
   "source": [
    "ee = FHExacto(params1)\n",
    "\n",
    "fig, ax = plt.subplots(1, 2, figsize=(8,4),)\n",
    "ax[0].set_xlabel(\"Optimization step\", fontsize=13)\n",
    "ax[0].set_ylabel(\"Energy\", fontsize=13)\n",
    "\n",
    "ax[1].set_xlabel(\"Optimization step\", fontsize=13)\n",
    "ax[1].set_ylabel(\"Error\", fontsize=13)\n",
    "\n",
    "for i, val in enumerate(valores):\n",
    "    ax[0].plot([j for j in range(len(val))], val, ls=\"dashed\", label=\"theta\"+str(np.round(theta[i],3)))\n",
    "    ax[1].plot([j for j in range(len(val))], [np.abs(val[j] -ee[0]) for j in range(len(val))], ls=\"dashed\")\n",
    "\n",
    "ax[0].plot([j for j in range( 40 ) ], [ee[0] for j in range(40)], color=\"black\", ls=\"dashed\")\n",
    "ax[1].set_yscale(\"log\")\n",
    "\n",
    "ax[0].legend(loc=\"upper right\", fontsize='medium',frameon=True, edgecolor='k', ncol=2)\n",
    "fig.tight_layout()\n",
    "plt.show()"
   ]
  },
  {
   "cell_type": "markdown",
   "metadata": {},
   "source": [
    "### Open model"
   ]
  },
  {
   "cell_type": "code",
   "execution_count": null,
   "metadata": {},
   "outputs": [],
   "source": [
    "params1 = {\n",
    "    \"sites\": 4,  #Numero de sitios 2,4,6\n",
    "    \"hopping\": 0.75, #Este hay que dejarlo fijo\n",
    "    \"potential\": 0, #Este hay que variarlo\n",
    "    \"pattern\": \"close\" #Este se puede variar <close> o <open>\n",
    "}\n",
    "\n",
    "hubbard_chain1 = vqe_fermihubbard(params1)\n",
    "hubbard_chain1.set_group_characteristics()"
   ]
  },
  {
   "cell_type": "code",
   "execution_count": null,
   "metadata": {},
   "outputs": [],
   "source": [
    "valores_kup = []\n",
    "for k in range(1):\n",
    "    print(k+1)\n",
    "    ansatz_params = {\n",
    "        \"repetitions\": k+1,\n",
    "        \"base\": \"default.qubit\",\n",
    "        \"interface\": \"autograd\",\n",
    "        \"electrons\": params1[\"sites\"],\n",
    "        \"qubits\": hubbard_chain1.qubits,\n",
    "        \"pattern\": \"chain\"\n",
    "    }\n",
    "\n",
    "    ansazt = upccgsd_ansatz()\n",
    "    ansazt.set_device( ansatz_params )\n",
    "    ansazt.set_node( ansatz_params )\n",
    "    ansazt.set_state( ansatz_params[\"electrons\"] )\n",
    "    a,b = qml.kUpCCGSD.shape(k=ansatz_params[\"repetitions\"], n_wires=hubbard_chain1.qubits, delta_sz=0)\n",
    "\n",
    "    minimizate_params = {\n",
    "            \"type\": \"SLSQP\",\n",
    "            \"maxiter\": 40,\n",
    "            \"tol\": 1e-6,\n",
    "            \"number\":  a*b,\n",
    "            \"theta\":[\"generic\", 0.3]}\n",
    "\n",
    "    hubbard_chain1.node = ansazt.node\n",
    "    optimizer = gradiend_optimizer(minimizate_params)\n",
    "    energy1, optimum = optimizer.VQE(hubbard_chain1.cost_function)\n",
    "    valores_kup.append(energy1)"
   ]
  },
  {
   "cell_type": "code",
   "execution_count": null,
   "metadata": {},
   "outputs": [],
   "source": [
    "valores_ucc = []\n",
    "for k in range(1):\n",
    "    ansatz_params = {\n",
    "        \"repetitions\": k+1,\n",
    "        \"base\": \"default.qubit\",\n",
    "        \"interface\": \"autograd\",\n",
    "        \"electrons\": params1[\"sites\"],\n",
    "        \"qubits\": hubbard_chain1.qubits,\n",
    "        \"pattern\": \"chain\"\n",
    "    }\n",
    "\n",
    "\n",
    "    ansazt = uccds_ansatz()\n",
    "    ansazt.set_device( ansatz_params )\n",
    "    ansazt.set_node( ansatz_params )\n",
    "    ansazt.set_state( ansatz_params[\"electrons\"] )\n",
    "\n",
    "    minimizate_params = {\n",
    "            \"type\": \"SLSQP\",\n",
    "            \"maxiter\": 40,\n",
    "            \"tol\": 0.000001,\n",
    "            \"number\":  len(ansazt.singles) + len(ansazt.doubles),\n",
    "            \"theta\":[\"generic\", 0.3]}\n",
    "\n",
    "    hubbard_chain1.node = ansazt.node\n",
    "    optimizer = gradiend_optimizer(minimizate_params)\n",
    "    energy1, optimum = optimizer.VQE(hubbard_chain1.cost_function)\n",
    "    valores_ucc.append(energy1)"
   ]
  },
  {
   "cell_type": "code",
   "execution_count": null,
   "metadata": {},
   "outputs": [],
   "source": [
    "ee = FHExacto(params1)\n",
    "\n",
    "fig, ax = plt.subplots(1, 2, figsize=(8,4),)\n",
    "ax[0].set_xlabel(\"Optimization step\", fontsize=13)\n",
    "ax[0].set_ylabel(\"Energy\", fontsize=13)\n",
    "\n",
    "ax[1].set_xlabel(\"Optimization step\", fontsize=13)\n",
    "ax[1].set_ylabel(\"Error\", fontsize=13)\n",
    "\n",
    "for i, val in enumerate(valores_kup):\n",
    "    ax[0].plot([j for j in range(len(val))], val, ls=\"dashed\", label=\"k-UpCCGSD\")\n",
    "    ax[1].plot([i for i in range(len(val))], [np.abs(val[j] -ee[0]) for j in range(len(val))], ls=\"dashed\", label=\"k-UpCCGSD\")\n",
    "\n",
    "for i, val in enumerate(valores_ucc):\n",
    "    ax[0].plot([j for j in range(len(val))], val, ls=\"dashed\", label=\"UCCSD\")\n",
    "    ax[1].plot([i for i in range(len(val))], [np.abs(val[j] -ee[0]) for j in range(len(val))], ls=\"dashed\", label=\"UCCSD\")\n",
    "\n",
    "ax[0].plot([j for j in range( 40 ) ], [ee[0] for j in range(40)], color=\"black\", ls=\"dashed\")\n",
    "ax[1].set_yscale(\"log\")\n",
    "\n",
    "ax[0].legend(loc=\"upper right\", fontsize='medium',frameon=True, edgecolor='k', ncol=2)\n",
    "fig.tight_layout()\n",
    "plt.show()"
   ]
  },
  {
   "cell_type": "markdown",
   "metadata": {},
   "source": [
    "### Tiempo"
   ]
  },
  {
   "cell_type": "code",
   "execution_count": null,
   "metadata": {},
   "outputs": [],
   "source": [
    "params1 = {\n",
    "    \"sites\": 4,  \n",
    "    \"hopping\": 1.0, \n",
    "    \"potential\": 0.0, \n",
    "    \"pattern\": \"open\" \n",
    "}\n",
    "hubbard_chain1 = vqe_fermihubbard(params1)\n",
    "hubbard_chain1.set_group_characteristics()\n",
    "print( len(hubbard_chain1.hamiltonian_object) )\n",
    "ansatz_params = {\n",
    "    \"repetitions\": 1,\n",
    "    \"base\": \"default.qubit\",\n",
    "    \"interface\": \"autograd\",\n",
    "    \"electrons\": params1[\"sites\"],\n",
    "    \"qubits\": hubbard_chain1.qubits,\n",
    "    \"pattern\": \"chain\"\n",
    "}\n",
    "ansazt = upccgsd_ansatz()\n",
    "ansazt.set_device( ansatz_params )\n",
    "ansazt.set_node( ansatz_params )\n",
    "ansazt.set_state( ansatz_params[\"electrons\"] )\n",
    "a,b = qml.kUpCCGSD.shape(k=ansatz_params[\"repetitions\"], n_wires=hubbard_chain1.qubits, delta_sz=0)\n",
    "\n",
    "minimizate_params = {\n",
    "    \"type\": \"SLSQP\",\n",
    "    \"maxiter\": 60,\n",
    "    \"tol\": 1e-6,\n",
    "    \"number\":  a*b,\n",
    "    \"theta\":[\"generic\", 0.30]}\n",
    "\n",
    "hubbard_chain1.node = ansazt.node\n",
    "\n",
    "tiempo = []\n",
    "for i in range(10):\n",
    "    optimizer = gradiend_optimizer(minimizate_params)\n",
    "    print(i+1)\n",
    "    inicio = time.time()\n",
    "    energy1, optimum = optimizer.VQE(hubbard_chain1.cost_function)\n",
    "    final = time.time()\n",
    "\n",
    "    tiempo.append(final-inicio)\n",
    "    print(tiempo)"
   ]
  },
  {
   "cell_type": "code",
   "execution_count": null,
   "metadata": {},
   "outputs": [],
   "source": [
    "tiempo"
   ]
  },
  {
   "cell_type": "code",
   "execution_count": null,
   "metadata": {},
   "outputs": [],
   "source": [
    "def FHExacto_tiempo(params):\n",
    "    qubits = params[\"sites\"]*2\n",
    "    hopping = params[\"hopping\"]\n",
    "    potential = params[\"potential\"]\n",
    "    fermi_sentence = 0.0\n",
    "    fermi_hopping = 0.0\n",
    "    fermi_potential = 0.0\n",
    "    \n",
    "\n",
    "    if params[\"sites\"] == 1:\n",
    "        fermi_sentence +=  potential*FermiC(0)*FermiA(0)*FermiC(1)*FermiA(1)\n",
    "    else:\n",
    "        for i in range(params[\"sites\"]-1):\n",
    "            if hopping != 0.0:\n",
    "                fermi_hopping +=  FermiC(2*i)*FermiA(2*i +2) + FermiC(2*i +2)*FermiA(2*i)\n",
    "                fermi_hopping +=  FermiC(2*i+1)*FermiA(2*i +3) + FermiC(2*i +3)*FermiA(2*i +1)  \n",
    "            \n",
    "        for i in range(params[\"sites\"]):\n",
    "            if potential != 0.0:\n",
    "                fermi_potential += FermiC(2*i)*FermiA(2*i)*FermiC(2*i +1)*FermiA(2*i +1)\n",
    "\n",
    "        if params[\"pattern\"] == \"close\" and params[\"sites\"] != 2:\n",
    "            qsite = 2*(params[\"sites\"]-1)\n",
    "            fermi_hopping +=  FermiC(0)*FermiA(qsite) + FermiC(qsite)*FermiA(0)\n",
    "            fermi_hopping +=  FermiC(1)*FermiA(qsite+1) + FermiC(qsite+1)*FermiA(1) \n",
    "\n",
    "    fermi_sentence = -hopping*fermi_hopping + potential*fermi_potential\n",
    "\n",
    "    h = qml.jordan_wigner( fermi_sentence)\n",
    "    h = h.sparse_matrix().toarray()\n",
    "    inicio = time.time()\n",
    "    val, vec = np.linalg.eigh(h)\n",
    "    final = time.time()\n",
    "    return final-inicio"
   ]
  },
  {
   "cell_type": "code",
   "execution_count": null,
   "metadata": {},
   "outputs": [],
   "source": [
    "params1 = {\n",
    "    \"sites\": 7,  \n",
    "    \"hopping\": 1.5, \n",
    "    \"potential\": 0.0, \n",
    "    \"pattern\": \"open\" \n",
    "}\n",
    "\n",
    "for i in range(10):\n",
    "    print( FHExacto_tiempo(params1) )"
   ]
  }
 ],
 "metadata": {
  "kernelspec": {
   "display_name": "env",
   "language": "python",
   "name": "python3"
  },
  "language_info": {
   "codemirror_mode": {
    "name": "ipython",
    "version": 3
   },
   "file_extension": ".py",
   "mimetype": "text/x-python",
   "name": "python",
   "nbconvert_exporter": "python",
   "pygments_lexer": "ipython3",
   "version": "3.9.6"
  },
  "orig_nbformat": 4
 },
 "nbformat": 4,
 "nbformat_minor": 2
}
